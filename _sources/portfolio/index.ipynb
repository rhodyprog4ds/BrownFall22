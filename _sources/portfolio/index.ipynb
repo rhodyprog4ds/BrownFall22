{
 "cells": [
  {
   "cell_type": "markdown",
   "id": "4ab0ed35",
   "metadata": {},
   "source": [
    "(portolioindex)=\n",
    "# Portfolio"
   ]
  },
  {
   "cell_type": "code",
   "execution_count": 1,
   "id": "65be8360",
   "metadata": {
    "tags": [
     "remove-input"
    ]
   },
   "outputs": [
    {
     "name": "stderr",
     "output_type": "stream",
     "text": [
      "/tmp/ipykernel_2776/1159722460.py:26: FutureWarning: Using the level keyword in DataFrame and Series aggregations is deprecated and will be removed in a future version. Use groupby instead. df.sum(level=1) should use df.groupby(level=1).sum().\n",
      "  assignment_dummies  = pd.get_dummies(rubric_df['assignments'].apply(pd.Series).stack()).sum(level=0)\n",
      "/tmp/ipykernel_2776/1159722460.py:31: FutureWarning: Using the level keyword in DataFrame and Series aggregations is deprecated and will be removed in a future version. Use groupby instead. df.sum(level=1) should use df.groupby(level=1).sum().\n",
      "  portfolio_dummies  = pd.get_dummies(rubric_df['portfolios'].apply(pd.Series).stack()).sum(level=0)\n"
     ]
    }
   ],
   "source": [
    "\n",
    "import yaml as yml\n",
    "import pandas as pd\n",
    "import os\n",
    "pd.set_option('display.max_colwidth', None)\n",
    "\n",
    "\n",
    "def yml_df(file):\n",
    "    with open(file, 'r') as f:\n",
    "        file_unparsed = f.read()\n",
    "\n",
    "    file_dict = yml.safe_load(file_unparsed)\n",
    "    return pd.DataFrame(file_dict)\n",
    "\n",
    "outcomes_df = yml_df('../_data/learning_outcomes.yml')\n",
    "outcomes_df.set_index('keyword',inplace=True)\n",
    "schedule_df = yml_df('../_data/schedule.yml')\n",
    "schedule_df.set_index('week', inplace=True)\n",
    "# schedule_df = pd.merge(schedule_df,outcomes_df,right_on='keyword',  left_on= 'clo')\n",
    "rubric_df = yml_df('../_data/rubric.yml')\n",
    "rubric_df.set_index('keyword', inplace=True)\n",
    "rubric_df.replace({None:'TBD'},inplace=True)\n",
    "rubric_df.rename(columns={'mastery':'Level 3',\n",
    "              'compentent':'Level 2',\n",
    "              'aware':'Level 1'}, inplace=True)\n",
    "\n",
    "assignment_dummies  = pd.get_dummies(rubric_df['assignments'].apply(pd.Series).stack()).sum(level=0)\n",
    "assignment_dummies['# Assignments'] = assignment_dummies.sum(axis=1)\n",
    "col_rename = {float(i):'A' + str(i) for i in range(1,14)}\n",
    "assignment_dummies.rename(columns =col_rename,inplace=True)\n",
    "\n",
    "portfolio_dummies  = pd.get_dummies(rubric_df['portfolios'].apply(pd.Series).stack()).sum(level=0)\n",
    "col_rename = {float(i):'P' + str(i) for i in range(1,5)}\n",
    "portfolio_dummies.rename(columns =col_rename,inplace=True)\n",
    "\n",
    "\n",
    "rubric_df = pd.concat([rubric_df,\n",
    "                      assignment_dummies,\n",
    "                      portfolio_dummies],axis=1)\n",
    "\n",
    "assignment_cols =  ['A'+ str(i) for i in range(1,14)] + ['# Assignments']\n",
    "\n",
    "portfolio_cols = [ 'Level 3'] + ['P' + str(i) for i in range(1,5)]\n",
    "portfolio_df = rubric_df[portfolio_cols]"
   ]
  },
  {
   "cell_type": "markdown",
   "id": "7dd8aae9",
   "metadata": {},
   "source": [
    "This section of the site has a set of portfolio prompts and this page has instructions for portfolio submissions.  \n",
    "\n",
    "Starting in week 3 it is recommended that you spend some time each week working on items for your portfolio, that way when it's time to submit you only have a little bit to add before submission.\n",
    "\n",
    "The portfolio is your only chance to earn Level 3 achievements, however, if you have not earned a level 2 for any of the skills in a given check, you could earn level 2 then instead.\n",
    "The prompts provide a starting point, but remember that to earn achievements, you'll be evaluated by the rubric.\n",
    "You can see the full rubric for all portfolios in the [syllabus](portfolioskills).\n",
    "Your portfolio is also an opportunity to be creative, explore things, and answer your own questions that we haven't answered in class to dig deeper on the topics we're covering.\n",
    "Use the feedback you get on assignments to inspire your portfolio.\n",
    "\n",
    "Each submission should include an introduction and a number of 'chapters'.  The grade will be based on both that you demonstrate skills through your chapters that are inspired by the prompts and that your summary demonstrates that you *know* you learned the skills. See the [formatting tips](formatting) for advice on how to structure files.\n",
    "\n",
    "\n",
    "On each chapter(for a file) of your portfolio, you should identify which skills by their keyword, you are applying.\n",
    "\n",
    "You can view a (fake) example [in this repository](https://github.com/rhodyprog4ds/portfolio-brownsarahm) as a [pdf](https://github.com/rhodyprog4ds/portfolio-brownsarahm/blob/gh-pages/portfolio.pdf) or as a [rendered website](https://rhodyprog4ds.github.io/portfolio-brownsarahm/intro.html)\n",
    "\n",
    "## Upcoming Checks\n",
    "\n",
    "<!-- ### Portfolio 1 -->\n",
    "\n",
    "- Portfolio Check 2 is due November 14\n",
    "- Portfolio check 3 is due December 6\n",
    "- Portfolio check 4 is due December 19\n",
    "\n",
    "\n",
    "\n",
    "```{important}\n",
    "start early, assignment 9 and 10 will be due on Wednesdays like regular the week before and of this deadline. You will get feedback on Assignment 9 by Friday so that you can use that to update your portfolio on the construct achievements.\n",
    "```\n",
    "\n",
    "Portfolio check 2 will assess the following *new* achievements in addition to an a chance to make up any that you have missed:"
   ]
  },
  {
   "cell_type": "code",
   "execution_count": 2,
   "id": "dcad67f9",
   "metadata": {
    "tags": [
     "remove-input"
    ]
   },
   "outputs": [
    {
     "data": {
      "text/html": [
       "<div>\n",
       "<style scoped>\n",
       "    .dataframe tbody tr th:only-of-type {\n",
       "        vertical-align: middle;\n",
       "    }\n",
       "\n",
       "    .dataframe tbody tr th {\n",
       "        vertical-align: top;\n",
       "    }\n",
       "\n",
       "    .dataframe thead th {\n",
       "        text-align: right;\n",
       "    }\n",
       "</style>\n",
       "<table border=\"1\" class=\"dataframe\">\n",
       "  <thead>\n",
       "    <tr style=\"text-align: right;\">\n",
       "      <th></th>\n",
       "      <th>Level 3</th>\n",
       "    </tr>\n",
       "    <tr>\n",
       "      <th>keyword</th>\n",
       "      <th></th>\n",
       "    </tr>\n",
       "  </thead>\n",
       "  <tbody>\n",
       "    <tr>\n",
       "      <th>python</th>\n",
       "      <td>reliable, efficient, pythonic code that consistently adheres to pep8</td>\n",
       "    </tr>\n",
       "    <tr>\n",
       "      <th>process</th>\n",
       "      <td>Compare different ways that data science can facilitate decision making</td>\n",
       "    </tr>\n",
       "    <tr>\n",
       "      <th>access</th>\n",
       "      <td>access data from both common and uncommon formats and identify best practices for formats in different contexts</td>\n",
       "    </tr>\n",
       "    <tr>\n",
       "      <th>construct</th>\n",
       "      <td>merge data that is not automatically aligned</td>\n",
       "    </tr>\n",
       "    <tr>\n",
       "      <th>summarize</th>\n",
       "      <td>Compute and interpret various summary statistics of subsets of data</td>\n",
       "    </tr>\n",
       "    <tr>\n",
       "      <th>visualize</th>\n",
       "      <td>generate complex plots with pandas and plotting libraries and customize with matplotlib or additional parameters</td>\n",
       "    </tr>\n",
       "    <tr>\n",
       "      <th>prepare</th>\n",
       "      <td>apply data reshaping, cleaning, and filtering manipulations reliably and correctly by assessing data as received</td>\n",
       "    </tr>\n",
       "    <tr>\n",
       "      <th>evaluate</th>\n",
       "      <td>Evaluate a model with multiple metrics and cross validation</td>\n",
       "    </tr>\n",
       "    <tr>\n",
       "      <th>classification</th>\n",
       "      <td>fit and apply classification models and select appropriate classification models for different contexts</td>\n",
       "    </tr>\n",
       "    <tr>\n",
       "      <th>regression</th>\n",
       "      <td>fit and explain regrularized or nonlinear regression</td>\n",
       "    </tr>\n",
       "    <tr>\n",
       "      <th>clustering</th>\n",
       "      <td>apply multiple clustering techniques, and interpret results</td>\n",
       "    </tr>\n",
       "  </tbody>\n",
       "</table>\n",
       "</div>"
      ],
      "text/plain": [
       "                                                                                                                         Level 3\n",
       "keyword                                                                                                                         \n",
       "python                                                      reliable, efficient, pythonic code that consistently adheres to pep8\n",
       "process                                                  Compare different ways that data science can facilitate decision making\n",
       "access           access data from both common and uncommon formats and identify best practices for formats in different contexts\n",
       "construct                                                                           merge data that is not automatically aligned\n",
       "summarize                                                    Compute and interpret various summary statistics of subsets of data\n",
       "visualize       generate complex plots with pandas and plotting libraries and customize with matplotlib or additional parameters\n",
       "prepare         apply data reshaping, cleaning, and filtering manipulations reliably and correctly by assessing data as received\n",
       "evaluate                                                             Evaluate a model with multiple metrics and cross validation\n",
       "classification           fit and apply classification models and select appropriate classification models for different contexts\n",
       "regression                                                                  fit and explain regrularized or nonlinear regression\n",
       "clustering                                                           apply multiple clustering techniques, and interpret results"
      ]
     },
     "execution_count": 2,
     "metadata": {},
     "output_type": "execute_result"
    }
   ],
   "source": [
    "portfolio_df['Level 3'][portfolio_df['P2']==1].reset_index().set_index('keyword')"
   ]
  },
  {
   "cell_type": "markdown",
   "id": "4d6c3190",
   "metadata": {},
   "source": [
    "<!--\n",
    "\n",
    "The third submission will be graded on the following criteria and due on December 4:\n",
    "\n",
    "```{code-cell} ipython3\n",
    ":tags: [remove-input]\n",
    "\n",
    "portfolio_df['Level 3'][portfolio_df['P3']==1].reset_index().set_index('keyword')\n",
    "```\n",
    "\n",
    "\n",
    "```{code-cell} ipython3\n",
    ":tags: [remove-input]\n",
    "\n",
    "portfolio_df['Level 3'][portfolio_df['P4']==1].reset_index().set_index('keyword')\n",
    "```\n",
    " -->"
   ]
  }
 ],
 "metadata": {
  "jupytext": {
   "text_representation": {
    "extension": ".md",
    "format_name": "myst",
    "format_version": 0.12,
    "jupytext_version": "1.6.0"
   }
  },
  "kernelspec": {
   "display_name": "Python 3",
   "language": "python",
   "name": "python3"
  },
  "language_info": {
   "codemirror_mode": {
    "name": "ipython",
    "version": 3
   },
   "file_extension": ".py",
   "mimetype": "text/x-python",
   "name": "python",
   "nbconvert_exporter": "python",
   "pygments_lexer": "ipython3",
   "version": "3.9.15"
  },
  "source_map": [
   12,
   17,
   64,
   99,
   103
  ]
 },
 "nbformat": 4,
 "nbformat_minor": 5
}