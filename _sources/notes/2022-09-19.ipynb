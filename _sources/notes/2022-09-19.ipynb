{
 "cells": [
  {
   "cell_type": "markdown",
   "id": "3d376c75",
   "metadata": {},
   "source": [
    "# Getting Started with Exploratory Data Analysis\n",
    "\n",
    "Now we get to start actual data science!\n",
    "\n",
    "\n",
    "Our goal this week is to explore the actual data, the values, in a dataset to get a basic idea of what is in the data.  \n",
    "\n",
    "Summarizing and Visualizing Data are **very** important\n",
    "\n",
    "- People cannot interpret high dimensional or large samples quickly\n",
    "- Important in EDA to help you make decisions about the rest of your analysis\n",
    "- Important in how you report your results\n",
    "- Summaries are similar calculations to performance metrics we will see later\n",
    "- visualizations are often essential in debugging models\n",
    "\n",
    "\n",
    "**THEREFORE**\n",
    "- You have  [a lot of chances](https://rhodyprog4ds.github.io/BrownFall22/syllabus/achievements.html#assignments-and-skills) to earn summarize and visualize\n",
    "- we will be picky when we assess if you earned them or not"
   ]
  },
  {
   "cell_type": "code",
   "execution_count": 1,
   "id": "300aeedc",
   "metadata": {},
   "outputs": [],
   "source": [
    "import pandas as pd"
   ]
  },
  {
   "cell_type": "markdown",
   "id": "b0dfeb11",
   "metadata": {},
   "source": [
    "## Staying Organized\n",
    "\n",
    "- See the new {ref}`resource:file-structure` section.\n",
    "- Be sure to accept assignments and close the feedback PR if you will not work on them\n",
    "\n",
    "## Loading Data and Examining Structure"
   ]
  },
  {
   "cell_type": "code",
   "execution_count": 2,
   "id": "57e6c0d2",
   "metadata": {},
   "outputs": [],
   "source": [
    "coffee_data_url = 'https://raw.githubusercontent.com/jldbc/coffee-quality-database/master/data/robusta_data_cleaned.csv'\n",
    "coffee_df = pd.read_csv(coffee_data_url,index_col=0)"
   ]
  },
  {
   "cell_type": "markdown",
   "id": "cefc93cb",
   "metadata": {},
   "source": [
    "So far, we've loaded data in a few different ways and then we've examined\n",
    "DataFrames as a data structure, looking at what different attributes they have\n",
    "and what some of the methods are, and how to get data into them."
   ]
  },
  {
   "cell_type": "code",
   "execution_count": 3,
   "id": "1d3aa5fe",
   "metadata": {},
   "outputs": [
    {
     "data": {
      "text/html": [
       "<div>\n",
       "<style scoped>\n",
       "    .dataframe tbody tr th:only-of-type {\n",
       "        vertical-align: middle;\n",
       "    }\n",
       "\n",
       "    .dataframe tbody tr th {\n",
       "        vertical-align: top;\n",
       "    }\n",
       "\n",
       "    .dataframe thead th {\n",
       "        text-align: right;\n",
       "    }\n",
       "</style>\n",
       "<table border=\"1\" class=\"dataframe\">\n",
       "  <thead>\n",
       "    <tr style=\"text-align: right;\">\n",
       "      <th></th>\n",
       "      <th>Species</th>\n",
       "      <th>Owner</th>\n",
       "      <th>Country.of.Origin</th>\n",
       "      <th>Farm.Name</th>\n",
       "      <th>Lot.Number</th>\n",
       "      <th>Mill</th>\n",
       "      <th>ICO.Number</th>\n",
       "      <th>Company</th>\n",
       "      <th>Altitude</th>\n",
       "      <th>Region</th>\n",
       "      <th>...</th>\n",
       "      <th>Color</th>\n",
       "      <th>Category.Two.Defects</th>\n",
       "      <th>Expiration</th>\n",
       "      <th>Certification.Body</th>\n",
       "      <th>Certification.Address</th>\n",
       "      <th>Certification.Contact</th>\n",
       "      <th>unit_of_measurement</th>\n",
       "      <th>altitude_low_meters</th>\n",
       "      <th>altitude_high_meters</th>\n",
       "      <th>altitude_mean_meters</th>\n",
       "    </tr>\n",
       "  </thead>\n",
       "  <tbody>\n",
       "    <tr>\n",
       "      <th>1</th>\n",
       "      <td>Robusta</td>\n",
       "      <td>ankole coffee producers coop</td>\n",
       "      <td>Uganda</td>\n",
       "      <td>kyangundu cooperative society</td>\n",
       "      <td>NaN</td>\n",
       "      <td>ankole coffee producers</td>\n",
       "      <td>0</td>\n",
       "      <td>ankole coffee producers coop</td>\n",
       "      <td>1488</td>\n",
       "      <td>sheema south western</td>\n",
       "      <td>...</td>\n",
       "      <td>Green</td>\n",
       "      <td>2</td>\n",
       "      <td>June 26th, 2015</td>\n",
       "      <td>Uganda Coffee Development Authority</td>\n",
       "      <td>e36d0270932c3b657e96b7b0278dfd85dc0fe743</td>\n",
       "      <td>03077a1c6bac60e6f514691634a7f6eb5c85aae8</td>\n",
       "      <td>m</td>\n",
       "      <td>1488.0</td>\n",
       "      <td>1488.0</td>\n",
       "      <td>1488.0</td>\n",
       "    </tr>\n",
       "    <tr>\n",
       "      <th>2</th>\n",
       "      <td>Robusta</td>\n",
       "      <td>nishant gurjer</td>\n",
       "      <td>India</td>\n",
       "      <td>sethuraman estate kaapi royale</td>\n",
       "      <td>25</td>\n",
       "      <td>sethuraman estate</td>\n",
       "      <td>14/1148/2017/21</td>\n",
       "      <td>kaapi royale</td>\n",
       "      <td>3170</td>\n",
       "      <td>chikmagalur karnataka indua</td>\n",
       "      <td>...</td>\n",
       "      <td>NaN</td>\n",
       "      <td>2</td>\n",
       "      <td>October 31st, 2018</td>\n",
       "      <td>Specialty Coffee Association</td>\n",
       "      <td>ff7c18ad303d4b603ac3f8cff7e611ffc735e720</td>\n",
       "      <td>352d0cf7f3e9be14dad7df644ad65efc27605ae2</td>\n",
       "      <td>m</td>\n",
       "      <td>3170.0</td>\n",
       "      <td>3170.0</td>\n",
       "      <td>3170.0</td>\n",
       "    </tr>\n",
       "  </tbody>\n",
       "</table>\n",
       "<p>2 rows × 43 columns</p>\n",
       "</div>"
      ],
      "text/plain": [
       "   Species                         Owner Country.of.Origin  \\\n",
       "1  Robusta  ankole coffee producers coop            Uganda   \n",
       "2  Robusta                nishant gurjer             India   \n",
       "\n",
       "                        Farm.Name Lot.Number                     Mill  \\\n",
       "1   kyangundu cooperative society        NaN  ankole coffee producers   \n",
       "2  sethuraman estate kaapi royale         25        sethuraman estate   \n",
       "\n",
       "        ICO.Number                       Company Altitude  \\\n",
       "1                0  ankole coffee producers coop     1488   \n",
       "2  14/1148/2017/21                  kaapi royale     3170   \n",
       "\n",
       "                        Region  ...  Color  Category.Two.Defects  \\\n",
       "1         sheema south western  ...  Green                     2   \n",
       "2  chikmagalur karnataka indua  ...    NaN                     2   \n",
       "\n",
       "           Expiration                   Certification.Body  \\\n",
       "1     June 26th, 2015  Uganda Coffee Development Authority   \n",
       "2  October 31st, 2018         Specialty Coffee Association   \n",
       "\n",
       "                      Certification.Address  \\\n",
       "1  e36d0270932c3b657e96b7b0278dfd85dc0fe743   \n",
       "2  ff7c18ad303d4b603ac3f8cff7e611ffc735e720   \n",
       "\n",
       "                      Certification.Contact unit_of_measurement  \\\n",
       "1  03077a1c6bac60e6f514691634a7f6eb5c85aae8                   m   \n",
       "2  352d0cf7f3e9be14dad7df644ad65efc27605ae2                   m   \n",
       "\n",
       "  altitude_low_meters altitude_high_meters  altitude_mean_meters  \n",
       "1              1488.0               1488.0                1488.0  \n",
       "2              3170.0               3170.0                3170.0  \n",
       "\n",
       "[2 rows x 43 columns]"
      ]
     },
     "execution_count": 3,
     "metadata": {},
     "output_type": "execute_result"
    }
   ],
   "source": [
    "coffee_df.head(2)"
   ]
  },
  {
   "cell_type": "markdown",
   "id": "2d824c2c",
   "metadata": {},
   "source": [
    "From here we can see a few sample values of most of the column and we can be sure that the data loaded correctly.\n",
    "\n",
    "\n",
    "```{admonition} Try it Yourself\n",
    "What other tools have we learned to examine a DataFrame and when might you use them?\n",
    "```\n",
    "\n",
    "\n",
    "We can also get more structural information with the [`info`](https://pandas.pydata.org/docs/reference/api/pandas.DataFrame.info.html) method.\n",
    "\n",
    "More information on this can also be found in the [dtypes](https://pandas.pydata.org/docs/user_guide/basics.html#basics-dtypes) attribute. Including that the type is the [most general](https://pandas.pydata.org/docs/user_guide/basics.html#basics-dtypes:~:text=If%20a%20pandas%20object%20contains%20data%20with%20multiple%20dtypes%20in%20a%20single%20column%2C%20the%20dtype%20of%20the%20column%20will%20be%20chosen%20to%20accommodate%20all%20of%20the%20data%20types%20(object%20is%20the%20most%20general).) if there are multiple types in the column.\n",
    "\n",
    "````{margin}\n",
    "```{hint}\n",
    "There is also a related [`select_dtypes`](https://pandas.pydata.org/docs/reference/api/pandas.DataFrame.select_dtypes.html#pandas.DataFrame.select_dtypes) method.\n",
    "```\n",
    "````"
   ]
  },
  {
   "cell_type": "code",
   "execution_count": 4,
   "id": "11373eef",
   "metadata": {},
   "outputs": [
    {
     "name": "stdout",
     "output_type": "stream",
     "text": [
      "<class 'pandas.core.frame.DataFrame'>\n",
      "Int64Index: 28 entries, 1 to 28\n",
      "Data columns (total 43 columns):\n",
      " #   Column                 Non-Null Count  Dtype  \n",
      "---  ------                 --------------  -----  \n",
      " 0   Species                28 non-null     object \n",
      " 1   Owner                  28 non-null     object \n",
      " 2   Country.of.Origin      28 non-null     object \n",
      " 3   Farm.Name              25 non-null     object \n",
      " 4   Lot.Number             6 non-null      object \n",
      " 5   Mill                   20 non-null     object \n",
      " 6   ICO.Number             17 non-null     object \n",
      " 7   Company                28 non-null     object \n",
      " 8   Altitude               25 non-null     object \n",
      " 9   Region                 26 non-null     object \n",
      " 10  Producer               26 non-null     object \n",
      " 11  Number.of.Bags         28 non-null     int64  \n",
      " 12  Bag.Weight             28 non-null     object \n",
      " 13  In.Country.Partner     28 non-null     object \n",
      " 14  Harvest.Year           28 non-null     int64  \n",
      " 15  Grading.Date           28 non-null     object \n",
      " 16  Owner.1                28 non-null     object \n",
      " 17  Variety                3 non-null      object \n",
      " 18  Processing.Method      10 non-null     object \n",
      " 19  Fragrance...Aroma      28 non-null     float64\n",
      " 20  Flavor                 28 non-null     float64\n",
      " 21  Aftertaste             28 non-null     float64\n",
      " 22  Salt...Acid            28 non-null     float64\n",
      " 23  Bitter...Sweet         28 non-null     float64\n",
      " 24  Mouthfeel              28 non-null     float64\n",
      " 25  Uniform.Cup            28 non-null     float64\n",
      " 26  Clean.Cup              28 non-null     float64\n",
      " 27  Balance                28 non-null     float64\n",
      " 28  Cupper.Points          28 non-null     float64\n",
      " 29  Total.Cup.Points       28 non-null     float64\n",
      " 30  Moisture               28 non-null     float64\n",
      " 31  Category.One.Defects   28 non-null     int64  \n",
      " 32  Quakers                28 non-null     int64  \n",
      " 33  Color                  26 non-null     object \n",
      " 34  Category.Two.Defects   28 non-null     int64  \n",
      " 35  Expiration             28 non-null     object \n",
      " 36  Certification.Body     28 non-null     object \n",
      " 37  Certification.Address  28 non-null     object \n",
      " 38  Certification.Contact  28 non-null     object \n",
      " 39  unit_of_measurement    28 non-null     object \n",
      " 40  altitude_low_meters    25 non-null     float64\n",
      " 41  altitude_high_meters   25 non-null     float64\n",
      " 42  altitude_mean_meters   25 non-null     float64\n",
      "dtypes: float64(15), int64(5), object(23)\n",
      "memory usage: 9.6+ KB\n"
     ]
    }
   ],
   "source": [
    "coffee_df.info()"
   ]
  },
  {
   "cell_type": "markdown",
   "id": "26e847c6",
   "metadata": {},
   "source": [
    "## Summary Statistics\n",
    "\n",
    "Now, we can actually start to analyze the data itself.\n",
    "\n",
    "The [`describe`](https://pandas.pydata.org/pandas-docs/stable/reference/api/pandas.DataFrame.describe.html) method provides us with a set of summary statistics that broadly\n",
    "describe the data overall."
   ]
  },
  {
   "cell_type": "code",
   "execution_count": 5,
   "id": "503d7675",
   "metadata": {},
   "outputs": [
    {
     "data": {
      "text/html": [
       "<div>\n",
       "<style scoped>\n",
       "    .dataframe tbody tr th:only-of-type {\n",
       "        vertical-align: middle;\n",
       "    }\n",
       "\n",
       "    .dataframe tbody tr th {\n",
       "        vertical-align: top;\n",
       "    }\n",
       "\n",
       "    .dataframe thead th {\n",
       "        text-align: right;\n",
       "    }\n",
       "</style>\n",
       "<table border=\"1\" class=\"dataframe\">\n",
       "  <thead>\n",
       "    <tr style=\"text-align: right;\">\n",
       "      <th></th>\n",
       "      <th>Number.of.Bags</th>\n",
       "      <th>Harvest.Year</th>\n",
       "      <th>Fragrance...Aroma</th>\n",
       "      <th>Flavor</th>\n",
       "      <th>Aftertaste</th>\n",
       "      <th>Salt...Acid</th>\n",
       "      <th>Bitter...Sweet</th>\n",
       "      <th>Mouthfeel</th>\n",
       "      <th>Uniform.Cup</th>\n",
       "      <th>Clean.Cup</th>\n",
       "      <th>Balance</th>\n",
       "      <th>Cupper.Points</th>\n",
       "      <th>Total.Cup.Points</th>\n",
       "      <th>Moisture</th>\n",
       "      <th>Category.One.Defects</th>\n",
       "      <th>Quakers</th>\n",
       "      <th>Category.Two.Defects</th>\n",
       "      <th>altitude_low_meters</th>\n",
       "      <th>altitude_high_meters</th>\n",
       "      <th>altitude_mean_meters</th>\n",
       "    </tr>\n",
       "  </thead>\n",
       "  <tbody>\n",
       "    <tr>\n",
       "      <th>count</th>\n",
       "      <td>28.000000</td>\n",
       "      <td>28.000000</td>\n",
       "      <td>28.000000</td>\n",
       "      <td>28.000000</td>\n",
       "      <td>28.000000</td>\n",
       "      <td>28.000000</td>\n",
       "      <td>28.000000</td>\n",
       "      <td>28.000000</td>\n",
       "      <td>28.000000</td>\n",
       "      <td>28.000000</td>\n",
       "      <td>28.000000</td>\n",
       "      <td>28.000000</td>\n",
       "      <td>28.000000</td>\n",
       "      <td>28.000000</td>\n",
       "      <td>28.000000</td>\n",
       "      <td>28.0</td>\n",
       "      <td>28.000000</td>\n",
       "      <td>25.00000</td>\n",
       "      <td>25.000000</td>\n",
       "      <td>25.000000</td>\n",
       "    </tr>\n",
       "    <tr>\n",
       "      <th>mean</th>\n",
       "      <td>168.000000</td>\n",
       "      <td>2013.964286</td>\n",
       "      <td>7.702500</td>\n",
       "      <td>7.630714</td>\n",
       "      <td>7.559643</td>\n",
       "      <td>7.657143</td>\n",
       "      <td>7.675714</td>\n",
       "      <td>7.506786</td>\n",
       "      <td>9.904286</td>\n",
       "      <td>9.928214</td>\n",
       "      <td>7.541786</td>\n",
       "      <td>7.761429</td>\n",
       "      <td>80.868929</td>\n",
       "      <td>0.065714</td>\n",
       "      <td>2.964286</td>\n",
       "      <td>0.0</td>\n",
       "      <td>1.892857</td>\n",
       "      <td>1367.60000</td>\n",
       "      <td>1387.600000</td>\n",
       "      <td>1377.600000</td>\n",
       "    </tr>\n",
       "    <tr>\n",
       "      <th>std</th>\n",
       "      <td>143.226317</td>\n",
       "      <td>1.346660</td>\n",
       "      <td>0.296156</td>\n",
       "      <td>0.303656</td>\n",
       "      <td>0.342469</td>\n",
       "      <td>0.261773</td>\n",
       "      <td>0.317063</td>\n",
       "      <td>0.725152</td>\n",
       "      <td>0.238753</td>\n",
       "      <td>0.211030</td>\n",
       "      <td>0.526076</td>\n",
       "      <td>0.330507</td>\n",
       "      <td>2.441233</td>\n",
       "      <td>0.058464</td>\n",
       "      <td>12.357280</td>\n",
       "      <td>0.0</td>\n",
       "      <td>2.601129</td>\n",
       "      <td>838.06205</td>\n",
       "      <td>831.884207</td>\n",
       "      <td>833.980216</td>\n",
       "    </tr>\n",
       "    <tr>\n",
       "      <th>min</th>\n",
       "      <td>1.000000</td>\n",
       "      <td>2012.000000</td>\n",
       "      <td>6.750000</td>\n",
       "      <td>6.670000</td>\n",
       "      <td>6.500000</td>\n",
       "      <td>6.830000</td>\n",
       "      <td>6.670000</td>\n",
       "      <td>5.080000</td>\n",
       "      <td>9.330000</td>\n",
       "      <td>9.330000</td>\n",
       "      <td>5.250000</td>\n",
       "      <td>6.920000</td>\n",
       "      <td>73.750000</td>\n",
       "      <td>0.000000</td>\n",
       "      <td>0.000000</td>\n",
       "      <td>0.0</td>\n",
       "      <td>0.000000</td>\n",
       "      <td>40.00000</td>\n",
       "      <td>40.000000</td>\n",
       "      <td>40.000000</td>\n",
       "    </tr>\n",
       "    <tr>\n",
       "      <th>25%</th>\n",
       "      <td>1.000000</td>\n",
       "      <td>2013.000000</td>\n",
       "      <td>7.580000</td>\n",
       "      <td>7.560000</td>\n",
       "      <td>7.397500</td>\n",
       "      <td>7.560000</td>\n",
       "      <td>7.580000</td>\n",
       "      <td>7.500000</td>\n",
       "      <td>10.000000</td>\n",
       "      <td>10.000000</td>\n",
       "      <td>7.500000</td>\n",
       "      <td>7.580000</td>\n",
       "      <td>80.170000</td>\n",
       "      <td>0.000000</td>\n",
       "      <td>0.000000</td>\n",
       "      <td>0.0</td>\n",
       "      <td>0.000000</td>\n",
       "      <td>795.00000</td>\n",
       "      <td>795.000000</td>\n",
       "      <td>795.000000</td>\n",
       "    </tr>\n",
       "    <tr>\n",
       "      <th>50%</th>\n",
       "      <td>170.000000</td>\n",
       "      <td>2014.000000</td>\n",
       "      <td>7.670000</td>\n",
       "      <td>7.710000</td>\n",
       "      <td>7.670000</td>\n",
       "      <td>7.710000</td>\n",
       "      <td>7.750000</td>\n",
       "      <td>7.670000</td>\n",
       "      <td>10.000000</td>\n",
       "      <td>10.000000</td>\n",
       "      <td>7.670000</td>\n",
       "      <td>7.830000</td>\n",
       "      <td>81.500000</td>\n",
       "      <td>0.100000</td>\n",
       "      <td>0.000000</td>\n",
       "      <td>0.0</td>\n",
       "      <td>1.000000</td>\n",
       "      <td>1095.00000</td>\n",
       "      <td>1200.000000</td>\n",
       "      <td>1100.000000</td>\n",
       "    </tr>\n",
       "    <tr>\n",
       "      <th>75%</th>\n",
       "      <td>320.000000</td>\n",
       "      <td>2015.000000</td>\n",
       "      <td>7.920000</td>\n",
       "      <td>7.830000</td>\n",
       "      <td>7.770000</td>\n",
       "      <td>7.830000</td>\n",
       "      <td>7.830000</td>\n",
       "      <td>7.830000</td>\n",
       "      <td>10.000000</td>\n",
       "      <td>10.000000</td>\n",
       "      <td>7.830000</td>\n",
       "      <td>7.920000</td>\n",
       "      <td>82.520000</td>\n",
       "      <td>0.120000</td>\n",
       "      <td>0.000000</td>\n",
       "      <td>0.0</td>\n",
       "      <td>2.000000</td>\n",
       "      <td>1488.00000</td>\n",
       "      <td>1488.000000</td>\n",
       "      <td>1488.000000</td>\n",
       "    </tr>\n",
       "    <tr>\n",
       "      <th>max</th>\n",
       "      <td>320.000000</td>\n",
       "      <td>2017.000000</td>\n",
       "      <td>8.330000</td>\n",
       "      <td>8.080000</td>\n",
       "      <td>7.920000</td>\n",
       "      <td>8.000000</td>\n",
       "      <td>8.420000</td>\n",
       "      <td>8.250000</td>\n",
       "      <td>10.000000</td>\n",
       "      <td>10.000000</td>\n",
       "      <td>8.000000</td>\n",
       "      <td>8.580000</td>\n",
       "      <td>83.750000</td>\n",
       "      <td>0.130000</td>\n",
       "      <td>63.000000</td>\n",
       "      <td>0.0</td>\n",
       "      <td>9.000000</td>\n",
       "      <td>3170.00000</td>\n",
       "      <td>3170.000000</td>\n",
       "      <td>3170.000000</td>\n",
       "    </tr>\n",
       "  </tbody>\n",
       "</table>\n",
       "</div>"
      ],
      "text/plain": [
       "       Number.of.Bags  Harvest.Year  Fragrance...Aroma     Flavor  Aftertaste  \\\n",
       "count       28.000000     28.000000          28.000000  28.000000   28.000000   \n",
       "mean       168.000000   2013.964286           7.702500   7.630714    7.559643   \n",
       "std        143.226317      1.346660           0.296156   0.303656    0.342469   \n",
       "min          1.000000   2012.000000           6.750000   6.670000    6.500000   \n",
       "25%          1.000000   2013.000000           7.580000   7.560000    7.397500   \n",
       "50%        170.000000   2014.000000           7.670000   7.710000    7.670000   \n",
       "75%        320.000000   2015.000000           7.920000   7.830000    7.770000   \n",
       "max        320.000000   2017.000000           8.330000   8.080000    7.920000   \n",
       "\n",
       "       Salt...Acid  Bitter...Sweet  Mouthfeel  Uniform.Cup  Clean.Cup  \\\n",
       "count    28.000000       28.000000  28.000000    28.000000  28.000000   \n",
       "mean      7.657143        7.675714   7.506786     9.904286   9.928214   \n",
       "std       0.261773        0.317063   0.725152     0.238753   0.211030   \n",
       "min       6.830000        6.670000   5.080000     9.330000   9.330000   \n",
       "25%       7.560000        7.580000   7.500000    10.000000  10.000000   \n",
       "50%       7.710000        7.750000   7.670000    10.000000  10.000000   \n",
       "75%       7.830000        7.830000   7.830000    10.000000  10.000000   \n",
       "max       8.000000        8.420000   8.250000    10.000000  10.000000   \n",
       "\n",
       "         Balance  Cupper.Points  Total.Cup.Points   Moisture  \\\n",
       "count  28.000000      28.000000         28.000000  28.000000   \n",
       "mean    7.541786       7.761429         80.868929   0.065714   \n",
       "std     0.526076       0.330507          2.441233   0.058464   \n",
       "min     5.250000       6.920000         73.750000   0.000000   \n",
       "25%     7.500000       7.580000         80.170000   0.000000   \n",
       "50%     7.670000       7.830000         81.500000   0.100000   \n",
       "75%     7.830000       7.920000         82.520000   0.120000   \n",
       "max     8.000000       8.580000         83.750000   0.130000   \n",
       "\n",
       "       Category.One.Defects  Quakers  Category.Two.Defects  \\\n",
       "count             28.000000     28.0             28.000000   \n",
       "mean               2.964286      0.0              1.892857   \n",
       "std               12.357280      0.0              2.601129   \n",
       "min                0.000000      0.0              0.000000   \n",
       "25%                0.000000      0.0              0.000000   \n",
       "50%                0.000000      0.0              1.000000   \n",
       "75%                0.000000      0.0              2.000000   \n",
       "max               63.000000      0.0              9.000000   \n",
       "\n",
       "       altitude_low_meters  altitude_high_meters  altitude_mean_meters  \n",
       "count             25.00000             25.000000             25.000000  \n",
       "mean            1367.60000           1387.600000           1377.600000  \n",
       "std              838.06205            831.884207            833.980216  \n",
       "min               40.00000             40.000000             40.000000  \n",
       "25%              795.00000            795.000000            795.000000  \n",
       "50%             1095.00000           1200.000000           1100.000000  \n",
       "75%             1488.00000           1488.000000           1488.000000  \n",
       "max             3170.00000           3170.000000           3170.000000  "
      ]
     },
     "execution_count": 5,
     "metadata": {},
     "output_type": "execute_result"
    }
   ],
   "source": [
    "coffee_df.describe()"
   ]
  },
  {
   "cell_type": "markdown",
   "id": "9ab82726",
   "metadata": {},
   "source": [
    "From this, we can draw several conclusions.  FOr example straightforward ones like:\n",
    "- the smallest number of bags rated is 1 and at least 25% of the coffees rates only had 1 bag\n",
    "- the first ratings included were 2012 and last in 2017  (min & max)\n",
    "- the mean Mouthfeel was 7.5\n",
    "- Category One defects are not very common ( the 75th% is 0)\n",
    "\n",
    "Or more nuanced ones that compare across variables like\n",
    "- the raters scored coffee higher on Uniformity.Cup and Clean.Cup than other scores (mean score; only on the ones that seem to have a scale of up to 8/10)\n",
    "- the coffee varied more in Mouthfeel and Balance that most other scores (the std; only on the ones that seem to have a scale of of up to 8/10)\n",
    "- there are 3 ratings with no altitude (count of other variables is 28; alt is 25\n",
    "\n",
    "And these all give us a sense of the values and the distribution or spread fo the data in each column.\n",
    "\n",
    "\n",
    "We can use the descriptive statistics on individual columns as well."
   ]
  },
  {
   "cell_type": "code",
   "execution_count": 6,
   "id": "fed39f0c",
   "metadata": {},
   "outputs": [
    {
     "data": {
      "text/plain": [
       "count    28.000000\n",
       "mean      7.541786\n",
       "std       0.526076\n",
       "min       5.250000\n",
       "25%       7.500000\n",
       "50%       7.670000\n",
       "75%       7.830000\n",
       "max       8.000000\n",
       "Name: Balance, dtype: float64"
      ]
     },
     "execution_count": 6,
     "metadata": {},
     "output_type": "execute_result"
    }
   ],
   "source": [
    "coffee_df['Balance'].describe()"
   ]
  },
  {
   "cell_type": "markdown",
   "id": "a76750fd",
   "metadata": {},
   "source": [
    "To dig in on what the quantiles really mean, we can compute one manually.\n",
    "\n",
    "First, we sort the data, then for the 25%, we select the point in index 6 because\n",
    "becaues there are 28 values."
   ]
  },
  {
   "cell_type": "code",
   "execution_count": 7,
   "id": "d11fcd9d",
   "metadata": {},
   "outputs": [],
   "source": [
    "balance_sorted = coffee_df['Balance'].sort_values().values"
   ]
  },
  {
   "cell_type": "markdown",
   "id": "8c1bc766",
   "metadata": {},
   "source": [
    "What value of `x` to pick out 25%"
   ]
  },
  {
   "cell_type": "code",
   "execution_count": 8,
   "id": "0312706d",
   "metadata": {},
   "outputs": [
    {
     "data": {
      "text/plain": [
       "7.5"
      ]
     },
     "execution_count": 8,
     "metadata": {},
     "output_type": "execute_result"
    }
   ],
   "source": [
    "x = 6\n",
    "balance_sorted[x]"
   ]
  },
  {
   "cell_type": "markdown",
   "id": "7af69024",
   "metadata": {},
   "source": [
    "````{margin}\n",
    "```{admonition} further reading\n",
    "On the [documentation page for describe](https://pandas.pydata.org/pandas-docs/stable/reference/api/pandas.DataFrame.describe.html) the \"<i class=\"fas fa-info-circle\"></i>\n",
    " See Also\" shows the links to the documentation of most of the individual functions.  This is a good way to learn about other things, or find something when you are not quite sure what it would be named.  Go to a function thats similar to what you want and then look at the related functions.\n",
    "```\n",
    "````\n",
    "\n",
    "\n",
    "We can also extract each of the statistics that the `describe` method calculates individually, by name.  The quantiles\n",
    "are tricky, we cannot just `.25%()` to get the 25% percentile, we have to use the\n",
    "`quantile` method and pass it a value between 0 and 1."
   ]
  },
  {
   "cell_type": "code",
   "execution_count": 9,
   "id": "5bfcd400",
   "metadata": {},
   "outputs": [
    {
     "data": {
      "text/plain": [
       "7.83"
      ]
     },
     "execution_count": 9,
     "metadata": {},
     "output_type": "execute_result"
    }
   ],
   "source": [
    "coffee_df['Flavor'].quantile(.8)"
   ]
  },
  {
   "cell_type": "markdown",
   "id": "8a91c00a",
   "metadata": {},
   "source": [
    "Calculate the mean of `Aftertaste`"
   ]
  },
  {
   "cell_type": "code",
   "execution_count": 10,
   "id": "8ed2c1fb",
   "metadata": {},
   "outputs": [
    {
     "data": {
      "text/plain": [
       "7.559642857142856"
      ]
     },
     "execution_count": 10,
     "metadata": {},
     "output_type": "execute_result"
    }
   ],
   "source": [
    "coffee_df['Aftertaste'].mean()"
   ]
  },
  {
   "cell_type": "markdown",
   "id": "580f4c27",
   "metadata": {},
   "source": [
    "## Describing Nonnumerical Variables\n",
    "\n",
    "There are different columns in the describe than the the whole dataset:"
   ]
  },
  {
   "cell_type": "code",
   "execution_count": 11,
   "id": "3d4170c2",
   "metadata": {},
   "outputs": [
    {
     "data": {
      "text/plain": [
       "Index(['Species', 'Owner', 'Country.of.Origin', 'Farm.Name', 'Lot.Number',\n",
       "       'Mill', 'ICO.Number', 'Company', 'Altitude', 'Region', 'Producer',\n",
       "       'Number.of.Bags', 'Bag.Weight', 'In.Country.Partner', 'Harvest.Year',\n",
       "       'Grading.Date', 'Owner.1', 'Variety', 'Processing.Method',\n",
       "       'Fragrance...Aroma', 'Flavor', 'Aftertaste', 'Salt...Acid',\n",
       "       'Bitter...Sweet', 'Mouthfeel', 'Uniform.Cup', 'Clean.Cup', 'Balance',\n",
       "       'Cupper.Points', 'Total.Cup.Points', 'Moisture', 'Category.One.Defects',\n",
       "       'Quakers', 'Color', 'Category.Two.Defects', 'Expiration',\n",
       "       'Certification.Body', 'Certification.Address', 'Certification.Contact',\n",
       "       'unit_of_measurement', 'altitude_low_meters', 'altitude_high_meters',\n",
       "       'altitude_mean_meters'],\n",
       "      dtype='object')"
      ]
     },
     "execution_count": 11,
     "metadata": {},
     "output_type": "execute_result"
    }
   ],
   "source": [
    "coffee_df.columns"
   ]
  },
  {
   "cell_type": "code",
   "execution_count": 12,
   "id": "910fb874",
   "metadata": {},
   "outputs": [
    {
     "data": {
      "text/plain": [
       "Index(['Number.of.Bags', 'Harvest.Year', 'Fragrance...Aroma', 'Flavor',\n",
       "       'Aftertaste', 'Salt...Acid', 'Bitter...Sweet', 'Mouthfeel',\n",
       "       'Uniform.Cup', 'Clean.Cup', 'Balance', 'Cupper.Points',\n",
       "       'Total.Cup.Points', 'Moisture', 'Category.One.Defects', 'Quakers',\n",
       "       'Category.Two.Defects', 'altitude_low_meters', 'altitude_high_meters',\n",
       "       'altitude_mean_meters'],\n",
       "      dtype='object')"
      ]
     },
     "execution_count": 12,
     "metadata": {},
     "output_type": "execute_result"
    }
   ],
   "source": [
    "coffee_df.describe().columns"
   ]
  },
  {
   "cell_type": "markdown",
   "id": "46617583",
   "metadata": {},
   "source": [
    "We can get the prevalence of each one with `value_counts`"
   ]
  },
  {
   "cell_type": "code",
   "execution_count": 13,
   "id": "926b3c5c",
   "metadata": {},
   "outputs": [
    {
     "data": {
      "text/plain": [
       "Green           20\n",
       "Blue-Green       3\n",
       "Bluish-Green     2\n",
       "None             1\n",
       "Name: Color, dtype: int64"
      ]
     },
     "execution_count": 13,
     "metadata": {},
     "output_type": "execute_result"
    }
   ],
   "source": [
    "coffee_df['Color'].value_counts()"
   ]
  },
  {
   "cell_type": "markdown",
   "id": "22f47950",
   "metadata": {},
   "source": [
    "```{admonition} Try it Yourself\n",
    "Note `value_counts` does not count the `NaN` values, but `count` counts all of the\n",
    "not missing values and the shape of the DataFrame is the total number of rows.\n",
    "How can you get the number of missing Colors?\n",
    "```\n",
    "\n",
    "Describe only operates on the numerical columns, but we might want to know about the others.  We can get the number of each value with `value_counts`"
   ]
  },
  {
   "cell_type": "code",
   "execution_count": 14,
   "id": "62754717",
   "metadata": {},
   "outputs": [
    {
     "data": {
      "text/plain": [
       "India            13\n",
       "Uganda           10\n",
       "United States     2\n",
       "Ecuador           2\n",
       "Vietnam           1\n",
       "Name: Country.of.Origin, dtype: int64"
      ]
     },
     "execution_count": 14,
     "metadata": {},
     "output_type": "execute_result"
    }
   ],
   "source": [
    "coffee_df['Country.of.Origin'].value_counts()"
   ]
  },
  {
   "cell_type": "markdown",
   "id": "11048b61",
   "metadata": {},
   "source": [
    "We can get the name of the most common country out of this Series using `idmax`"
   ]
  },
  {
   "cell_type": "code",
   "execution_count": 15,
   "id": "95da2ccf",
   "metadata": {},
   "outputs": [
    {
     "data": {
      "text/plain": [
       "'India'"
      ]
     },
     "execution_count": 15,
     "metadata": {},
     "output_type": "execute_result"
    }
   ],
   "source": [
    "coffee_df['Country.of.Origin'].value_counts().idxmax()"
   ]
  },
  {
   "cell_type": "markdown",
   "id": "47208315",
   "metadata": {},
   "source": [
    "Or see only how many different values with the related:"
   ]
  },
  {
   "cell_type": "code",
   "execution_count": 16,
   "id": "de2a91e3",
   "metadata": {},
   "outputs": [
    {
     "data": {
      "text/plain": [
       "5"
      ]
     },
     "execution_count": 16,
     "metadata": {},
     "output_type": "execute_result"
    }
   ],
   "source": [
    "coffee_df['Country.of.Origin'].nunique()"
   ]
  },
  {
   "cell_type": "markdown",
   "id": "011f37d9",
   "metadata": {},
   "source": [
    "We can also use the mode function, which works on both numerical or nonnumerical"
   ]
  },
  {
   "cell_type": "code",
   "execution_count": 17,
   "id": "3155c084",
   "metadata": {},
   "outputs": [
    {
     "data": {
      "text/plain": [
       "0    India\n",
       "Name: Country.of.Origin, dtype: object"
      ]
     },
     "execution_count": 17,
     "metadata": {},
     "output_type": "execute_result"
    }
   ],
   "source": [
    "coffee_df['Country.of.Origin'].mode()"
   ]
  },
  {
   "cell_type": "markdown",
   "id": "6ba4ed26",
   "metadata": {},
   "source": [
    "## Basic Plotting\n",
    "\n",
    "Pandas give us basic plotting capability built right into DataFrames."
   ]
  },
  {
   "cell_type": "code",
   "execution_count": 18,
   "id": "86108574",
   "metadata": {},
   "outputs": [
    {
     "data": {
      "text/plain": [
       "<AxesSubplot: >"
      ]
     },
     "execution_count": 18,
     "metadata": {},
     "output_type": "execute_result"
    },
    {
     "data": {
      "image/png": "[encoded data removed]",
      "text/plain": [
       "<Figure size 640x480 with 1 Axes>"
      ]
     },
     "metadata": {
      "filenames": {
       "image/png": "/home/runner/work/BrownFall22/BrownFall22/_build/jupyter_execute/notes/2022-09-19_34_1.png"
      }
     },
     "output_type": "display_data"
    }
   ],
   "source": [
    "coffee_df['Country.of.Origin'].value_counts().plot()"
   ]
  },
  {
   "cell_type": "markdown",
   "id": "117f8cf9",
   "metadata": {},
   "source": [
    "It defaults to a line graph, which is not very informative in this case, so we can use the `kind` parameter to change it to a bar graph."
   ]
  },
  {
   "cell_type": "code",
   "execution_count": 19,
   "id": "48a66944",
   "metadata": {},
   "outputs": [
    {
     "data": {
      "text/plain": [
       "<AxesSubplot: >"
      ]
     },
     "execution_count": 19,
     "metadata": {},
     "output_type": "execute_result"
    },
    {
     "data": {
      "image/png": "[encoded data removed]",
      "text/plain": [
       "<Figure size 640x480 with 1 Axes>"
      ]
     },
     "metadata": {
      "filenames": {
       "image/png": "/home/runner/work/BrownFall22/BrownFall22/_build/jupyter_execute/notes/2022-09-19_36_1.png"
      }
     },
     "output_type": "display_data"
    }
   ],
   "source": [
    "coffee_df['Country.of.Origin'].value_counts().plot(kind='bar')"
   ]
  },
  {
   "cell_type": "markdown",
   "id": "a2876b97",
   "metadata": {},
   "source": [
    "## Matching Questions to Summary Statistics\n",
    "\n",
    "When we brainstorm more questions that we can answer with summary statistics or that we might want to ask of this data, the ones that come to mind are often actually dependent on two variables. For example are two scores correlated? or what country has the highest rated coffe on `Flavor`?   \n",
    "\n",
    "We'll come back to more detailed questions like this on Friday, but to start we can look at how numerical variables vary by categorical (nonnumerical) variables by grouping the data.\n",
    "\n",
    "\n",
    "Above we saw which country had the most ratings (remember one row is one rating), but what if we wanted to see the mean number of bags per country?"
   ]
  },
  {
   "cell_type": "code",
   "execution_count": 20,
   "id": "9467f967",
   "metadata": {},
   "outputs": [
    {
     "data": {
      "text/plain": [
       "Country.of.Origin\n",
       "Ecuador            1.000000\n",
       "India            230.076923\n",
       "Uganda           160.900000\n",
       "United States     50.500000\n",
       "Vietnam            1.000000\n",
       "Name: Number.of.Bags, dtype: float64"
      ]
     },
     "execution_count": 20,
     "metadata": {},
     "output_type": "execute_result"
    }
   ],
   "source": [
    "coffee_df.groupby('Country.of.Origin')['Number.of.Bags'].mean()"
   ]
  },
  {
   "cell_type": "markdown",
   "id": "e09a0939",
   "metadata": {},
   "source": [
    "```{important}\n",
    "This data is only about coffee that was [rated by a particular agency](https://github.com/jldbc/coffee-quality-database/) it is not economic data, so we cannot, for example conclude which country *produces* the amount of data.  If we had economic dataset, a `Number.of.Bags` columns's mean would tell us exactly that, but the context of the dataset defines what a row means and therefore how we can interpret the **every single statistic** we calculate.\n",
    "```\n",
    "\n",
    "\n",
    "\n",
    "\n",
    "## Questions after class\n",
    "\n",
    "\n",
    "### Can arrays be used in Jupyter Notebook?\n",
    "\n",
    "Jupyter runs a fully powered python interpreter, so all python can work inside it.\n",
    "\n",
    "\n",
    "#### why did coffee_df['Country.of.Origin'].max() say vietnam?\n",
    "\n",
    "That applies a the `max` function to the `'Country.of.Origin'` column, without counting how many times the values occur.\n",
    "\n",
    "\n",
    "\n",
    "#### Why, in the groupby function the first column is in between parenthesis nd the second one between brackets?\n",
    "\n",
    "The inside parenthesis is the parameter of the groupby function, we could instead do it this way:"
   ]
  },
  {
   "cell_type": "code",
   "execution_count": 21,
   "id": "2cf9bea1",
   "metadata": {},
   "outputs": [],
   "source": [
    "coffee_grouped = coffee_df.groupby('Country.of.Origin')"
   ]
  },
  {
   "cell_type": "markdown",
   "id": "17eb064c",
   "metadata": {},
   "source": [
    "Then we can use `coffee_grouped` for different things"
   ]
  },
  {
   "cell_type": "code",
   "execution_count": 22,
   "id": "1f4ea40a",
   "metadata": {},
   "outputs": [
    {
     "data": {
      "text/html": [
       "<div>\n",
       "<style scoped>\n",
       "    .dataframe tbody tr th:only-of-type {\n",
       "        vertical-align: middle;\n",
       "    }\n",
       "\n",
       "    .dataframe tbody tr th {\n",
       "        vertical-align: top;\n",
       "    }\n",
       "\n",
       "    .dataframe thead tr th {\n",
       "        text-align: left;\n",
       "    }\n",
       "\n",
       "    .dataframe thead tr:last-of-type th {\n",
       "        text-align: right;\n",
       "    }\n",
       "</style>\n",
       "<table border=\"1\" class=\"dataframe\">\n",
       "  <thead>\n",
       "    <tr>\n",
       "      <th></th>\n",
       "      <th colspan=\"8\" halign=\"left\">Number.of.Bags</th>\n",
       "      <th colspan=\"2\" halign=\"left\">Harvest.Year</th>\n",
       "      <th>...</th>\n",
       "      <th colspan=\"2\" halign=\"left\">altitude_high_meters</th>\n",
       "      <th colspan=\"8\" halign=\"left\">altitude_mean_meters</th>\n",
       "    </tr>\n",
       "    <tr>\n",
       "      <th></th>\n",
       "      <th>count</th>\n",
       "      <th>mean</th>\n",
       "      <th>std</th>\n",
       "      <th>min</th>\n",
       "      <th>25%</th>\n",
       "      <th>50%</th>\n",
       "      <th>75%</th>\n",
       "      <th>max</th>\n",
       "      <th>count</th>\n",
       "      <th>mean</th>\n",
       "      <th>...</th>\n",
       "      <th>75%</th>\n",
       "      <th>max</th>\n",
       "      <th>count</th>\n",
       "      <th>mean</th>\n",
       "      <th>std</th>\n",
       "      <th>min</th>\n",
       "      <th>25%</th>\n",
       "      <th>50%</th>\n",
       "      <th>75%</th>\n",
       "      <th>max</th>\n",
       "    </tr>\n",
       "    <tr>\n",
       "      <th>Country.of.Origin</th>\n",
       "      <th></th>\n",
       "      <th></th>\n",
       "      <th></th>\n",
       "      <th></th>\n",
       "      <th></th>\n",
       "      <th></th>\n",
       "      <th></th>\n",
       "      <th></th>\n",
       "      <th></th>\n",
       "      <th></th>\n",
       "      <th></th>\n",
       "      <th></th>\n",
       "      <th></th>\n",
       "      <th></th>\n",
       "      <th></th>\n",
       "      <th></th>\n",
       "      <th></th>\n",
       "      <th></th>\n",
       "      <th></th>\n",
       "      <th></th>\n",
       "      <th></th>\n",
       "    </tr>\n",
       "  </thead>\n",
       "  <tbody>\n",
       "    <tr>\n",
       "      <th>Ecuador</th>\n",
       "      <td>2.0</td>\n",
       "      <td>1.000000</td>\n",
       "      <td>0.000000</td>\n",
       "      <td>1.0</td>\n",
       "      <td>1.00</td>\n",
       "      <td>1.0</td>\n",
       "      <td>1.00</td>\n",
       "      <td>1.0</td>\n",
       "      <td>2.0</td>\n",
       "      <td>2016.000000</td>\n",
       "      <td>...</td>\n",
       "      <td>40.00</td>\n",
       "      <td>40.0</td>\n",
       "      <td>1.0</td>\n",
       "      <td>40.000000</td>\n",
       "      <td>NaN</td>\n",
       "      <td>40.0</td>\n",
       "      <td>40.00</td>\n",
       "      <td>40.0</td>\n",
       "      <td>40.00</td>\n",
       "      <td>40.0</td>\n",
       "    </tr>\n",
       "    <tr>\n",
       "      <th>India</th>\n",
       "      <td>13.0</td>\n",
       "      <td>230.076923</td>\n",
       "      <td>110.280296</td>\n",
       "      <td>1.0</td>\n",
       "      <td>140.00</td>\n",
       "      <td>300.0</td>\n",
       "      <td>320.00</td>\n",
       "      <td>320.0</td>\n",
       "      <td>13.0</td>\n",
       "      <td>2014.384615</td>\n",
       "      <td>...</td>\n",
       "      <td>1500.00</td>\n",
       "      <td>3170.0</td>\n",
       "      <td>12.0</td>\n",
       "      <td>1421.666667</td>\n",
       "      <td>1021.022957</td>\n",
       "      <td>750.0</td>\n",
       "      <td>750.00</td>\n",
       "      <td>1000.0</td>\n",
       "      <td>1500.00</td>\n",
       "      <td>3170.0</td>\n",
       "    </tr>\n",
       "    <tr>\n",
       "      <th>Uganda</th>\n",
       "      <td>10.0</td>\n",
       "      <td>160.900000</td>\n",
       "      <td>163.690392</td>\n",
       "      <td>1.0</td>\n",
       "      <td>2.25</td>\n",
       "      <td>160.0</td>\n",
       "      <td>320.00</td>\n",
       "      <td>320.0</td>\n",
       "      <td>10.0</td>\n",
       "      <td>2013.300000</td>\n",
       "      <td>...</td>\n",
       "      <td>1488.00</td>\n",
       "      <td>1745.0</td>\n",
       "      <td>10.0</td>\n",
       "      <td>1354.500000</td>\n",
       "      <td>220.042546</td>\n",
       "      <td>1095.0</td>\n",
       "      <td>1203.00</td>\n",
       "      <td>1308.5</td>\n",
       "      <td>1488.00</td>\n",
       "      <td>1745.0</td>\n",
       "    </tr>\n",
       "    <tr>\n",
       "      <th>United States</th>\n",
       "      <td>2.0</td>\n",
       "      <td>50.500000</td>\n",
       "      <td>70.003571</td>\n",
       "      <td>1.0</td>\n",
       "      <td>25.75</td>\n",
       "      <td>50.5</td>\n",
       "      <td>75.25</td>\n",
       "      <td>100.0</td>\n",
       "      <td>2.0</td>\n",
       "      <td>2013.000000</td>\n",
       "      <td>...</td>\n",
       "      <td>2448.75</td>\n",
       "      <td>3000.0</td>\n",
       "      <td>2.0</td>\n",
       "      <td>1897.500000</td>\n",
       "      <td>1559.170453</td>\n",
       "      <td>795.0</td>\n",
       "      <td>1346.25</td>\n",
       "      <td>1897.5</td>\n",
       "      <td>2448.75</td>\n",
       "      <td>3000.0</td>\n",
       "    </tr>\n",
       "    <tr>\n",
       "      <th>Vietnam</th>\n",
       "      <td>1.0</td>\n",
       "      <td>1.000000</td>\n",
       "      <td>NaN</td>\n",
       "      <td>1.0</td>\n",
       "      <td>1.00</td>\n",
       "      <td>1.0</td>\n",
       "      <td>1.00</td>\n",
       "      <td>1.0</td>\n",
       "      <td>1.0</td>\n",
       "      <td>2013.000000</td>\n",
       "      <td>...</td>\n",
       "      <td>NaN</td>\n",
       "      <td>NaN</td>\n",
       "      <td>0.0</td>\n",
       "      <td>NaN</td>\n",
       "      <td>NaN</td>\n",
       "      <td>NaN</td>\n",
       "      <td>NaN</td>\n",
       "      <td>NaN</td>\n",
       "      <td>NaN</td>\n",
       "      <td>NaN</td>\n",
       "    </tr>\n",
       "  </tbody>\n",
       "</table>\n",
       "<p>5 rows × 160 columns</p>\n",
       "</div>"
      ],
      "text/plain": [
       "                  Number.of.Bags                                              \\\n",
       "                           count        mean         std  min     25%    50%   \n",
       "Country.of.Origin                                                              \n",
       "Ecuador                      2.0    1.000000    0.000000  1.0    1.00    1.0   \n",
       "India                       13.0  230.076923  110.280296  1.0  140.00  300.0   \n",
       "Uganda                      10.0  160.900000  163.690392  1.0    2.25  160.0   \n",
       "United States                2.0   50.500000   70.003571  1.0   25.75   50.5   \n",
       "Vietnam                      1.0    1.000000         NaN  1.0    1.00    1.0   \n",
       "\n",
       "                                 Harvest.Year               ...  \\\n",
       "                      75%    max        count         mean  ...   \n",
       "Country.of.Origin                                           ...   \n",
       "Ecuador              1.00    1.0          2.0  2016.000000  ...   \n",
       "India              320.00  320.0         13.0  2014.384615  ...   \n",
       "Uganda             320.00  320.0         10.0  2013.300000  ...   \n",
       "United States       75.25  100.0          2.0  2013.000000  ...   \n",
       "Vietnam              1.00    1.0          1.0  2013.000000  ...   \n",
       "\n",
       "                  altitude_high_meters         altitude_mean_meters  \\\n",
       "                                   75%     max                count   \n",
       "Country.of.Origin                                                     \n",
       "Ecuador                          40.00    40.0                  1.0   \n",
       "India                          1500.00  3170.0                 12.0   \n",
       "Uganda                         1488.00  1745.0                 10.0   \n",
       "United States                  2448.75  3000.0                  2.0   \n",
       "Vietnam                            NaN     NaN                  0.0   \n",
       "\n",
       "                                                                               \\\n",
       "                          mean          std     min      25%     50%      75%   \n",
       "Country.of.Origin                                                               \n",
       "Ecuador              40.000000          NaN    40.0    40.00    40.0    40.00   \n",
       "India              1421.666667  1021.022957   750.0   750.00  1000.0  1500.00   \n",
       "Uganda             1354.500000   220.042546  1095.0  1203.00  1308.5  1488.00   \n",
       "United States      1897.500000  1559.170453   795.0  1346.25  1897.5  2448.75   \n",
       "Vietnam                    NaN          NaN     NaN      NaN     NaN      NaN   \n",
       "\n",
       "                           \n",
       "                      max  \n",
       "Country.of.Origin          \n",
       "Ecuador              40.0  \n",
       "India              3170.0  \n",
       "Uganda             1745.0  \n",
       "United States      3000.0  \n",
       "Vietnam               NaN  \n",
       "\n",
       "[5 rows x 160 columns]"
      ]
     },
     "execution_count": 22,
     "metadata": {},
     "output_type": "execute_result"
    }
   ],
   "source": [
    "coffee_grouped.describe()"
   ]
  },
  {
   "cell_type": "markdown",
   "id": "302a7c57",
   "metadata": {},
   "source": [
    "or as we did before"
   ]
  },
  {
   "cell_type": "code",
   "execution_count": 23,
   "id": "1132c84d",
   "metadata": {},
   "outputs": [
    {
     "data": {
      "text/plain": [
       "Country.of.Origin\n",
       "Ecuador            1.000000\n",
       "India            230.076923\n",
       "Uganda           160.900000\n",
       "United States     50.500000\n",
       "Vietnam            1.000000\n",
       "Name: Number.of.Bags, dtype: float64"
      ]
     },
     "execution_count": 23,
     "metadata": {},
     "output_type": "execute_result"
    }
   ],
   "source": [
    "coffee_grouped['Number.of.Bags'].mean()"
   ]
  },
  {
   "cell_type": "markdown",
   "id": "6a3fd6fc",
   "metadata": {},
   "source": [
    "The second one is to index  ([see last week's notes for more on indexing](2022-09-16)) the DataFrame and pick out one column.  It makes the DataFrame have fewer columns before applying mean to the whole object.  \n",
    "\n",
    "We could make a smaller DataFrame first, then group, then mean"
   ]
  },
  {
   "cell_type": "code",
   "execution_count": 24,
   "id": "ecec5b77",
   "metadata": {},
   "outputs": [
    {
     "data": {
      "text/html": [
       "<div>\n",
       "<style scoped>\n",
       "    .dataframe tbody tr th:only-of-type {\n",
       "        vertical-align: middle;\n",
       "    }\n",
       "\n",
       "    .dataframe tbody tr th {\n",
       "        vertical-align: top;\n",
       "    }\n",
       "\n",
       "    .dataframe thead th {\n",
       "        text-align: right;\n",
       "    }\n",
       "</style>\n",
       "<table border=\"1\" class=\"dataframe\">\n",
       "  <thead>\n",
       "    <tr style=\"text-align: right;\">\n",
       "      <th></th>\n",
       "      <th>Number.of.Bags</th>\n",
       "      <th>Country.of.Origin</th>\n",
       "    </tr>\n",
       "  </thead>\n",
       "  <tbody>\n",
       "    <tr>\n",
       "      <th>1</th>\n",
       "      <td>300</td>\n",
       "      <td>Uganda</td>\n",
       "    </tr>\n",
       "    <tr>\n",
       "      <th>2</th>\n",
       "      <td>320</td>\n",
       "      <td>India</td>\n",
       "    </tr>\n",
       "    <tr>\n",
       "      <th>3</th>\n",
       "      <td>300</td>\n",
       "      <td>India</td>\n",
       "    </tr>\n",
       "    <tr>\n",
       "      <th>4</th>\n",
       "      <td>320</td>\n",
       "      <td>Uganda</td>\n",
       "    </tr>\n",
       "    <tr>\n",
       "      <th>5</th>\n",
       "      <td>1</td>\n",
       "      <td>Uganda</td>\n",
       "    </tr>\n",
       "  </tbody>\n",
       "</table>\n",
       "</div>"
      ],
      "text/plain": [
       "   Number.of.Bags Country.of.Origin\n",
       "1             300            Uganda\n",
       "2             320             India\n",
       "3             300             India\n",
       "4             320            Uganda\n",
       "5               1            Uganda"
      ]
     },
     "execution_count": 24,
     "metadata": {},
     "output_type": "execute_result"
    }
   ],
   "source": [
    "coffee_country_bags_df= coffee_df[['Number.of.Bags','Country.of.Origin']]\n",
    "coffee_country_bags_df.head()"
   ]
  },
  {
   "cell_type": "markdown",
   "id": "86784b40",
   "metadata": {},
   "source": [
    "There are two sets of square brackets because putting a comma it would try to index along rows with one and columns with the other, to select multiple in one dimension you need to pass a list."
   ]
  },
  {
   "cell_type": "code",
   "execution_count": 25,
   "id": "5ddb861e",
   "metadata": {},
   "outputs": [
    {
     "data": {
      "text/plain": [
       "list"
      ]
     },
     "execution_count": 25,
     "metadata": {},
     "output_type": "execute_result"
    }
   ],
   "source": [
    "type(['Number.of.Bags','Country.of.Origin'])"
   ]
  },
  {
   "cell_type": "markdown",
   "id": "a9cab7ba",
   "metadata": {},
   "source": [
    "If you do not put square `[]` or curly `{}` brackets around items, Python implicitly treats them as if there are parenthesis`()`"
   ]
  },
  {
   "cell_type": "code",
   "execution_count": 26,
   "id": "e17f7947",
   "metadata": {},
   "outputs": [
    {
     "data": {
      "text/plain": [
       "tuple"
      ]
     },
     "execution_count": 26,
     "metadata": {},
     "output_type": "execute_result"
    }
   ],
   "source": [
    "type(('Number.of.Bags','Country.of.Origin'))"
   ]
  },
  {
   "cell_type": "markdown",
   "id": "3bb170b9",
   "metadata": {},
   "source": [
    "and tuples are treated separately ."
   ]
  },
  {
   "cell_type": "code",
   "execution_count": 27,
   "id": "2cafce90",
   "metadata": {},
   "outputs": [
    {
     "data": {
      "text/html": [
       "<div>\n",
       "<style scoped>\n",
       "    .dataframe tbody tr th:only-of-type {\n",
       "        vertical-align: middle;\n",
       "    }\n",
       "\n",
       "    .dataframe tbody tr th {\n",
       "        vertical-align: top;\n",
       "    }\n",
       "\n",
       "    .dataframe thead th {\n",
       "        text-align: right;\n",
       "    }\n",
       "</style>\n",
       "<table border=\"1\" class=\"dataframe\">\n",
       "  <thead>\n",
       "    <tr style=\"text-align: right;\">\n",
       "      <th></th>\n",
       "      <th>Number.of.Bags</th>\n",
       "    </tr>\n",
       "    <tr>\n",
       "      <th>Country.of.Origin</th>\n",
       "      <th></th>\n",
       "    </tr>\n",
       "  </thead>\n",
       "  <tbody>\n",
       "    <tr>\n",
       "      <th>Ecuador</th>\n",
       "      <td>1.000000</td>\n",
       "    </tr>\n",
       "    <tr>\n",
       "      <th>India</th>\n",
       "      <td>230.076923</td>\n",
       "    </tr>\n",
       "    <tr>\n",
       "      <th>Uganda</th>\n",
       "      <td>160.900000</td>\n",
       "    </tr>\n",
       "    <tr>\n",
       "      <th>United States</th>\n",
       "      <td>50.500000</td>\n",
       "    </tr>\n",
       "    <tr>\n",
       "      <th>Vietnam</th>\n",
       "      <td>1.000000</td>\n",
       "    </tr>\n",
       "  </tbody>\n",
       "</table>\n",
       "</div>"
      ],
      "text/plain": [
       "                   Number.of.Bags\n",
       "Country.of.Origin                \n",
       "Ecuador                  1.000000\n",
       "India                  230.076923\n",
       "Uganda                 160.900000\n",
       "United States           50.500000\n",
       "Vietnam                  1.000000"
      ]
     },
     "execution_count": 27,
     "metadata": {},
     "output_type": "execute_result"
    }
   ],
   "source": [
    "coffee_country_bags_df.groupby('Country.of.Origin').mean()"
   ]
  },
  {
   "cell_type": "markdown",
   "id": "7d968bcc",
   "metadata": {},
   "source": [
    "#### A quick recap of how .info() counts non-null and dtype for each column would be great. Thanks!\n",
    "\n",
    "above\n",
    "\n",
    "#### Can you plot a graph that uses two columns in a dataset?\n",
    "Yes, we will see that on Wednesday.\n",
    "\n",
    "#### Are there any other data types as important as dataframes in pandas?\n",
    "\n",
    "DataFrames are the main type provided by pandas, there are also Series which is conceptually a single column, groupby objects which is basically a list of (DataFrame,label) tuples, and some indexing, but all of these exist to support creating and operating on DataFrames.\n",
    "\n",
    "#### Will we be utilizing any other packages /libraries mentioned than the ones for visualizing data that we talked about today?\n",
    "\n",
    "We will use pandas for basic plots and seaborn for more advanced plots.  There are other libraries for visualization like plotly for interactive plots, but those are more advanced than we need or for specialized use cases. However, the way these type of libraries are designed, is that the special use case ones are for when the basic ones do not do what you need and they often have common patterns.\n",
    "\n",
    "#### When displaying two categories like we did at the end could you measure a different thing for each category? Like count for one and mean for the other?\n",
    "\n",
    "Yes! We will likely not do this in class, but it is a small extension from what we have covered and uses the [pandas aggregrate](https://pandas.pydata.org/docs/reference/api/pandas.DataFrame.aggregate.html) method.\n",
    "\n",
    "```{hint}\n",
    "This is expected for visualize level 3\n",
    "```\n",
    "\n",
    "\n",
    "#### How in depth will we go with graphing data and looking at it systemically to find patterns?\n",
    "\n",
    "At some level, that is what we sill do for the rest of the semester.  We will not cover everything there is to know about graphing, there are whole courses on data visualization. Most of the pattern-finding we will do is machine learning.  \n",
    "\n",
    "\n",
    "### Assignment\n",
    "\n",
    "#### For assignment 2, how do I find appropriate datasets online?\n",
    "\n",
    "I collated the ones that I recommend on the [datasets](datasets) page.  Then find something that is of interest to you.  \n",
    "\n",
    "#### How do you import a .py file from GitHub? Is there a way to do that without downloading it locally?\n",
    "\n",
    "It does need to be local in order to import it as a module.  \n",
    "\n",
    "Ideally, you will work with all of your assignment repos locally either following the instructions in [the notes from last class](ghoffline)"
   ]
  }
 ],
 "metadata": {
  "jupytext": {
   "text_representation": {
    "extension": ".md",
    "format_name": "myst",
    "format_version": 0.13,
    "jupytext_version": "1.14.1"
   }
  },
  "kernelspec": {
   "display_name": "Python 3",
   "language": "python",
   "name": "python3"
  },
  "language_info": {
   "codemirror_mode": {
    "name": "ipython",
    "version": 3
   },
   "file_extension": ".py",
   "mimetype": "text/x-python",
   "name": "python",
   "nbconvert_exporter": "python",
   "pygments_lexer": "ipython3",
   "version": "3.9.15"
  },
  "source_map": [
   12,
   33,
   35,
   44,
   47,
   53,
   55,
   75,
   77,
   86,
   88,
   106,
   108,
   115,
   117,
   121,
   124,
   140,
   142,
   146,
   148,
   153,
   157,
   159,
   162,
   164,
   175,
   177,
   182,
   184,
   188,
   190,
   194,
   196,
   202,
   204,
   207,
   209,
   220,
   222,
   250,
   252,
   255,
   257,
   259,
   261,
   267,
   270,
   273,
   275,
   278,
   280,
   286,
   288
  ]
 },
 "nbformat": 4,
 "nbformat_minor": 5
}