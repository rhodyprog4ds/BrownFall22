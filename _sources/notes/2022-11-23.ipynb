{
 "cells": [
  {
   "cell_type": "markdown",
   "id": "496f7932",
   "metadata": {},
   "source": [
    "# Classification of Text Data\n",
    "\n",
    "## Next Week\n",
    "\n",
    "Speakers:\n",
    "\n",
    "- Monday (Zoom): [Justin White](https://www.linkedin.com/in/thejustinwhite)\n",
    "- Wednesday (TBD): [Cass Wilkinson Saldana](https://datasparkri.org/our-people#:~:text=CASS%20WILKINSON%20SALDA%C3%91A%2C%20DATA%20ANALYST) from [DataSpark RI](https://datasparkri.org/) Me\n",
    "- Friday (Zoom): [Milecia McGregor](https://www.linkedin.com/in/milecia) speaking on Deploying Models"
   ]
  },
  {
   "cell_type": "code",
   "execution_count": 1,
   "id": "7cf760c1",
   "metadata": {},
   "outputs": [],
   "source": [
    "from sklearn.feature_extraction import text\n",
    "from sklearn.metrics.pairwise import euclidean_distances\n",
    "from sklearn import datasets\n",
    "import pandas as pd\n",
    "from sklearn.naive_bayes import MultinomialNB\n",
    "from sklearn.model_selection import train_test_split\n",
    "\n",
    "ng_X,ng_y = datasets.fetch_20newsgroups(categories =['comp.graphics','sci.crypt'],\n",
    "                    return_X_y = True)"
   ]
  },
  {
   "cell_type": "markdown",
   "id": "e5831a8b",
   "metadata": {},
   "source": [
    "## News Data\n",
    "\n",
    "Lables are the topic of the article 0 = computer graphics, 1 = cyrptography."
   ]
  },
  {
   "cell_type": "code",
   "execution_count": 2,
   "id": "9e94b2dc",
   "metadata": {},
   "outputs": [
    {
     "data": {
      "text/plain": [
       "array([0, 0, 1, 0, 0])"
      ]
     },
     "execution_count": 2,
     "metadata": {},
     "output_type": "execute_result"
    }
   ],
   "source": [
    "ng_y[:5]"
   ]
  },
  {
   "cell_type": "markdown",
   "id": "18620b1a",
   "metadata": {},
   "source": [
    "the X is he actual text"
   ]
  },
  {
   "cell_type": "code",
   "execution_count": 3,
   "id": "00fa58ae",
   "metadata": {},
   "outputs": [
    {
     "data": {
      "text/plain": [
       "\"From: robert@cpuserver.acsc.com (Robert Grant)\\nSubject: Virtual Reality for X on the CHEAP!\\nOrganization: USCACSC, Los Angeles\\nLines: 187\\nDistribution: world\\nReply-To: robert@cpuserver.acsc.com (Robert Grant)\\nNNTP-Posting-Host: cpuserver.acsc.com\\n\\nHi everyone,\\n\\nI thought that some people may be interested in my VR\\nsoftware on these groups:\\n\\n*******Announcing the release of Multiverse-1.0.2*******\\n\\nMultiverse is a multi-user, non-immersive, X-Windows based Virtual Reality\\nsystem, primarily focused on entertainment/research.\\n\\nFeatures:\\n\\n   Client-Server based model, using Berkeley Sockets.\\n   No limit to the number of users (apart from performance).\\n   Generic clients.\\n   Customizable servers.\\n   Hierachical Objects (allowing attachment of cameras and light sources).\\n   Multiple light sources (ambient, point and spot).\\n   Objects can have extension code, to handle unique functionality, easily\\n        attached.\\n\\nFunctionality:\\n\\n  Client:\\n   The client is built around a 'fast' render loop. Basically it changes things\\n   when told to by the server and then renders an image from the user's\\n   viewpoint. It also provides the server with information about the user's\\n   actions - which can then be communicated to other clients and therefore to\\n   other users.\\n\\n   The client is designed to be generic - in other words you don't need to\\n   develop a new client when you want to enter a new world. This means that\\n   resources can be spent on enhancing the client software rather than adapting\\n   it. The adaptations, as will be explained in a moment, occur in the servers.\\n\\n   This release of the client software supports the following functionality:\\n\\n    o Hierarchical Objects (with associated addressing)\\n\\n    o Multiple Light Sources and Types (Ambient, Point and Spot)\\n\\n    o User Interface Panels\\n\\n    o Colour Polygonal Rendering with Phong Shading (optional wireframe for\\n\\tfaster frame rates)\\n\\n    o Mouse and Keyboard Input\\n\\n   (Some people may be disappointed that this software doesn't support the\\n   PowerGlove as an input device - this is not because it can't, but because\\n   I don't have one! This will, however, be one of the first enhancements!)\\n\\n  Server(s):\\n   This is where customization can take place. The following basic support is\\n   provided in this release for potential world server developers:\\n\\n    o Transparent Client Management\\n\\n    o Client Message Handling\\n\\n   This may not sound like much, but it takes away the headache of\\naccepting and\\n   terminating clients and receiving messages from them - the\\napplication writer\\n   can work with the assumption that things are happening locally.\\n\\n   Things get more interesting in the object extension functionality. This is\\n   what is provided to allow you to animate your objects:\\n\\n    o Server Selectable Extension Installation:\\n        What this means is that you can decide which objects have extended\\n        functionality in your world. Basically you call the extension\\n        initialisers you want.\\n\\n    o Event Handler Registration:\\n        When you develop extensions for an object you basically write callback\\n        functions for the events that you want the object to respond to.\\n        (Current events supported: INIT, MOVE, CHANGE, COLLIDE & TERMINATE)\\n\\n    o Collision Detection Registration:\\n        If you want your object to respond to collision events just provide\\n        some basic information to the collision detection management software.\\n        Your callback will be activated when a collision occurs.\\n\\n    This software is kept separate from the worldServer applications because\\n    the application developer wants to build a library of extended objects\\n    from which to choose.\\n\\n    The following is all you need to make a World Server application:\\n\\n    o Provide an initWorld function:\\n        This is where you choose what object extensions will be supported, plus\\n        any initialization you want to do.\\n\\n    o Provide a positionObject function:\\n        This is where you determine where to place a new client.\\n\\n    o Provide an installWorldObjects function:\\n        This is where you load the world (.wld) file for a new client.\\n\\n    o Provide a getWorldType function:\\n        This is where you tell a new client what persona they should have.\\n\\n    o Provide an animateWorld function:\\n        This is where you can go wild! At a minimum you should let the objects\\n        move (by calling a move function) and let the server sleep for a bit\\n        (to avoid outrunning the clients).\\n\\n    That's all there is to it! And to prove it here are the line counts for the\\n    three world servers I've provided:\\n\\n        generic - 81 lines\\n        dactyl - 270 lines (more complicated collision detection due to the\\n                           stairs! Will probably be improved with future\\n                           versions)\\n        dogfight - 72 lines\\n\\nLocation:\\n\\n   This software is located at the following site:\\n   ftp.u.washington.edu\\n\\n   Directory:\\n   pub/virtual-worlds\\n\\n   File:\\n   multiverse-1.0.2.tar.Z\\n\\nFutures:\\n\\n   Client:\\n\\n    o Texture mapping.\\n\\n    o More realistic rendering: i.e. Z-Buffering (or similar), Gouraud shading\\n\\n    o HMD support.\\n\\n    o Etc, etc....\\n\\n   Server:\\n\\n    o Physical Modelling (gravity, friction etc).\\n\\n    o Enhanced Object Management/Interaction\\n\\n    o Etc, etc....\\n\\n   Both:\\n\\n    o Improved Comms!!!\\n\\nI hope this provides people with a good understanding of the Multiverse\\nsoftware,\\nunfortunately it comes with practically zero documentation, and I'm not sure\\nwhether that will ever be able to be rectified! :-(\\n\\nI hope people enjoy this software and that it is useful in our explorations of\\nthe Virtual Universe - I've certainly found fascinating developing it, and I\\nwould *LOVE* to add support for the PowerGlove...and an HMD :-)!!\\n\\nFinally one major disclaimer:\\n\\nThis is totally amateur code. By that I mean there is no support for this code\\nother than what I, out the kindness of my heart, or you, out of pure\\ndesperation, provide. I cannot be held responsible for anything good or bad\\nthat may happen through the use of this code - USE IT AT YOUR OWN RISK!\\n\\nDisclaimer over!\\n\\nOf course if you love it, I would like to here from you. And anyone with\\nPOSITIVE contributions/criticisms is also encouraged to contact me. Anyone who\\nhates it: > /dev/null!\\n\\n************************************************************************\\n*********\\nAnd if anyone wants to let me do this for a living: you know where to\\nwrite :-)!\\n************************************************************************\\n*********\\n\\nThanks,\\n\\nRobert.\\n\\nrobert@acsc.com\\n^^^^^^^^^^^^^^^\\n\""
      ]
     },
     "execution_count": 3,
     "metadata": {},
     "output_type": "execute_result"
    }
   ],
   "source": [
    "ng_X[0]"
   ]
  },
  {
   "cell_type": "markdown",
   "id": "5ab0afd7",
   "metadata": {},
   "source": [
    "##\n",
    "\n",
    "We're going to instantiate the object and fit it two the whole dataset."
   ]
  },
  {
   "cell_type": "code",
   "execution_count": 4,
   "id": "36078316",
   "metadata": {},
   "outputs": [],
   "source": [
    "count_vec = text.CountVectorizer()\n",
    "ng_vec = count_vec.fit_transform(ng_X)"
   ]
  },
  {
   "cell_type": "markdown",
   "id": "8ff3af36",
   "metadata": {},
   "source": [
    "```{important}\n",
    "I changed the following a little bit from class so that we can use the same test/train split for the two different types of transformation so that we can compare them more easily.\n",
    "\n",
    "This also helps illustrate when using the fit and transform separately is helpful.\n",
    "```"
   ]
  },
  {
   "cell_type": "code",
   "execution_count": 5,
   "id": "fa5a8f4a",
   "metadata": {},
   "outputs": [],
   "source": [
    "ng_X_train, ng_X_test, ng_y_train, ng_y_test = train_test_split(\n",
    "                                        ng_X, ng_y, random_state=0)"
   ]
  },
  {
   "cell_type": "markdown",
   "id": "f5c81e43",
   "metadata": {},
   "source": [
    "Now, we can use the transformation that we fit to the whole dataset to transform the train and test portions of the data separately.\n",
    "\n",
    "The transform method also returns the sparse matrix directly so we no longer need the `toarray` method."
   ]
  },
  {
   "cell_type": "code",
   "execution_count": 6,
   "id": "46c6d19a",
   "metadata": {},
   "outputs": [],
   "source": [
    "ng_vec_train = count_vec.transform(ng_X_train)\n",
    "ng_vec_test = count_vec.transform(ng_X_test)"
   ]
  },
  {
   "cell_type": "code",
   "execution_count": 7,
   "id": "016bec75",
   "metadata": {},
   "outputs": [
    {
     "ename": "TypeError",
     "evalue": "sort_values() missing 1 required positional argument: 'by'",
     "output_type": "error",
     "traceback": [
      "\u001b[0;31m---------------------------------------------------------------------------\u001b[0m",
      "\u001b[0;31mTypeError\u001b[0m                                 Traceback (most recent call last)",
      "Cell \u001b[0;32mIn[7], line 3\u001b[0m\n\u001b[1;32m      1\u001b[0m ex_sample \u001b[38;5;241m=\u001b[39m pd\u001b[38;5;241m.\u001b[39mDataFrame(ng_vec_train[\u001b[38;5;241m0\u001b[39m]\u001b[38;5;241m.\u001b[39mT,index \u001b[38;5;241m=\u001b[39m count_vec\u001b[38;5;241m.\u001b[39mvocabulary_,columns \u001b[38;5;241m=\u001b[39m[\u001b[38;5;124m'\u001b[39m\u001b[38;5;124mcount\u001b[39m\u001b[38;5;124m'\u001b[39m])\n\u001b[0;32m----> 3\u001b[0m \u001b[43mex_sample\u001b[49m\u001b[38;5;241;43m.\u001b[39;49m\u001b[43msort_values\u001b[49m\u001b[43m(\u001b[49m\u001b[43m)\u001b[49m\u001b[38;5;241m.\u001b[39mhead(\u001b[38;5;241m10\u001b[39m)\n",
      "File \u001b[0;32m/opt/hostedtoolcache/Python/3.9.15/x64/lib/python3.9/site-packages/pandas/util/_decorators.py:331\u001b[0m, in \u001b[0;36mdeprecate_nonkeyword_arguments.<locals>.decorate.<locals>.wrapper\u001b[0;34m(*args, **kwargs)\u001b[0m\n\u001b[1;32m    325\u001b[0m \u001b[38;5;28;01mif\u001b[39;00m \u001b[38;5;28mlen\u001b[39m(args) \u001b[38;5;241m>\u001b[39m num_allow_args:\n\u001b[1;32m    326\u001b[0m     warnings\u001b[38;5;241m.\u001b[39mwarn(\n\u001b[1;32m    327\u001b[0m         msg\u001b[38;5;241m.\u001b[39mformat(arguments\u001b[38;5;241m=\u001b[39m_format_argument_list(allow_args)),\n\u001b[1;32m    328\u001b[0m         \u001b[38;5;167;01mFutureWarning\u001b[39;00m,\n\u001b[1;32m    329\u001b[0m         stacklevel\u001b[38;5;241m=\u001b[39mfind_stack_level(),\n\u001b[1;32m    330\u001b[0m     )\n\u001b[0;32m--> 331\u001b[0m \u001b[38;5;28;01mreturn\u001b[39;00m \u001b[43mfunc\u001b[49m\u001b[43m(\u001b[49m\u001b[38;5;241;43m*\u001b[39;49m\u001b[43margs\u001b[49m\u001b[43m,\u001b[49m\u001b[43m \u001b[49m\u001b[38;5;241;43m*\u001b[39;49m\u001b[38;5;241;43m*\u001b[39;49m\u001b[43mkwargs\u001b[49m\u001b[43m)\u001b[49m\n",
      "\u001b[0;31mTypeError\u001b[0m: sort_values() missing 1 required positional argument: 'by'"
     ]
    }
   ],
   "source": [
    "ex_sample = pd.DataFrame(ng_vec_train[0].T,index = count_vec.vocabulary_,columns =['count'])\n",
    "\n",
    "ex_sample.sort_values().head(10)"
   ]
  },
  {
   "cell_type": "code",
   "execution_count": 8,
   "id": "531bf109",
   "metadata": {},
   "outputs": [],
   "source": [
    "clf = MultinomialNB()"
   ]
  },
  {
   "cell_type": "code",
   "execution_count": 9,
   "id": "e509f293",
   "metadata": {},
   "outputs": [
    {
     "data": {
      "text/plain": [
       "0.9830508474576272"
      ]
     },
     "execution_count": 9,
     "metadata": {},
     "output_type": "execute_result"
    }
   ],
   "source": [
    "clf.fit(ng_vec_train,ng_y_train).score(ng_vec_test,ng_y_test)"
   ]
  },
  {
   "cell_type": "markdown",
   "id": "90152e09",
   "metadata": {},
   "source": [
    "THis tells us that from the word counts we are able to distinguish between computer graphics articles and cryptography articles very well.\n",
    "\n",
    "## TF-IDF\n",
    "\n",
    "\n",
    "We wanted the TfidfVectorizer, not the transformer, so that it accepts documents not features. We will again, instantiate the object and then fit on the whole dataset."
   ]
  },
  {
   "cell_type": "code",
   "execution_count": 10,
   "id": "7d841e55",
   "metadata": {},
   "outputs": [
    {
     "data": {
      "text/html": [
       "<style>#sk-container-id-1 {color: black;background-color: white;}#sk-container-id-1 pre{padding: 0;}#sk-container-id-1 div.sk-toggleable {background-color: white;}#sk-container-id-1 label.sk-toggleable__label {cursor: pointer;display: block;width: 100%;margin-bottom: 0;padding: 0.3em;box-sizing: border-box;text-align: center;}#sk-container-id-1 label.sk-toggleable__label-arrow:before {content: \"▸\";float: left;margin-right: 0.25em;color: #696969;}#sk-container-id-1 label.sk-toggleable__label-arrow:hover:before {color: black;}#sk-container-id-1 div.sk-estimator:hover label.sk-toggleable__label-arrow:before {color: black;}#sk-container-id-1 div.sk-toggleable__content {max-height: 0;max-width: 0;overflow: hidden;text-align: left;background-color: #f0f8ff;}#sk-container-id-1 div.sk-toggleable__content pre {margin: 0.2em;color: black;border-radius: 0.25em;background-color: #f0f8ff;}#sk-container-id-1 input.sk-toggleable__control:checked~div.sk-toggleable__content {max-height: 200px;max-width: 100%;overflow: auto;}#sk-container-id-1 input.sk-toggleable__control:checked~label.sk-toggleable__label-arrow:before {content: \"▾\";}#sk-container-id-1 div.sk-estimator input.sk-toggleable__control:checked~label.sk-toggleable__label {background-color: #d4ebff;}#sk-container-id-1 div.sk-label input.sk-toggleable__control:checked~label.sk-toggleable__label {background-color: #d4ebff;}#sk-container-id-1 input.sk-hidden--visually {border: 0;clip: rect(1px 1px 1px 1px);clip: rect(1px, 1px, 1px, 1px);height: 1px;margin: -1px;overflow: hidden;padding: 0;position: absolute;width: 1px;}#sk-container-id-1 div.sk-estimator {font-family: monospace;background-color: #f0f8ff;border: 1px dotted black;border-radius: 0.25em;box-sizing: border-box;margin-bottom: 0.5em;}#sk-container-id-1 div.sk-estimator:hover {background-color: #d4ebff;}#sk-container-id-1 div.sk-parallel-item::after {content: \"\";width: 100%;border-bottom: 1px solid gray;flex-grow: 1;}#sk-container-id-1 div.sk-label:hover label.sk-toggleable__label {background-color: #d4ebff;}#sk-container-id-1 div.sk-serial::before {content: \"\";position: absolute;border-left: 1px solid gray;box-sizing: border-box;top: 0;bottom: 0;left: 50%;z-index: 0;}#sk-container-id-1 div.sk-serial {display: flex;flex-direction: column;align-items: center;background-color: white;padding-right: 0.2em;padding-left: 0.2em;position: relative;}#sk-container-id-1 div.sk-item {position: relative;z-index: 1;}#sk-container-id-1 div.sk-parallel {display: flex;align-items: stretch;justify-content: center;background-color: white;position: relative;}#sk-container-id-1 div.sk-item::before, #sk-container-id-1 div.sk-parallel-item::before {content: \"\";position: absolute;border-left: 1px solid gray;box-sizing: border-box;top: 0;bottom: 0;left: 50%;z-index: -1;}#sk-container-id-1 div.sk-parallel-item {display: flex;flex-direction: column;z-index: 1;position: relative;background-color: white;}#sk-container-id-1 div.sk-parallel-item:first-child::after {align-self: flex-end;width: 50%;}#sk-container-id-1 div.sk-parallel-item:last-child::after {align-self: flex-start;width: 50%;}#sk-container-id-1 div.sk-parallel-item:only-child::after {width: 0;}#sk-container-id-1 div.sk-dashed-wrapped {border: 1px dashed gray;margin: 0 0.4em 0.5em 0.4em;box-sizing: border-box;padding-bottom: 0.4em;background-color: white;}#sk-container-id-1 div.sk-label label {font-family: monospace;font-weight: bold;display: inline-block;line-height: 1.2em;}#sk-container-id-1 div.sk-label-container {text-align: center;}#sk-container-id-1 div.sk-container {/* jupyter's `normalize.less` sets `[hidden] { display: none; }` but bootstrap.min.css set `[hidden] { display: none !important; }` so we also need the `!important` here to be able to override the default hidden behavior on the sphinx rendered scikit-learn.org. See: https://github.com/scikit-learn/scikit-learn/issues/21755 */display: inline-block !important;position: relative;}#sk-container-id-1 div.sk-text-repr-fallback {display: none;}</style><div id=\"sk-container-id-1\" class=\"sk-top-container\"><div class=\"sk-text-repr-fallback\"><pre>TfidfVectorizer()</pre><b>In a Jupyter environment, please rerun this cell to show the HTML representation or trust the notebook. <br />On GitHub, the HTML representation is unable to render, please try loading this page with nbviewer.org.</b></div><div class=\"sk-container\" hidden><div class=\"sk-item\"><div class=\"sk-estimator sk-toggleable\"><input class=\"sk-toggleable__control sk-hidden--visually\" id=\"sk-estimator-id-1\" type=\"checkbox\" checked><label for=\"sk-estimator-id-1\" class=\"sk-toggleable__label sk-toggleable__label-arrow\">TfidfVectorizer</label><div class=\"sk-toggleable__content\"><pre>TfidfVectorizer()</pre></div></div></div></div></div>"
      ],
      "text/plain": [
       "TfidfVectorizer()"
      ]
     },
     "execution_count": 10,
     "metadata": {},
     "output_type": "execute_result"
    }
   ],
   "source": [
    "tfidf = text.TfidfVectorizer()\n",
    "\n",
    "tfidf.fit(ng_X)"
   ]
  },
  {
   "cell_type": "markdown",
   "id": "dd0f9560",
   "metadata": {},
   "source": [
    "We can see this works, because the code runs, but for completeness , we can also check the input again to compare with the above."
   ]
  },
  {
   "cell_type": "code",
   "execution_count": 11,
   "id": "217ee1bc",
   "metadata": {},
   "outputs": [
    {
     "name": "stdout",
     "output_type": "stream",
     "text": [
      "Learn vocabulary and idf from training set.\n",
      "\n",
      "        Parameters\n",
      "        ----------\n",
      "        raw_documents : iterable\n",
      "            An iterable which generates either str, unicode or file objects.\n"
     ]
    }
   ],
   "source": [
    "print('\\n'.join(tfidf.fit.__doc__.split('\\n')[:6]))"
   ]
  },
  {
   "cell_type": "markdown",
   "id": "23c4032d",
   "metadata": {},
   "source": [
    "This now takes documents as we wanted. Since we split the data before transforming, we can then apply the new fit using the transform on the train/test splits."
   ]
  },
  {
   "cell_type": "code",
   "execution_count": 12,
   "id": "b31f98af",
   "metadata": {},
   "outputs": [],
   "source": [
    "ng_tfidf_train = tfidf.transform(ng_X_train)\n",
    "ng_tfidf_test = tfidf.transform(ng_X_test)"
   ]
  },
  {
   "cell_type": "markdown",
   "id": "efb64a8f",
   "metadata": {},
   "source": [
    "Since these splits were made before we can use the same targets we used above."
   ]
  },
  {
   "cell_type": "code",
   "execution_count": 13,
   "id": "38e32b22",
   "metadata": {},
   "outputs": [
    {
     "data": {
      "text/plain": [
       "0.9288135593220339"
      ]
     },
     "execution_count": 13,
     "metadata": {},
     "output_type": "execute_result"
    }
   ],
   "source": [
    "clf.fit(ng_tfidf_train,ng_y_train).score(ng_tfidf_test,ng_y_test)"
   ]
  },
  {
   "cell_type": "markdown",
   "id": "72fec93a",
   "metadata": {},
   "source": [
    "## Comparing representations"
   ]
  },
  {
   "cell_type": "markdown",
   "id": "ff4cf03a",
   "metadata": {},
   "source": [
    "To start, we will look at one element from each in order to compare them."
   ]
  },
  {
   "cell_type": "code",
   "execution_count": 14,
   "id": "4fccd0e0",
   "metadata": {},
   "outputs": [
    {
     "data": {
      "text/plain": [
       "<1x24257 sparse matrix of type '<class 'numpy.float64'>'\n",
       "\twith 84 stored elements in Compressed Sparse Row format>"
      ]
     },
     "execution_count": 14,
     "metadata": {},
     "output_type": "execute_result"
    }
   ],
   "source": [
    "ng_tfidf_train[0]"
   ]
  },
  {
   "cell_type": "code",
   "execution_count": 15,
   "id": "41b0014f",
   "metadata": {},
   "outputs": [
    {
     "data": {
      "text/plain": [
       "<1x24257 sparse matrix of type '<class 'numpy.int64'>'\n",
       "\twith 84 stored elements in Compressed Sparse Row format>"
      ]
     },
     "execution_count": 15,
     "metadata": {},
     "output_type": "execute_result"
    }
   ],
   "source": [
    "ng_vec_train[0]"
   ]
  },
  {
   "cell_type": "markdown",
   "id": "9469db03",
   "metadata": {},
   "source": [
    "To start they both have 84 elements, since it is two different representations of the same document, that makes sense.  We can check a few others as well"
   ]
  },
  {
   "cell_type": "code",
   "execution_count": 16,
   "id": "38c918eb",
   "metadata": {},
   "outputs": [
    {
     "data": {
      "text/plain": [
       "<1x24257 sparse matrix of type '<class 'numpy.float64'>'\n",
       "\twith 202 stored elements in Compressed Sparse Row format>"
      ]
     },
     "execution_count": 16,
     "metadata": {},
     "output_type": "execute_result"
    }
   ],
   "source": [
    "ng_tfidf_train[1]"
   ]
  },
  {
   "cell_type": "code",
   "execution_count": 17,
   "id": "152637d7",
   "metadata": {},
   "outputs": [
    {
     "data": {
      "text/plain": [
       "<1x24257 sparse matrix of type '<class 'numpy.int64'>'\n",
       "\twith 202 stored elements in Compressed Sparse Row format>"
      ]
     },
     "execution_count": 17,
     "metadata": {},
     "output_type": "execute_result"
    }
   ],
   "source": [
    "ng_vec_train[1]"
   ]
  },
  {
   "cell_type": "code",
   "execution_count": 18,
   "id": "ad838179",
   "metadata": {},
   "outputs": [
    {
     "data": {
      "text/plain": [
       "True"
      ]
     },
     "execution_count": 18,
     "metadata": {},
     "output_type": "execute_result"
    }
   ],
   "source": [
    "(ng_vec_train[4]>0).sum() == (ng_tfidf_train[4]>0).sum()"
   ]
  },
  {
   "cell_type": "markdown",
   "id": "f43ed760",
   "metadata": {},
   "source": [
    "Let's pick out a common word so that the calculation is meaningful and do the tfidf calucation. To find a common word in the dictionary, we'll first filter the vocabulary to keep only the words that occur at least 300 times in the training set. We sum along the columns of the matrix, transform it to an array, then iterate over the sum, enumerated (assigning the number to each element of the sum) and use that to get the word out, if its total is over 300.  I saw that this is actually a sort of long list, so I chose to only print out the first 25. We print them out with the index so we can use it for the one we choose."
   ]
  },
  {
   "cell_type": "code",
   "execution_count": 19,
   "id": "01b532f4",
   "metadata": {},
   "outputs": [
    {
     "ename": "NameError",
     "evalue": "name 'np' is not defined",
     "output_type": "error",
     "traceback": [
      "\u001b[0;31m---------------------------------------------------------------------------\u001b[0m",
      "\u001b[0;31mNameError\u001b[0m                                 Traceback (most recent call last)",
      "Cell \u001b[0;32mIn[19], line 2\u001b[0m\n\u001b[1;32m      1\u001b[0m [(count_vec\u001b[38;5;241m.\u001b[39mget_feature_names()[i],i) \u001b[38;5;28;01mfor\u001b[39;00m i, n \u001b[38;5;129;01min\u001b[39;00m\n\u001b[0;32m----> 2\u001b[0m          \u001b[38;5;28menumerate\u001b[39m(\u001b[43mnp\u001b[49m\u001b[38;5;241m.\u001b[39masarray(ng_vec_train\u001b[38;5;241m.\u001b[39msum(axis\u001b[38;5;241m=\u001b[39m\u001b[38;5;241m0\u001b[39m))[\u001b[38;5;241m0\u001b[39m])\n\u001b[1;32m      3\u001b[0m  \u001b[38;5;28;01mif\u001b[39;00m n\u001b[38;5;241m>\u001b[39m\u001b[38;5;241m300\u001b[39m][:\u001b[38;5;241m25\u001b[39m]\n",
      "\u001b[0;31mNameError\u001b[0m: name 'np' is not defined"
     ]
    }
   ],
   "source": [
    "[(count_vec.get_feature_names()[i],i) for i, n in\n",
    "         enumerate(np.asarray(ng_vec_train.sum(axis=0))[0])\n",
    " if n>300][:25]"
   ]
  },
  {
   "cell_type": "markdown",
   "id": "15b0c4c5",
   "metadata": {},
   "source": [
    "Let's use computer."
   ]
  },
  {
   "cell_type": "code",
   "execution_count": 20,
   "id": "5275f573",
   "metadata": {},
   "outputs": [
    {
     "ename": "AttributeError",
     "evalue": "'CountVectorizer' object has no attribute 'get_feature_names'",
     "output_type": "error",
     "traceback": [
      "\u001b[0;31m---------------------------------------------------------------------------\u001b[0m",
      "\u001b[0;31mAttributeError\u001b[0m                            Traceback (most recent call last)",
      "Cell \u001b[0;32mIn[20], line 2\u001b[0m\n\u001b[1;32m      1\u001b[0m computer_idx \u001b[38;5;241m=\u001b[39m \u001b[38;5;241m6786\u001b[39m\n\u001b[0;32m----> 2\u001b[0m \u001b[43mcount_vec\u001b[49m\u001b[38;5;241;43m.\u001b[39;49m\u001b[43mget_feature_names\u001b[49m()[computer_idx]\n",
      "\u001b[0;31mAttributeError\u001b[0m: 'CountVectorizer' object has no attribute 'get_feature_names'"
     ]
    }
   ],
   "source": [
    "computer_idx = 6786\n",
    "count_vec.get_feature_names()[computer_idx]"
   ]
  },
  {
   "cell_type": "code",
   "execution_count": 21,
   "id": "942d708a",
   "metadata": {},
   "outputs": [
    {
     "data": {
      "text/plain": [
       "array([[0, 0, 0, 5, 0, 0, 0, 0, 0, 0]])"
      ]
     },
     "execution_count": 21,
     "metadata": {},
     "output_type": "execute_result"
    }
   ],
   "source": [
    "ng_vec_train[:,computer_idx].toarray()[:10].T"
   ]
  },
  {
   "cell_type": "code",
   "execution_count": 22,
   "id": "16aa5b06",
   "metadata": {},
   "outputs": [
    {
     "data": {
      "text/plain": [
       "array([[0.        , 0.        , 0.        , 0.06907742, 0.        ,\n",
       "        0.        , 0.        , 0.        , 0.        , 0.        ]])"
      ]
     },
     "execution_count": 22,
     "metadata": {},
     "output_type": "execute_result"
    }
   ],
   "source": [
    "ng_tfidf_train[:,computer_idx].toarray()[:10].T"
   ]
  },
  {
   "cell_type": "markdown",
   "id": "52144683",
   "metadata": {},
   "source": [
    "So, we can see they have non zero elements in the same places, meaning that in both representations the column refers to the same thing.\n",
    "\n",
    "We can compare the untransformed to the count vectorizer:"
   ]
  },
  {
   "cell_type": "code",
   "execution_count": 23,
   "id": "005be578",
   "metadata": {},
   "outputs": [
    {
     "data": {
      "text/plain": [
       "100"
      ]
     },
     "execution_count": 23,
     "metadata": {},
     "output_type": "execute_result"
    }
   ],
   "source": [
    "len(ng_X_train[0].split())"
   ]
  },
  {
   "cell_type": "code",
   "execution_count": 24,
   "id": "b1a2e01a",
   "metadata": {},
   "outputs": [
    {
     "data": {
      "text/plain": [
       "100"
      ]
     },
     "execution_count": 24,
     "metadata": {},
     "output_type": "execute_result"
    }
   ],
   "source": [
    "ng_vec_train[0].sum()"
   ]
  },
  {
   "cell_type": "markdown",
   "id": "3c15ec32",
   "metadata": {},
   "source": [
    "We see that it is just a count of the number of total words, not unique words, but total"
   ]
  },
  {
   "cell_type": "code",
   "execution_count": 25,
   "id": "dcced6d2",
   "metadata": {},
   "outputs": [
    {
     "data": {
      "text/plain": [
       "7.558255873996122"
      ]
     },
     "execution_count": 25,
     "metadata": {},
     "output_type": "execute_result"
    }
   ],
   "source": [
    "ng_tfidf_train[0].sum()"
   ]
  },
  {
   "cell_type": "markdown",
   "id": "00fb1662",
   "metadata": {},
   "source": [
    "The tf-idf matrix, however is normalized to make the sums smaller. Each row is not the same, but it is more similar."
   ]
  },
  {
   "cell_type": "code",
   "execution_count": 26,
   "id": "6070a310",
   "metadata": {},
   "outputs": [
    {
     "ename": "NameError",
     "evalue": "name 'sns' is not defined",
     "output_type": "error",
     "traceback": [
      "\u001b[0;31m---------------------------------------------------------------------------\u001b[0m",
      "\u001b[0;31mNameError\u001b[0m                                 Traceback (most recent call last)",
      "Cell \u001b[0;32mIn[26], line 1\u001b[0m\n\u001b[0;32m----> 1\u001b[0m \u001b[43msns\u001b[49m\u001b[38;5;241m.\u001b[39mdisplot(ng_vec_train\u001b[38;5;241m.\u001b[39msum(axis\u001b[38;5;241m=\u001b[39m\u001b[38;5;241m1\u001b[39m),bins\u001b[38;5;241m=\u001b[39m\u001b[38;5;241m20\u001b[39m)\n",
      "\u001b[0;31mNameError\u001b[0m: name 'sns' is not defined"
     ]
    }
   ],
   "source": [
    "sns.displot(ng_vec_train.sum(axis=1),bins=20)"
   ]
  },
  {
   "cell_type": "code",
   "execution_count": 27,
   "id": "deee50c7",
   "metadata": {},
   "outputs": [
    {
     "ename": "NameError",
     "evalue": "name 'sns' is not defined",
     "output_type": "error",
     "traceback": [
      "\u001b[0;31m---------------------------------------------------------------------------\u001b[0m",
      "\u001b[0;31mNameError\u001b[0m                                 Traceback (most recent call last)",
      "Cell \u001b[0;32mIn[27], line 1\u001b[0m\n\u001b[0;32m----> 1\u001b[0m \u001b[43msns\u001b[49m\u001b[38;5;241m.\u001b[39mdisplot(ng_tfidf_train\u001b[38;5;241m.\u001b[39msum(axis\u001b[38;5;241m=\u001b[39m\u001b[38;5;241m1\u001b[39m),bins\u001b[38;5;241m=\u001b[39m\u001b[38;5;241m20\u001b[39m)\n",
      "\u001b[0;31mNameError\u001b[0m: name 'sns' is not defined"
     ]
    }
   ],
   "source": [
    "sns.displot(ng_tfidf_train.sum(axis=1),bins=20)"
   ]
  },
  {
   "cell_type": "markdown",
   "id": "47fa17cf",
   "metadata": {},
   "source": [
    "We can see that the `tf-idf` makes the totals across documents more spread out."
   ]
  },
  {
   "cell_type": "markdown",
   "id": "02e34074",
   "metadata": {},
   "source": [
    "When we sum across words, we then get to see how"
   ]
  },
  {
   "cell_type": "markdown",
   "id": "72ea32f4",
   "metadata": {},
   "source": [
    "From the documentation we see that the idf is not exactly the inverse of the number of documents, it's also rescaled some.\n",
    "\n",
    "$$ idf = \\log \\frac{1 +n }{1 +df} + 1 $$"
   ]
  },
  {
   "cell_type": "markdown",
   "id": "04170655",
   "metadata": {},
   "source": [
    "In this implementation, each row is the normalized as well, to keep them small, so that documents of different sizes are more comparable.  For example, if we return to what we did last week.\n",
    "\n",
    "\n",
    "## Questions After Class\n",
    "\n",
    "### What are unique tokens vs total vocabulary?\n",
    "\n",
    " the total vocabulary is the unique tokens across all documents.  THe number of values stored in the whole matrix is the sume of the number of unique tokens across each word.  In that number, any word that appears in more than one document is counted more than once.\n",
    "\n",
    "### Does it only take into account if the word appears or not appear, or does the number of times the word appears matter? (Multinomial Naïve Bayes)\n",
    "\n",
    "\n",
    "It takes the counts."
   ]
  }
 ],
 "metadata": {
  "jupytext": {
   "text_representation": {
    "extension": ".md",
    "format_name": "myst",
    "format_version": 0.13,
    "jupytext_version": "1.14.1"
   }
  },
  "kernelspec": {
   "display_name": "Python 3 (ipykernel)",
   "language": "python",
   "name": "python3"
  },
  "language_info": {
   "codemirror_mode": {
    "name": "ipython",
    "version": 3
   },
   "file_extension": ".py",
   "mimetype": "text/x-python",
   "name": "python",
   "nbconvert_exporter": "python",
   "pygments_lexer": "ipython3",
   "version": "3.9.15"
  },
  "source_map": [
   12,
   25,
   35,
   40,
   42,
   45,
   47,
   52,
   55,
   65,
   68,
   74,
   79,
   85,
   89,
   91,
   100,
   104,
   109,
   111,
   115,
   118,
   122,
   124,
   128,
   132,
   136,
   138,
   142,
   146,
   150,
   152,
   156,
   160,
   164,
   169,
   173,
   175,
   181,
   185,
   187,
   191,
   193,
   197,
   201,
   203,
   207,
   211,
   217
  ]
 },
 "nbformat": 4,
 "nbformat_minor": 5
}