{
 "cells": [
  {
   "cell_type": "markdown",
   "id": "c52d5fce",
   "metadata": {},
   "source": [
    "# Model Comparison: when do differences matter?\n",
    "\n",
    "We'll pick up from where we left off on Monday."
   ]
  },
  {
   "cell_type": "code",
   "execution_count": 1,
   "id": "a3badac2",
   "metadata": {},
   "outputs": [],
   "source": [
    "import matplotlib.pyplot as plt\n",
    "import numpy as np\n",
    "import seaborn as sns\n",
    "import pandas as pd\n",
    "from sklearn import datasets\n",
    "from sklearn import cluster\n",
    "from sklearn import svm\n",
    "from sklearn import tree\n",
    "# import the whole model selection module\n",
    "from sklearn import model_selection\n",
    "sns.set_theme(palette='colorblind')"
   ]
  },
  {
   "cell_type": "markdown",
   "id": "eeabfa06",
   "metadata": {},
   "source": [
    "````{margin}\n",
    "```{admonition} Further Reading\n",
    "\n",
    "If you struggled to understand this code excerpt to fill in the comments, some generic strategies to understand code may help, beyond applying what we have covered in class.\n",
    "\n",
    "[The Programmer's brain](https://www.manning.com/books/the-programmers-brain)\n",
    "is an overview of how brains work, as applied to programming, written for working\n",
    "developers. This means that it assumes you know most CS concepts and at least two programming languages. If you don't there may be some parts that do not make sense to you, but the general ideas should still make sense.\n",
    "The author is a professor who researchers how people learn\n",
    "programming and how to effectively teach it.\n",
    "\n",
    "\n",
    "This book is available for free online, including an audio version of the first chapter.\n",
    "\n",
    "**I strongly recommend this if you have trouble remembering things**\n",
    "```\n",
    "````"
   ]
  },
  {
   "cell_type": "code",
   "execution_count": 2,
   "id": "2c277c21",
   "metadata": {},
   "outputs": [],
   "source": [
    "# load data, 20% test\n",
    "iris_X, iris_y = datasets.load_iris(return_X_y=True)\n",
    "iris_X_train, iris_X_test, iris_y_train, iris_y_test = model_selection.train_test_split(\n",
    "  iris_X,iris_y, test_size =.2)\n",
    "\n",
    "\n",
    "# setup DT & params\n",
    "dt = tree.DecisionTreeClassifier()\n",
    "\n",
    "params_dt = {'criterion':['gini','entropy'],\n",
    "       'max_depth':[2,3,4,5,6],\n",
    "    'min_samples_leaf':list(range(2,20,2))}\n",
    "\n",
    "dt_opt = model_selection.GridSearchCV(dt,params_dt)\n",
    "\n",
    "\n",
    "# optmize DT\n",
    "dt_opt.fit(iris_X_train,iris_y_train)\n",
    "\n",
    "# store DT results in dataframe\n",
    "dt_df = pd.DataFrame(dt_opt.cv_results_)\n",
    "\n",
    "\n",
    "# setup svm and params\n",
    "svm_clf = svm.SVC()\n",
    "param_grid = {'kernel':['linear','rbf'], 'C':[.5, .75,1,2,5,7, 10]}\n",
    "svm_opt = model_selection.GridSearchCV(svm_clf,param_grid)\n",
    "\n",
    "# optmize and save svm results\n",
    "svm_opt.fit(iris_X_train,iris_y_train)\n",
    "sv_df = pd.DataFrame(svm_opt.cv_results_)"
   ]
  },
  {
   "cell_type": "markdown",
   "id": "6c4f8cf6",
   "metadata": {},
   "source": [
    "```{important}\n",
    "\n",
    "This is extra detail we did not do in class for time reasons\n",
    "```\n",
    "We can  use EDA to understand how the score varied across all of the parameter settings we tried."
   ]
  },
  {
   "cell_type": "code",
   "execution_count": 3,
   "id": "1d655191",
   "metadata": {},
   "outputs": [
    {
     "data": {
      "text/plain": [
       "count    14.000000\n",
       "mean      0.979167\n",
       "std       0.006330\n",
       "min       0.966667\n",
       "25%       0.975000\n",
       "50%       0.979167\n",
       "75%       0.983333\n",
       "max       0.991667\n",
       "Name: mean_test_score, dtype: float64"
      ]
     },
     "execution_count": 3,
     "metadata": {},
     "output_type": "execute_result"
    }
   ],
   "source": [
    "sv_df['mean_test_score'].describe()"
   ]
  },
  {
   "cell_type": "code",
   "execution_count": 4,
   "id": "a2b75b14",
   "metadata": {},
   "outputs": [
    {
     "data": {
      "text/plain": [
       "count    90.000000\n",
       "mean      0.979722\n",
       "std       0.008291\n",
       "min       0.950000\n",
       "25%       0.983333\n",
       "50%       0.983333\n",
       "75%       0.983333\n",
       "max       0.983333\n",
       "Name: mean_test_score, dtype: float64"
      ]
     },
     "execution_count": 4,
     "metadata": {},
     "output_type": "execute_result"
    }
   ],
   "source": [
    "dt_df['mean_test_score'].describe()"
   ]
  },
  {
   "cell_type": "markdown",
   "id": "5350ac0b",
   "metadata": {},
   "source": [
    "From this we see that in both cases the standard deviation (std) is really\n",
    "low. This tells us that the parameter changes didn't impact the performance\n",
    "much.  Combined with the overall high accuracy this tells us that the data\n",
    "is probably really easy to classify.  If the performance had been uniformly\n",
    "bad, it might have instead told us that we did not try a wide enough range\n",
    "of parameters.\n",
    "\n",
    "To confirm how many parameter settings we have used we can check a couple different ways. First, above in the count of the describe.\n",
    "\n",
    "We can also calculate directly from the parameter grids before we even do the fit."
   ]
  },
  {
   "cell_type": "code",
   "execution_count": 5,
   "id": "5b444045",
   "metadata": {},
   "outputs": [
    {
     "data": {
      "text/plain": [
       "<seaborn.axisgrid.FacetGrid at 0x7f9838df8700>"
      ]
     },
     "execution_count": 5,
     "metadata": {},
     "output_type": "execute_result"
    },
    {
     "data": {
      "image/png": "[encoded data removed]",
      "text/plain": [
       "<Figure size 625.847x500 with 1 Axes>"
      ]
     },
     "metadata": {
      "filenames": {
       "image/png": "/home/runner/work/BrownFall22/BrownFall22/_build/jupyter_execute/notes/2022-11-16_8_1.png"
      }
     },
     "output_type": "display_data"
    }
   ],
   "source": [
    "description_vars = ['param_C', 'param_kernel', 'params',]\n",
    "vars_to_plot = ['mean_fit_time', 'std_fit_time', 'mean_score_time', 'std_score_time']\n",
    "svm_time = sv_df.melt(id_vars= description_vars,\n",
    "           value_vars=vars_to_plot)\n",
    "sns.lmplot(data=sv_df, x='mean_fit_time',y='mean_test_score',\n",
    "     hue='param_kernel',fit_reg=False)"
   ]
  },
  {
   "cell_type": "code",
   "execution_count": 6,
   "id": "763bb546",
   "metadata": {},
   "outputs": [
    {
     "data": {
      "text/plain": [
       "24.0"
      ]
     },
     "execution_count": 6,
     "metadata": {},
     "output_type": "execute_result"
    }
   ],
   "source": [
    "len(iris_X_train)/5"
   ]
  },
  {
   "cell_type": "code",
   "execution_count": 7,
   "id": "1fdd294a",
   "metadata": {},
   "outputs": [
    {
     "data": {
      "text/plain": [
       "0.9583333333333334"
      ]
     },
     "execution_count": 7,
     "metadata": {},
     "output_type": "execute_result"
    }
   ],
   "source": [
    "23/24"
   ]
  },
  {
   "cell_type": "code",
   "execution_count": 8,
   "id": "4432887d",
   "metadata": {},
   "outputs": [
    {
     "ename": "AttributeError",
     "evalue": "predict_proba is not available when  probability=False",
     "output_type": "error",
     "traceback": [
      "\u001b[0;31m---------------------------------------------------------------------------\u001b[0m",
      "\u001b[0;31mAttributeError\u001b[0m                            Traceback (most recent call last)",
      "Cell \u001b[0;32mIn[8], line 1\u001b[0m\n\u001b[0;32m----> 1\u001b[0m \u001b[43msvm_opt\u001b[49m\u001b[38;5;241;43m.\u001b[39;49m\u001b[43mpredict_proba\u001b[49m\n",
      "File \u001b[0;32m/opt/hostedtoolcache/Python/3.9.15/x64/lib/python3.9/site-packages/sklearn/utils/_available_if.py:32\u001b[0m, in \u001b[0;36m_AvailableIfDescriptor.__get__\u001b[0;34m(self, obj, owner)\u001b[0m\n\u001b[1;32m     26\u001b[0m attr_err \u001b[38;5;241m=\u001b[39m \u001b[38;5;167;01mAttributeError\u001b[39;00m(\n\u001b[1;32m     27\u001b[0m     \u001b[38;5;124mf\u001b[39m\u001b[38;5;124m\"\u001b[39m\u001b[38;5;124mThis \u001b[39m\u001b[38;5;132;01m{\u001b[39;00m\u001b[38;5;28mrepr\u001b[39m(owner\u001b[38;5;241m.\u001b[39m\u001b[38;5;18m__name__\u001b[39m)\u001b[38;5;132;01m}\u001b[39;00m\u001b[38;5;124m has no attribute \u001b[39m\u001b[38;5;132;01m{\u001b[39;00m\u001b[38;5;28mrepr\u001b[39m(\u001b[38;5;28mself\u001b[39m\u001b[38;5;241m.\u001b[39mattribute_name)\u001b[38;5;132;01m}\u001b[39;00m\u001b[38;5;124m\"\u001b[39m\n\u001b[1;32m     28\u001b[0m )\n\u001b[1;32m     29\u001b[0m \u001b[38;5;28;01mif\u001b[39;00m obj \u001b[38;5;129;01mis\u001b[39;00m \u001b[38;5;129;01mnot\u001b[39;00m \u001b[38;5;28;01mNone\u001b[39;00m:\n\u001b[1;32m     30\u001b[0m     \u001b[38;5;66;03m# delegate only on instances, not the classes.\u001b[39;00m\n\u001b[1;32m     31\u001b[0m     \u001b[38;5;66;03m# this is to allow access to the docstrings.\u001b[39;00m\n\u001b[0;32m---> 32\u001b[0m     \u001b[38;5;28;01mif\u001b[39;00m \u001b[38;5;129;01mnot\u001b[39;00m \u001b[38;5;28;43mself\u001b[39;49m\u001b[38;5;241;43m.\u001b[39;49m\u001b[43mcheck\u001b[49m\u001b[43m(\u001b[49m\u001b[43mobj\u001b[49m\u001b[43m)\u001b[49m:\n\u001b[1;32m     33\u001b[0m         \u001b[38;5;28;01mraise\u001b[39;00m attr_err\n\u001b[1;32m     34\u001b[0m     out \u001b[38;5;241m=\u001b[39m MethodType(\u001b[38;5;28mself\u001b[39m\u001b[38;5;241m.\u001b[39mfn, obj)\n",
      "File \u001b[0;32m/opt/hostedtoolcache/Python/3.9.15/x64/lib/python3.9/site-packages/sklearn/model_selection/_search.py:363\u001b[0m, in \u001b[0;36m_estimator_has.<locals>.check\u001b[0;34m(self)\u001b[0m\n\u001b[1;32m    360\u001b[0m _check_refit(\u001b[38;5;28mself\u001b[39m, attr)\n\u001b[1;32m    361\u001b[0m \u001b[38;5;28;01mif\u001b[39;00m \u001b[38;5;28mhasattr\u001b[39m(\u001b[38;5;28mself\u001b[39m, \u001b[38;5;124m\"\u001b[39m\u001b[38;5;124mbest_estimator_\u001b[39m\u001b[38;5;124m\"\u001b[39m):\n\u001b[1;32m    362\u001b[0m     \u001b[38;5;66;03m# raise an AttributeError if `attr` does not exist\u001b[39;00m\n\u001b[0;32m--> 363\u001b[0m     \u001b[38;5;28;43mgetattr\u001b[39;49m\u001b[43m(\u001b[49m\u001b[38;5;28;43mself\u001b[39;49m\u001b[38;5;241;43m.\u001b[39;49m\u001b[43mbest_estimator_\u001b[49m\u001b[43m,\u001b[49m\u001b[43m \u001b[49m\u001b[43mattr\u001b[49m\u001b[43m)\u001b[49m\n\u001b[1;32m    364\u001b[0m     \u001b[38;5;28;01mreturn\u001b[39;00m \u001b[38;5;28;01mTrue\u001b[39;00m\n\u001b[1;32m    365\u001b[0m \u001b[38;5;66;03m# raise an AttributeError if `attr` does not exist\u001b[39;00m\n",
      "File \u001b[0;32m/opt/hostedtoolcache/Python/3.9.15/x64/lib/python3.9/site-packages/sklearn/utils/_available_if.py:32\u001b[0m, in \u001b[0;36m_AvailableIfDescriptor.__get__\u001b[0;34m(self, obj, owner)\u001b[0m\n\u001b[1;32m     26\u001b[0m attr_err \u001b[38;5;241m=\u001b[39m \u001b[38;5;167;01mAttributeError\u001b[39;00m(\n\u001b[1;32m     27\u001b[0m     \u001b[38;5;124mf\u001b[39m\u001b[38;5;124m\"\u001b[39m\u001b[38;5;124mThis \u001b[39m\u001b[38;5;132;01m{\u001b[39;00m\u001b[38;5;28mrepr\u001b[39m(owner\u001b[38;5;241m.\u001b[39m\u001b[38;5;18m__name__\u001b[39m)\u001b[38;5;132;01m}\u001b[39;00m\u001b[38;5;124m has no attribute \u001b[39m\u001b[38;5;132;01m{\u001b[39;00m\u001b[38;5;28mrepr\u001b[39m(\u001b[38;5;28mself\u001b[39m\u001b[38;5;241m.\u001b[39mattribute_name)\u001b[38;5;132;01m}\u001b[39;00m\u001b[38;5;124m\"\u001b[39m\n\u001b[1;32m     28\u001b[0m )\n\u001b[1;32m     29\u001b[0m \u001b[38;5;28;01mif\u001b[39;00m obj \u001b[38;5;129;01mis\u001b[39;00m \u001b[38;5;129;01mnot\u001b[39;00m \u001b[38;5;28;01mNone\u001b[39;00m:\n\u001b[1;32m     30\u001b[0m     \u001b[38;5;66;03m# delegate only on instances, not the classes.\u001b[39;00m\n\u001b[1;32m     31\u001b[0m     \u001b[38;5;66;03m# this is to allow access to the docstrings.\u001b[39;00m\n\u001b[0;32m---> 32\u001b[0m     \u001b[38;5;28;01mif\u001b[39;00m \u001b[38;5;129;01mnot\u001b[39;00m \u001b[38;5;28;43mself\u001b[39;49m\u001b[38;5;241;43m.\u001b[39;49m\u001b[43mcheck\u001b[49m\u001b[43m(\u001b[49m\u001b[43mobj\u001b[49m\u001b[43m)\u001b[49m:\n\u001b[1;32m     33\u001b[0m         \u001b[38;5;28;01mraise\u001b[39;00m attr_err\n\u001b[1;32m     34\u001b[0m     out \u001b[38;5;241m=\u001b[39m MethodType(\u001b[38;5;28mself\u001b[39m\u001b[38;5;241m.\u001b[39mfn, obj)\n",
      "File \u001b[0;32m/opt/hostedtoolcache/Python/3.9.15/x64/lib/python3.9/site-packages/sklearn/svm/_base.py:829\u001b[0m, in \u001b[0;36mBaseSVC._check_proba\u001b[0;34m(self)\u001b[0m\n\u001b[1;32m    827\u001b[0m \u001b[38;5;28;01mdef\u001b[39;00m \u001b[38;5;21m_check_proba\u001b[39m(\u001b[38;5;28mself\u001b[39m):\n\u001b[1;32m    828\u001b[0m     \u001b[38;5;28;01mif\u001b[39;00m \u001b[38;5;129;01mnot\u001b[39;00m \u001b[38;5;28mself\u001b[39m\u001b[38;5;241m.\u001b[39mprobability:\n\u001b[0;32m--> 829\u001b[0m         \u001b[38;5;28;01mraise\u001b[39;00m \u001b[38;5;167;01mAttributeError\u001b[39;00m(\n\u001b[1;32m    830\u001b[0m             \u001b[38;5;124m\"\u001b[39m\u001b[38;5;124mpredict_proba is not available when  probability=False\u001b[39m\u001b[38;5;124m\"\u001b[39m\n\u001b[1;32m    831\u001b[0m         )\n\u001b[1;32m    832\u001b[0m     \u001b[38;5;28;01mif\u001b[39;00m \u001b[38;5;28mself\u001b[39m\u001b[38;5;241m.\u001b[39m_impl \u001b[38;5;129;01mnot\u001b[39;00m \u001b[38;5;129;01min\u001b[39;00m (\u001b[38;5;124m\"\u001b[39m\u001b[38;5;124mc_svc\u001b[39m\u001b[38;5;124m\"\u001b[39m, \u001b[38;5;124m\"\u001b[39m\u001b[38;5;124mnu_svc\u001b[39m\u001b[38;5;124m\"\u001b[39m):\n\u001b[1;32m    833\u001b[0m         \u001b[38;5;28;01mraise\u001b[39;00m \u001b[38;5;167;01mAttributeError\u001b[39;00m(\u001b[38;5;124m\"\u001b[39m\u001b[38;5;124mpredict_proba only implemented for SVC and NuSVC\u001b[39m\u001b[38;5;124m\"\u001b[39m)\n",
      "\u001b[0;31mAttributeError\u001b[0m: predict_proba is not available when  probability=False"
     ]
    }
   ],
   "source": [
    "svm_opt.predict_proba"
   ]
  },
  {
   "cell_type": "markdown",
   "id": "93aaf022",
   "metadata": {},
   "source": [
    "## When do differences matter?\n",
    "\n",
    "We can check calculate a confidence interval to determine more precisely when the performance of two models is meaningfully different.  \n",
    "\n",
    "\n",
    "This function calculates the 95% confidence interval.  The range within which we are 95% confident the quantity we have estimated is truly within in.  When we have more samples in the test set used to calculate the score, we are more confident in the estimate, so the interval is narrower."
   ]
  },
  {
   "cell_type": "code",
   "execution_count": 9,
   "id": "30346f1a",
   "metadata": {},
   "outputs": [],
   "source": [
    "def classification_confint(acc, n):\n",
    "    '''\n",
    "    Compute the 95% confidence interval for a classification problem.\n",
    "    acc -- classification accuracy\n",
    "    n -- number of observations used to compute the accuracy\n",
    "    Returns a tuple (lb,ub)\n",
    "    '''\n",
    "    interval = 1.96*np.sqrt(acc*(1-acc)/n)\n",
    "    lb = max(0, acc - interval)\n",
    "    ub = min(1.0, acc + interval)\n",
    "    return (lb,ub)"
   ]
  },
  {
   "cell_type": "markdown",
   "id": "3070b8e5",
   "metadata": {},
   "source": [
    "We can calculate the number of observations used to compute the accuracy using the size of the training data and the fact that we set it to 10-fold cross validation. That means that 10% (100/10) of the data was used for each fold and each validation set."
   ]
  },
  {
   "cell_type": "code",
   "execution_count": 10,
   "id": "bdddf091",
   "metadata": {},
   "outputs": [
    {
     "data": {
      "text/plain": [
       "sklearn.model_selection._search.GridSearchCV"
      ]
     },
     "execution_count": 10,
     "metadata": {},
     "output_type": "execute_result"
    }
   ],
   "source": [
    "type(dt_opt)"
   ]
  },
  {
   "cell_type": "code",
   "execution_count": 11,
   "id": "21919941",
   "metadata": {},
   "outputs": [
    {
     "data": {
      "text/plain": [
       "(0.9833333333333332, 0.9916666666666668)"
      ]
     },
     "execution_count": 11,
     "metadata": {},
     "output_type": "execute_result"
    }
   ],
   "source": [
    "dt_opt.best_score_, svm_opt.best_score_"
   ]
  },
  {
   "cell_type": "code",
   "execution_count": 12,
   "id": "474ebd33",
   "metadata": {},
   "outputs": [
    {
     "data": {
      "text/plain": [
       "(0.9604278107904404, 1.0)"
      ]
     },
     "execution_count": 12,
     "metadata": {},
     "output_type": "execute_result"
    }
   ],
   "source": [
    "classification_confint(dt_opt.best_score_, len(iris_X_train))"
   ]
  },
  {
   "cell_type": "markdown",
   "id": "a26ca6bd",
   "metadata": {},
   "source": [
    "We can see how more samples narrows the range."
   ]
  },
  {
   "cell_type": "code",
   "execution_count": 13,
   "id": "91f96d19",
   "metadata": {},
   "outputs": [
    {
     "data": {
      "text/plain": [
       "(0.9760899711101458, 0.9905766955565205)"
      ]
     },
     "execution_count": 13,
     "metadata": {},
     "output_type": "execute_result"
    }
   ],
   "source": [
    "classification_confint(dt_opt.best_score_, len(iris_X_train)*10)"
   ]
  },
  {
   "cell_type": "markdown",
   "id": "83ae0036",
   "metadata": {},
   "source": [
    "We would say that two model sare different if their intervals do not overlap."
   ]
  },
  {
   "cell_type": "code",
   "execution_count": null,
   "id": "7aa2971b",
   "metadata": {},
   "outputs": [],
   "source": []
  },
  {
   "cell_type": "markdown",
   "id": "6404f52a",
   "metadata": {},
   "source": [
    "## Questions after class?\n",
    "\n",
    "### What is the data type of the dt_opt and svm_opt variables? In Python it says sklearn.model_selection._search.GridSearchCV for them, but what about in plain human language? It is a model or a group of models?\n",
    "\n",
    "This is an object of a sort of complex type, a Grid search object is really the only name for the whole thing, but it is easier to understand part by part.  \n",
    "\n",
    "It has some attributes that are metrics and one attribute that is the a model."
   ]
  },
  {
   "cell_type": "code",
   "execution_count": 14,
   "id": "ebff186d",
   "metadata": {},
   "outputs": [
    {
     "data": {
      "text/plain": [
       "0.9"
      ]
     },
     "execution_count": 14,
     "metadata": {},
     "output_type": "execute_result"
    }
   ],
   "source": [
    "svm_opt.best_estimator_.score(iris_X_test,iris_y_test)"
   ]
  },
  {
   "cell_type": "code",
   "execution_count": 15,
   "id": "63d1f121",
   "metadata": {},
   "outputs": [
    {
     "data": {
      "text/plain": [
       "0.8333333333333334"
      ]
     },
     "execution_count": 15,
     "metadata": {},
     "output_type": "execute_result"
    }
   ],
   "source": [
    "dt_opt.best_estimator_.score(iris_X_test,iris_y_test)"
   ]
  }
 ],
 "metadata": {
  "jupytext": {
   "text_representation": {
    "extension": ".md",
    "format_name": "myst",
    "format_version": 0.13,
    "jupytext_version": "1.14.1"
   }
  },
  "kernelspec": {
   "display_name": "Python 3 (ipykernel)",
   "language": "python",
   "name": "python3"
  },
  "language_info": {
   "codemirror_mode": {
    "name": "ipython",
    "version": 3
   },
   "file_extension": ".py",
   "mimetype": "text/x-python",
   "name": "python",
   "nbconvert_exporter": "python",
   "pygments_lexer": "ipython3",
   "version": "3.9.15"
  },
  "source_map": [
   12,
   18,
   30,
   51,
   83,
   91,
   95,
   97,
   111,
   120,
   124,
   128,
   130,
   141,
   153,
   158,
   162,
   166,
   168,
   172,
   174,
   178,
   180,
   190,
   194
  ]
 },
 "nbformat": 4,
 "nbformat_minor": 5
}