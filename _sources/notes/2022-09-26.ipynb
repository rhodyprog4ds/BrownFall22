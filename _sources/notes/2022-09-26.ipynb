{
 "cells": [
  {
   "cell_type": "markdown",
   "id": "79b4924f",
   "metadata": {},
   "source": [
    "# Intro to Data Cleaning\n",
    "\n",
    "\n",
    "\n",
    "This week, we'll be cleaning data.\n",
    "\n",
    "Cleaning data is **labor intensive** and requires making *subjective* choices.  \n",
    "We'll focus on, and assess you on, manipulating data correctly, making reasonable\n",
    "choices, and documenting the choices you make carefully.\n",
    "\n",
    "We'll focus on the programming tools that get used in cleaning data in class\n",
    "this week:\n",
    "- reshaping data\n",
    "- handling missing or incorrect values\n",
    "- renaming columns"
   ]
  },
  {
   "cell_type": "code",
   "execution_count": 1,
   "id": "61d9de64",
   "metadata": {},
   "outputs": [],
   "source": [
    "import pandas as pd\n",
    "import seaborn as sns\n",
    "\n",
    "# sns.set_theme(pallete='colorblind')"
   ]
  },
  {
   "cell_type": "markdown",
   "id": "ec9064e3",
   "metadata": {},
   "source": [
    "## Tidy Data\n",
    "\n",
    "Read in the three csv files described below and store them in a list of dataFrames"
   ]
  },
  {
   "cell_type": "code",
   "execution_count": 2,
   "id": "ff9c746a",
   "metadata": {},
   "outputs": [],
   "source": [
    "url_base = 'https://raw.githubusercontent.com/rhodyprog4ds/rhodyds/main/data/'\n",
    "\n",
    "datasets = ['study_a.csv','study_b.csv','study_c.csv']"
   ]
  },
  {
   "cell_type": "code",
   "execution_count": 3,
   "id": "04f5ed37",
   "metadata": {},
   "outputs": [],
   "source": [
    "df_list = [pd.read_csv(url_base + current) for current in datasets]"
   ]
  },
  {
   "cell_type": "code",
   "execution_count": 4,
   "id": "45c881e2",
   "metadata": {},
   "outputs": [
    {
     "data": {
      "text/plain": [
       "list"
      ]
     },
     "execution_count": 4,
     "metadata": {},
     "output_type": "execute_result"
    }
   ],
   "source": [
    "type(df_list)"
   ]
  },
  {
   "cell_type": "code",
   "execution_count": 5,
   "id": "a6c0ebfe",
   "metadata": {},
   "outputs": [
    {
     "data": {
      "text/plain": [
       "pandas.core.frame.DataFrame"
      ]
     },
     "execution_count": 5,
     "metadata": {},
     "output_type": "execute_result"
    }
   ],
   "source": [
    "type(df_list[0])"
   ]
  },
  {
   "cell_type": "code",
   "execution_count": 6,
   "id": "d2a334b7",
   "metadata": {},
   "outputs": [
    {
     "data": {
      "text/html": [
       "<div>\n",
       "<style scoped>\n",
       "    .dataframe tbody tr th:only-of-type {\n",
       "        vertical-align: middle;\n",
       "    }\n",
       "\n",
       "    .dataframe tbody tr th {\n",
       "        vertical-align: top;\n",
       "    }\n",
       "\n",
       "    .dataframe thead th {\n",
       "        text-align: right;\n",
       "    }\n",
       "</style>\n",
       "<table border=\"1\" class=\"dataframe\">\n",
       "  <thead>\n",
       "    <tr style=\"text-align: right;\">\n",
       "      <th></th>\n",
       "      <th>name</th>\n",
       "      <th>treatmenta</th>\n",
       "      <th>treatmentb</th>\n",
       "    </tr>\n",
       "  </thead>\n",
       "  <tbody>\n",
       "    <tr>\n",
       "      <th>0</th>\n",
       "      <td>John Smith</td>\n",
       "      <td>-</td>\n",
       "      <td>2</td>\n",
       "    </tr>\n",
       "    <tr>\n",
       "      <th>1</th>\n",
       "      <td>Jane Doe</td>\n",
       "      <td>16</td>\n",
       "      <td>11</td>\n",
       "    </tr>\n",
       "    <tr>\n",
       "      <th>2</th>\n",
       "      <td>Mary Johnson</td>\n",
       "      <td>3</td>\n",
       "      <td>1</td>\n",
       "    </tr>\n",
       "  </tbody>\n",
       "</table>\n",
       "</div>"
      ],
      "text/plain": [
       "           name treatmenta  treatmentb\n",
       "0    John Smith          -           2\n",
       "1      Jane Doe         16          11\n",
       "2  Mary Johnson          3           1"
      ]
     },
     "execution_count": 6,
     "metadata": {},
     "output_type": "execute_result"
    }
   ],
   "source": [
    "df_list[0]"
   ]
  },
  {
   "cell_type": "code",
   "execution_count": 7,
   "id": "76b1cb3c",
   "metadata": {},
   "outputs": [
    {
     "data": {
      "text/html": [
       "<div>\n",
       "<style scoped>\n",
       "    .dataframe tbody tr th:only-of-type {\n",
       "        vertical-align: middle;\n",
       "    }\n",
       "\n",
       "    .dataframe tbody tr th {\n",
       "        vertical-align: top;\n",
       "    }\n",
       "\n",
       "    .dataframe thead th {\n",
       "        text-align: right;\n",
       "    }\n",
       "</style>\n",
       "<table border=\"1\" class=\"dataframe\">\n",
       "  <thead>\n",
       "    <tr style=\"text-align: right;\">\n",
       "      <th></th>\n",
       "      <th>intervention</th>\n",
       "      <th>John Smith</th>\n",
       "      <th>Jane Doe</th>\n",
       "      <th>Mary Johnson</th>\n",
       "    </tr>\n",
       "  </thead>\n",
       "  <tbody>\n",
       "    <tr>\n",
       "      <th>0</th>\n",
       "      <td>treatmenta</td>\n",
       "      <td>-</td>\n",
       "      <td>16</td>\n",
       "      <td>3</td>\n",
       "    </tr>\n",
       "    <tr>\n",
       "      <th>1</th>\n",
       "      <td>treatmentb</td>\n",
       "      <td>2</td>\n",
       "      <td>11</td>\n",
       "      <td>1</td>\n",
       "    </tr>\n",
       "  </tbody>\n",
       "</table>\n",
       "</div>"
      ],
      "text/plain": [
       "  intervention John Smith  Jane Doe  Mary Johnson\n",
       "0   treatmenta          -        16             3\n",
       "1   treatmentb          2        11             1"
      ]
     },
     "execution_count": 7,
     "metadata": {},
     "output_type": "execute_result"
    }
   ],
   "source": [
    "df_list[1]"
   ]
  },
  {
   "cell_type": "code",
   "execution_count": 8,
   "id": "ffdafb3e",
   "metadata": {},
   "outputs": [
    {
     "data": {
      "text/html": [
       "<div>\n",
       "<style scoped>\n",
       "    .dataframe tbody tr th:only-of-type {\n",
       "        vertical-align: middle;\n",
       "    }\n",
       "\n",
       "    .dataframe tbody tr th {\n",
       "        vertical-align: top;\n",
       "    }\n",
       "\n",
       "    .dataframe thead th {\n",
       "        text-align: right;\n",
       "    }\n",
       "</style>\n",
       "<table border=\"1\" class=\"dataframe\">\n",
       "  <thead>\n",
       "    <tr style=\"text-align: right;\">\n",
       "      <th></th>\n",
       "      <th>person</th>\n",
       "      <th>treatment</th>\n",
       "      <th>result</th>\n",
       "    </tr>\n",
       "  </thead>\n",
       "  <tbody>\n",
       "    <tr>\n",
       "      <th>0</th>\n",
       "      <td>John Smith</td>\n",
       "      <td>a</td>\n",
       "      <td>-</td>\n",
       "    </tr>\n",
       "    <tr>\n",
       "      <th>1</th>\n",
       "      <td>Jane Doe</td>\n",
       "      <td>a</td>\n",
       "      <td>16</td>\n",
       "    </tr>\n",
       "    <tr>\n",
       "      <th>2</th>\n",
       "      <td>Mary Johnson</td>\n",
       "      <td>a</td>\n",
       "      <td>3</td>\n",
       "    </tr>\n",
       "    <tr>\n",
       "      <th>3</th>\n",
       "      <td>John Smith</td>\n",
       "      <td>b</td>\n",
       "      <td>2</td>\n",
       "    </tr>\n",
       "    <tr>\n",
       "      <th>4</th>\n",
       "      <td>Jane Doe</td>\n",
       "      <td>b</td>\n",
       "      <td>11</td>\n",
       "    </tr>\n",
       "    <tr>\n",
       "      <th>5</th>\n",
       "      <td>Mary Johnson</td>\n",
       "      <td>b</td>\n",
       "      <td>1</td>\n",
       "    </tr>\n",
       "  </tbody>\n",
       "</table>\n",
       "</div>"
      ],
      "text/plain": [
       "         person treatment result\n",
       "0    John Smith         a      -\n",
       "1      Jane Doe         a     16\n",
       "2  Mary Johnson         a      3\n",
       "3    John Smith         b      2\n",
       "4      Jane Doe         b     11\n",
       "5  Mary Johnson         b      1"
      ]
     },
     "execution_count": 8,
     "metadata": {},
     "output_type": "execute_result"
    }
   ],
   "source": [
    "df_list[2]"
   ]
  },
  {
   "cell_type": "markdown",
   "id": "e5b16352",
   "metadata": {},
   "source": [
    "These three all show the same data, but let's say we have two goals:\n",
    "- find the average  effect per person across treatments\n",
    "- find the average effect per treatment across people\n",
    "\n",
    "This works differently for these three versions."
   ]
  },
  {
   "cell_type": "code",
   "execution_count": 9,
   "id": "c8c7c884",
   "metadata": {},
   "outputs": [
    {
     "name": "stderr",
     "output_type": "stream",
     "text": [
      "/tmp/ipykernel_2091/2274987639.py:1: FutureWarning: The default value of numeric_only in DataFrame.mean is deprecated. In a future version, it will default to False. In addition, specifying 'numeric_only=None' is deprecated. Select only valid columns or specify the value of numeric_only to silence this warning.\n",
      "  df_list[0].mean()\n"
     ]
    },
    {
     "data": {
      "text/plain": [
       "treatmenta   -54.333333\n",
       "treatmentb     4.666667\n",
       "dtype: float64"
      ]
     },
     "execution_count": 9,
     "metadata": {},
     "output_type": "execute_result"
    }
   ],
   "source": [
    "df_list[0].mean()"
   ]
  },
  {
   "cell_type": "markdown",
   "id": "2f7d2559",
   "metadata": {},
   "source": [
    "we get the average per treatment, but to get the average per person, we have to go across rows, which we can do here, but doesn't work as well with plotting"
   ]
  },
  {
   "cell_type": "code",
   "execution_count": 10,
   "id": "9777dd30",
   "metadata": {},
   "outputs": [
    {
     "name": "stderr",
     "output_type": "stream",
     "text": [
      "/tmp/ipykernel_2091/1371725361.py:1: FutureWarning: Dropping of nuisance columns in DataFrame reductions (with 'numeric_only=None') is deprecated; in a future version this will raise TypeError.  Select only valid columns before calling the reduction.\n",
      "  df_list[0].mean(axis=1)\n"
     ]
    },
    {
     "data": {
      "text/plain": [
       "0     2.0\n",
       "1    11.0\n",
       "2     1.0\n",
       "dtype: float64"
      ]
     },
     "execution_count": 10,
     "metadata": {},
     "output_type": "execute_result"
    }
   ],
   "source": [
    "df_list[0].mean(axis=1)"
   ]
  },
  {
   "cell_type": "markdown",
   "id": "ef20a20f",
   "metadata": {},
   "source": [
    "and this is not well labeled.\n",
    "\n",
    "\n",
    "Let's try the next one."
   ]
  },
  {
   "cell_type": "code",
   "execution_count": 11,
   "id": "978399c1",
   "metadata": {},
   "outputs": [
    {
     "name": "stderr",
     "output_type": "stream",
     "text": [
      "/tmp/ipykernel_2091/1105758803.py:1: FutureWarning: The default value of numeric_only in DataFrame.mean is deprecated. In a future version, it will default to False. In addition, specifying 'numeric_only=None' is deprecated. Select only valid columns or specify the value of numeric_only to silence this warning.\n",
      "  df_list[1].mean()\n"
     ]
    },
    {
     "data": {
      "text/plain": [
       "John Smith      -1.0\n",
       "Jane Doe        13.5\n",
       "Mary Johnson     2.0\n",
       "dtype: float64"
      ]
     },
     "execution_count": 11,
     "metadata": {},
     "output_type": "execute_result"
    }
   ],
   "source": [
    "df_list[1].mean()"
   ]
  },
  {
   "cell_type": "markdown",
   "id": "8608b949",
   "metadata": {},
   "source": [
    "Now we get the average per person, but what about per treatment? again we have to go across rows instead."
   ]
  },
  {
   "cell_type": "code",
   "execution_count": 12,
   "id": "0cbbb973",
   "metadata": {},
   "outputs": [
    {
     "name": "stderr",
     "output_type": "stream",
     "text": [
      "/tmp/ipykernel_2091/1112167831.py:1: FutureWarning: Dropping of nuisance columns in DataFrame reductions (with 'numeric_only=None') is deprecated; in a future version this will raise TypeError.  Select only valid columns before calling the reduction.\n",
      "  df_list[1].mean(axis=1)\n"
     ]
    },
    {
     "data": {
      "text/plain": [
       "0    9.5\n",
       "1    6.0\n",
       "dtype: float64"
      ]
     },
     "execution_count": 12,
     "metadata": {},
     "output_type": "execute_result"
    }
   ],
   "source": [
    "df_list[1].mean(axis=1)"
   ]
  },
  {
   "cell_type": "markdown",
   "id": "03e4121d",
   "metadata": {},
   "source": [
    "For the third one, however, we can use groupby"
   ]
  },
  {
   "cell_type": "code",
   "execution_count": 13,
   "id": "ff3c484d",
   "metadata": {},
   "outputs": [
    {
     "name": "stderr",
     "output_type": "stream",
     "text": [
      "/tmp/ipykernel_2091/906930014.py:1: FutureWarning: The default value of numeric_only in DataFrameGroupBy.mean is deprecated. In a future version, numeric_only will default to False. Either specify numeric_only or select only columns which should be valid for the function.\n",
      "  df_list[2].groupby('person').mean()\n"
     ]
    },
    {
     "data": {
      "text/html": [
       "<div>\n",
       "<style scoped>\n",
       "    .dataframe tbody tr th:only-of-type {\n",
       "        vertical-align: middle;\n",
       "    }\n",
       "\n",
       "    .dataframe tbody tr th {\n",
       "        vertical-align: top;\n",
       "    }\n",
       "\n",
       "    .dataframe thead th {\n",
       "        text-align: right;\n",
       "    }\n",
       "</style>\n",
       "<table border=\"1\" class=\"dataframe\">\n",
       "  <thead>\n",
       "    <tr style=\"text-align: right;\">\n",
       "      <th></th>\n",
       "      <th>result</th>\n",
       "    </tr>\n",
       "    <tr>\n",
       "      <th>person</th>\n",
       "      <th></th>\n",
       "    </tr>\n",
       "  </thead>\n",
       "  <tbody>\n",
       "    <tr>\n",
       "      <th>Jane Doe</th>\n",
       "      <td>805.5</td>\n",
       "    </tr>\n",
       "    <tr>\n",
       "      <th>John Smith</th>\n",
       "      <td>-1.0</td>\n",
       "    </tr>\n",
       "    <tr>\n",
       "      <th>Mary Johnson</th>\n",
       "      <td>15.5</td>\n",
       "    </tr>\n",
       "  </tbody>\n",
       "</table>\n",
       "</div>"
      ],
      "text/plain": [
       "              result\n",
       "person              \n",
       "Jane Doe       805.5\n",
       "John Smith      -1.0\n",
       "Mary Johnson    15.5"
      ]
     },
     "execution_count": 13,
     "metadata": {},
     "output_type": "execute_result"
    }
   ],
   "source": [
    "df_list[2].groupby('person').mean()"
   ]
  },
  {
   "cell_type": "code",
   "execution_count": 14,
   "id": "39c0b277",
   "metadata": {},
   "outputs": [
    {
     "name": "stderr",
     "output_type": "stream",
     "text": [
      "/tmp/ipykernel_2091/2480310521.py:1: FutureWarning: The default value of numeric_only in DataFrameGroupBy.mean is deprecated. In a future version, numeric_only will default to False. Either specify numeric_only or select only columns which should be valid for the function.\n",
      "  df_list[2].groupby('treatment').mean()\n"
     ]
    },
    {
     "data": {
      "text/html": [
       "<div>\n",
       "<style scoped>\n",
       "    .dataframe tbody tr th:only-of-type {\n",
       "        vertical-align: middle;\n",
       "    }\n",
       "\n",
       "    .dataframe tbody tr th {\n",
       "        vertical-align: top;\n",
       "    }\n",
       "\n",
       "    .dataframe thead th {\n",
       "        text-align: right;\n",
       "    }\n",
       "</style>\n",
       "<table border=\"1\" class=\"dataframe\">\n",
       "  <thead>\n",
       "    <tr style=\"text-align: right;\">\n",
       "      <th></th>\n",
       "      <th>result</th>\n",
       "    </tr>\n",
       "    <tr>\n",
       "      <th>treatment</th>\n",
       "      <th></th>\n",
       "    </tr>\n",
       "  </thead>\n",
       "  <tbody>\n",
       "    <tr>\n",
       "      <th>a</th>\n",
       "      <td>-54.333333</td>\n",
       "    </tr>\n",
       "    <tr>\n",
       "      <th>b</th>\n",
       "      <td>703.666667</td>\n",
       "    </tr>\n",
       "  </tbody>\n",
       "</table>\n",
       "</div>"
      ],
      "text/plain": [
       "               result\n",
       "treatment            \n",
       "a          -54.333333\n",
       "b          703.666667"
      ]
     },
     "execution_count": 14,
     "metadata": {},
     "output_type": "execute_result"
    }
   ],
   "source": [
    "df_list[2].groupby('treatment').mean()"
   ]
  },
  {
   "cell_type": "markdown",
   "id": "d5ee6c5d",
   "metadata": {},
   "source": [
    "The original [Tidy Data](https://www.jstatsoft.org/article/view/v059i10) paper is worth reading to build a deeper understanding of these ideas.  \n",
    "\n",
    "\n",
    "## Tidying Data\n",
    "\n",
    "\n",
    "Let's reshape the first one to match the tidy one. First, we\n",
    "will save it to a DataFrame, this makes things easier to read\n",
    "and enables us to use the built in help in jupyter, because it can't check types too many levels into a data structure."
   ]
  },
  {
   "cell_type": "code",
   "execution_count": 15,
   "id": "b95191ad",
   "metadata": {},
   "outputs": [],
   "source": [
    "treat_df = df_list[0]"
   ]
  },
  {
   "cell_type": "markdown",
   "id": "b48600f3",
   "metadata": {},
   "source": [
    "Let's look at it again, so we can see"
   ]
  },
  {
   "cell_type": "code",
   "execution_count": 16,
   "id": "c86221f1",
   "metadata": {},
   "outputs": [
    {
     "data": {
      "text/html": [
       "<div>\n",
       "<style scoped>\n",
       "    .dataframe tbody tr th:only-of-type {\n",
       "        vertical-align: middle;\n",
       "    }\n",
       "\n",
       "    .dataframe tbody tr th {\n",
       "        vertical-align: top;\n",
       "    }\n",
       "\n",
       "    .dataframe thead th {\n",
       "        text-align: right;\n",
       "    }\n",
       "</style>\n",
       "<table border=\"1\" class=\"dataframe\">\n",
       "  <thead>\n",
       "    <tr style=\"text-align: right;\">\n",
       "      <th></th>\n",
       "      <th>name</th>\n",
       "      <th>treatmenta</th>\n",
       "      <th>treatmentb</th>\n",
       "    </tr>\n",
       "  </thead>\n",
       "  <tbody>\n",
       "    <tr>\n",
       "      <th>0</th>\n",
       "      <td>John Smith</td>\n",
       "      <td>-</td>\n",
       "      <td>2</td>\n",
       "    </tr>\n",
       "    <tr>\n",
       "      <th>1</th>\n",
       "      <td>Jane Doe</td>\n",
       "      <td>16</td>\n",
       "      <td>11</td>\n",
       "    </tr>\n",
       "    <tr>\n",
       "      <th>2</th>\n",
       "      <td>Mary Johnson</td>\n",
       "      <td>3</td>\n",
       "      <td>1</td>\n",
       "    </tr>\n",
       "  </tbody>\n",
       "</table>\n",
       "</div>"
      ],
      "text/plain": [
       "           name treatmenta  treatmentb\n",
       "0    John Smith          -           2\n",
       "1      Jane Doe         16          11\n",
       "2  Mary Johnson          3           1"
      ]
     },
     "execution_count": 16,
     "metadata": {},
     "output_type": "execute_result"
    }
   ],
   "source": [
    "treat_df.head()"
   ]
  },
  {
   "cell_type": "code",
   "execution_count": 17,
   "id": "533b9567",
   "metadata": {},
   "outputs": [
    {
     "data": {
      "text/plain": [
       "Index(['name', 'treatmenta', 'treatmentb'], dtype='object')"
      ]
     },
     "execution_count": 17,
     "metadata": {},
     "output_type": "execute_result"
    }
   ],
   "source": [
    "df_list[0].columns"
   ]
  },
  {
   "cell_type": "code",
   "execution_count": 18,
   "id": "8379b1a6",
   "metadata": {},
   "outputs": [],
   "source": [
    "df_a = df_list[0]"
   ]
  },
  {
   "cell_type": "code",
   "execution_count": 19,
   "id": "0852abdb",
   "metadata": {},
   "outputs": [
    {
     "data": {
      "text/html": [
       "<div>\n",
       "<style scoped>\n",
       "    .dataframe tbody tr th:only-of-type {\n",
       "        vertical-align: middle;\n",
       "    }\n",
       "\n",
       "    .dataframe tbody tr th {\n",
       "        vertical-align: top;\n",
       "    }\n",
       "\n",
       "    .dataframe thead th {\n",
       "        text-align: right;\n",
       "    }\n",
       "</style>\n",
       "<table border=\"1\" class=\"dataframe\">\n",
       "  <thead>\n",
       "    <tr style=\"text-align: right;\">\n",
       "      <th></th>\n",
       "      <th>name</th>\n",
       "      <th>treatment</th>\n",
       "      <th>result</th>\n",
       "    </tr>\n",
       "  </thead>\n",
       "  <tbody>\n",
       "    <tr>\n",
       "      <th>0</th>\n",
       "      <td>John Smith</td>\n",
       "      <td>treatmenta</td>\n",
       "      <td>-</td>\n",
       "    </tr>\n",
       "    <tr>\n",
       "      <th>1</th>\n",
       "      <td>Jane Doe</td>\n",
       "      <td>treatmenta</td>\n",
       "      <td>16</td>\n",
       "    </tr>\n",
       "    <tr>\n",
       "      <th>2</th>\n",
       "      <td>Mary Johnson</td>\n",
       "      <td>treatmenta</td>\n",
       "      <td>3</td>\n",
       "    </tr>\n",
       "    <tr>\n",
       "      <th>3</th>\n",
       "      <td>John Smith</td>\n",
       "      <td>treatmentb</td>\n",
       "      <td>2</td>\n",
       "    </tr>\n",
       "    <tr>\n",
       "      <th>4</th>\n",
       "      <td>Jane Doe</td>\n",
       "      <td>treatmentb</td>\n",
       "      <td>11</td>\n",
       "    </tr>\n",
       "    <tr>\n",
       "      <th>5</th>\n",
       "      <td>Mary Johnson</td>\n",
       "      <td>treatmentb</td>\n",
       "      <td>1</td>\n",
       "    </tr>\n",
       "  </tbody>\n",
       "</table>\n",
       "</div>"
      ],
      "text/plain": [
       "           name   treatment result\n",
       "0    John Smith  treatmenta      -\n",
       "1      Jane Doe  treatmenta     16\n",
       "2  Mary Johnson  treatmenta      3\n",
       "3    John Smith  treatmentb      2\n",
       "4      Jane Doe  treatmentb     11\n",
       "5  Mary Johnson  treatmentb      1"
      ]
     },
     "execution_count": 19,
     "metadata": {},
     "output_type": "execute_result"
    }
   ],
   "source": [
    "df_a.melt(id_vars=['name'],value_vars=['treatmenta','treatmentb'],\n",
    "          value_name='result',var_name='treatment')"
   ]
  },
  {
   "cell_type": "markdown",
   "id": "6077f2dd",
   "metadata": {},
   "source": [
    "When we melt a dataset:\n",
    "- the `id_vars` stay as columns\n",
    "- the data from the `value_vars` columns become the values in the `value` column\n",
    "- the column names from the `value_vars` become the values in the `variable` column\n",
    "- we can rename the value and the variable columns.\n",
    "\n",
    "Let's do it for our coffee data:"
   ]
  },
  {
   "cell_type": "code",
   "execution_count": 20,
   "id": "a381dfa9",
   "metadata": {},
   "outputs": [],
   "source": [
    "arabica_data_url = 'https://raw.githubusercontent.com/jldbc/coffee-quality-database/master/data/arabica_data_cleaned.csv'"
   ]
  },
  {
   "cell_type": "code",
   "execution_count": 21,
   "id": "9ac4fdbb",
   "metadata": {},
   "outputs": [],
   "source": [
    "coffee_df = pd.read_csv(arabica_data_url)\n",
    "scores_of_interest = ['Balance','Aroma','Body','Aftertaste']"
   ]
  },
  {
   "cell_type": "code",
   "execution_count": 22,
   "id": "5c4a495b",
   "metadata": {},
   "outputs": [
    {
     "data": {
      "text/html": [
       "<div>\n",
       "<style scoped>\n",
       "    .dataframe tbody tr th:only-of-type {\n",
       "        vertical-align: middle;\n",
       "    }\n",
       "\n",
       "    .dataframe tbody tr th {\n",
       "        vertical-align: top;\n",
       "    }\n",
       "\n",
       "    .dataframe thead th {\n",
       "        text-align: right;\n",
       "    }\n",
       "</style>\n",
       "<table border=\"1\" class=\"dataframe\">\n",
       "  <thead>\n",
       "    <tr style=\"text-align: right;\">\n",
       "      <th></th>\n",
       "      <th>Country.of.Origin</th>\n",
       "      <th>Color</th>\n",
       "      <th>Score</th>\n",
       "      <th>value</th>\n",
       "    </tr>\n",
       "  </thead>\n",
       "  <tbody>\n",
       "    <tr>\n",
       "      <th>0</th>\n",
       "      <td>Ethiopia</td>\n",
       "      <td>Green</td>\n",
       "      <td>Balance</td>\n",
       "      <td>8.42</td>\n",
       "    </tr>\n",
       "    <tr>\n",
       "      <th>1</th>\n",
       "      <td>Ethiopia</td>\n",
       "      <td>Green</td>\n",
       "      <td>Balance</td>\n",
       "      <td>8.42</td>\n",
       "    </tr>\n",
       "    <tr>\n",
       "      <th>2</th>\n",
       "      <td>Guatemala</td>\n",
       "      <td>NaN</td>\n",
       "      <td>Balance</td>\n",
       "      <td>8.42</td>\n",
       "    </tr>\n",
       "    <tr>\n",
       "      <th>3</th>\n",
       "      <td>Ethiopia</td>\n",
       "      <td>Green</td>\n",
       "      <td>Balance</td>\n",
       "      <td>8.25</td>\n",
       "    </tr>\n",
       "    <tr>\n",
       "      <th>4</th>\n",
       "      <td>Ethiopia</td>\n",
       "      <td>Green</td>\n",
       "      <td>Balance</td>\n",
       "      <td>8.33</td>\n",
       "    </tr>\n",
       "  </tbody>\n",
       "</table>\n",
       "</div>"
      ],
      "text/plain": [
       "  Country.of.Origin  Color    Score  value\n",
       "0          Ethiopia  Green  Balance   8.42\n",
       "1          Ethiopia  Green  Balance   8.42\n",
       "2         Guatemala    NaN  Balance   8.42\n",
       "3          Ethiopia  Green  Balance   8.25\n",
       "4          Ethiopia  Green  Balance   8.33"
      ]
     },
     "execution_count": 22,
     "metadata": {},
     "output_type": "execute_result"
    }
   ],
   "source": [
    "coffee_tall = coffee_df.melt(id_vars=['Country.of.Origin','Color'],\n",
    "                             value_vars=scores_of_interest\n",
    "               ,var_name = 'Score')\n",
    "coffee_tall.head()"
   ]
  },
  {
   "cell_type": "markdown",
   "id": "7d0de674",
   "metadata": {},
   "source": [
    "Notice that the actual column names inside the `scores_of_interest` variable become the values in the variable column.\n",
    "\n",
    "This one we can plot in more ways:"
   ]
  },
  {
   "cell_type": "code",
   "execution_count": 23,
   "id": "664a770d",
   "metadata": {},
   "outputs": [
    {
     "name": "stderr",
     "output_type": "stream",
     "text": [
      "/tmp/ipykernel_2091/3603277008.py:1: UserWarning: Dataset has 0 variance; skipping density estimate. Pass `warn_singular=False` to disable this warning.\n",
      "  sns.displot(data=coffee_tall, x='value',hue='Country.of.Origin',\n",
      "/tmp/ipykernel_2091/3603277008.py:1: UserWarning: Dataset has 0 variance; skipping density estimate. Pass `warn_singular=False` to disable this warning.\n",
      "  sns.displot(data=coffee_tall, x='value',hue='Country.of.Origin',\n",
      "/tmp/ipykernel_2091/3603277008.py:1: UserWarning: Dataset has 0 variance; skipping density estimate. Pass `warn_singular=False` to disable this warning.\n",
      "  sns.displot(data=coffee_tall, x='value',hue='Country.of.Origin',\n",
      "/tmp/ipykernel_2091/3603277008.py:1: UserWarning: Dataset has 0 variance; skipping density estimate. Pass `warn_singular=False` to disable this warning.\n",
      "  sns.displot(data=coffee_tall, x='value',hue='Country.of.Origin',\n",
      "/tmp/ipykernel_2091/3603277008.py:1: UserWarning: Dataset has 0 variance; skipping density estimate. Pass `warn_singular=False` to disable this warning.\n",
      "  sns.displot(data=coffee_tall, x='value',hue='Country.of.Origin',\n"
     ]
    },
    {
     "data": {
      "text/plain": [
       "<seaborn.axisgrid.FacetGrid at 0x7fe96985ae50>"
      ]
     },
     "execution_count": 23,
     "metadata": {},
     "output_type": "execute_result"
    },
    {
     "data": {
      "image/png": "[encoded data removed]",
      "text/plain": [
       "<Figure size 1249.25x1000 with 4 Axes>"
      ]
     },
     "metadata": {
      "filenames": {
       "image/png": "/home/runner/work/BrownFall22/BrownFall22/_build/jupyter_execute/notes/2022-09-26_33_2.png"
      }
     },
     "output_type": "display_data"
    }
   ],
   "source": [
    "sns.displot(data=coffee_tall, x='value',hue='Country.of.Origin',\n",
    "            col='Score',kind='kde',col_wrap=2)"
   ]
  },
  {
   "cell_type": "markdown",
   "id": "e25e5a9a",
   "metadata": {},
   "source": [
    "## Filtering Data"
   ]
  },
  {
   "cell_type": "code",
   "execution_count": 24,
   "id": "ba5b4e5f",
   "metadata": {},
   "outputs": [
    {
     "data": {
      "text/plain": [
       "(368, 44)"
      ]
     },
     "execution_count": 24,
     "metadata": {},
     "output_type": "execute_result"
    }
   ],
   "source": [
    "high_prod = coffee_df[coffee_df['Number.of.Bags']>250]\n",
    "high_prod.shape"
   ]
  },
  {
   "cell_type": "code",
   "execution_count": 25,
   "id": "3e84da86",
   "metadata": {},
   "outputs": [
    {
     "data": {
      "text/plain": [
       "(1311, 44)"
      ]
     },
     "execution_count": 25,
     "metadata": {},
     "output_type": "execute_result"
    }
   ],
   "source": [
    "coffee_df.shape"
   ]
  },
  {
   "cell_type": "markdown",
   "id": "325f655e",
   "metadata": {},
   "source": [
    "We see that filters and reduces.  We can use any boolean expression in the square brackets."
   ]
  },
  {
   "cell_type": "code",
   "execution_count": 26,
   "id": "17f0e83b",
   "metadata": {},
   "outputs": [
    {
     "data": {
      "text/plain": [
       "(252, 44)"
      ]
     },
     "execution_count": 26,
     "metadata": {},
     "output_type": "execute_result"
    }
   ],
   "source": [
    "top_balance = coffee_df[coffee_df['Balance']>coffee_df['Balance'].quantile(.75)]\n",
    "top_balance.shape"
   ]
  },
  {
   "cell_type": "markdown",
   "id": "fda7f187",
   "metadata": {},
   "source": [
    "We can confirm that we got only the top 25% of balance scores:"
   ]
  },
  {
   "cell_type": "code",
   "execution_count": 27,
   "id": "40ed73a4",
   "metadata": {},
   "outputs": [
    {
     "data": {
      "text/html": [
       "<div>\n",
       "<style scoped>\n",
       "    .dataframe tbody tr th:only-of-type {\n",
       "        vertical-align: middle;\n",
       "    }\n",
       "\n",
       "    .dataframe tbody tr th {\n",
       "        vertical-align: top;\n",
       "    }\n",
       "\n",
       "    .dataframe thead th {\n",
       "        text-align: right;\n",
       "    }\n",
       "</style>\n",
       "<table border=\"1\" class=\"dataframe\">\n",
       "  <thead>\n",
       "    <tr style=\"text-align: right;\">\n",
       "      <th></th>\n",
       "      <th>Unnamed: 0</th>\n",
       "      <th>Number.of.Bags</th>\n",
       "      <th>Aroma</th>\n",
       "      <th>Flavor</th>\n",
       "      <th>Aftertaste</th>\n",
       "      <th>Acidity</th>\n",
       "      <th>Body</th>\n",
       "      <th>Balance</th>\n",
       "      <th>Uniformity</th>\n",
       "      <th>Clean.Cup</th>\n",
       "      <th>Sweetness</th>\n",
       "      <th>Cupper.Points</th>\n",
       "      <th>Total.Cup.Points</th>\n",
       "      <th>Moisture</th>\n",
       "      <th>Category.One.Defects</th>\n",
       "      <th>Quakers</th>\n",
       "      <th>Category.Two.Defects</th>\n",
       "      <th>altitude_low_meters</th>\n",
       "      <th>altitude_high_meters</th>\n",
       "      <th>altitude_mean_meters</th>\n",
       "    </tr>\n",
       "  </thead>\n",
       "  <tbody>\n",
       "    <tr>\n",
       "      <th>count</th>\n",
       "      <td>252.000000</td>\n",
       "      <td>252.000000</td>\n",
       "      <td>252.000000</td>\n",
       "      <td>252.000000</td>\n",
       "      <td>252.000000</td>\n",
       "      <td>252.000000</td>\n",
       "      <td>252.000000</td>\n",
       "      <td>252.000000</td>\n",
       "      <td>252.000000</td>\n",
       "      <td>252.000000</td>\n",
       "      <td>252.000000</td>\n",
       "      <td>252.000000</td>\n",
       "      <td>252.00000</td>\n",
       "      <td>252.000000</td>\n",
       "      <td>252.000000</td>\n",
       "      <td>252.000000</td>\n",
       "      <td>252.000000</td>\n",
       "      <td>190.000000</td>\n",
       "      <td>190.000000</td>\n",
       "      <td>190.000000</td>\n",
       "    </tr>\n",
       "    <tr>\n",
       "      <th>mean</th>\n",
       "      <td>273.535714</td>\n",
       "      <td>153.337302</td>\n",
       "      <td>7.808889</td>\n",
       "      <td>7.837659</td>\n",
       "      <td>7.734167</td>\n",
       "      <td>7.824881</td>\n",
       "      <td>7.780159</td>\n",
       "      <td>8.003095</td>\n",
       "      <td>9.885278</td>\n",
       "      <td>9.896667</td>\n",
       "      <td>9.885952</td>\n",
       "      <td>7.865714</td>\n",
       "      <td>84.52504</td>\n",
       "      <td>0.072579</td>\n",
       "      <td>0.361111</td>\n",
       "      <td>0.150794</td>\n",
       "      <td>2.801587</td>\n",
       "      <td>1343.138168</td>\n",
       "      <td>1424.547053</td>\n",
       "      <td>1383.842611</td>\n",
       "    </tr>\n",
       "    <tr>\n",
       "      <th>std</th>\n",
       "      <td>284.249040</td>\n",
       "      <td>126.498576</td>\n",
       "      <td>0.355319</td>\n",
       "      <td>0.318172</td>\n",
       "      <td>0.302481</td>\n",
       "      <td>0.320253</td>\n",
       "      <td>0.317712</td>\n",
       "      <td>0.213056</td>\n",
       "      <td>0.363303</td>\n",
       "      <td>0.470514</td>\n",
       "      <td>0.380433</td>\n",
       "      <td>0.383738</td>\n",
       "      <td>1.91563</td>\n",
       "      <td>0.051682</td>\n",
       "      <td>1.249923</td>\n",
       "      <td>0.692216</td>\n",
       "      <td>4.659771</td>\n",
       "      <td>480.927004</td>\n",
       "      <td>503.063351</td>\n",
       "      <td>484.286247</td>\n",
       "    </tr>\n",
       "    <tr>\n",
       "      <th>min</th>\n",
       "      <td>1.000000</td>\n",
       "      <td>0.000000</td>\n",
       "      <td>5.080000</td>\n",
       "      <td>7.170000</td>\n",
       "      <td>6.920000</td>\n",
       "      <td>7.080000</td>\n",
       "      <td>5.250000</td>\n",
       "      <td>7.830000</td>\n",
       "      <td>6.670000</td>\n",
       "      <td>5.330000</td>\n",
       "      <td>6.670000</td>\n",
       "      <td>5.170000</td>\n",
       "      <td>77.00000</td>\n",
       "      <td>0.000000</td>\n",
       "      <td>0.000000</td>\n",
       "      <td>0.000000</td>\n",
       "      <td>0.000000</td>\n",
       "      <td>1.000000</td>\n",
       "      <td>1.000000</td>\n",
       "      <td>1.000000</td>\n",
       "    </tr>\n",
       "    <tr>\n",
       "      <th>25%</th>\n",
       "      <td>65.750000</td>\n",
       "      <td>12.750000</td>\n",
       "      <td>7.647500</td>\n",
       "      <td>7.670000</td>\n",
       "      <td>7.500000</td>\n",
       "      <td>7.670000</td>\n",
       "      <td>7.670000</td>\n",
       "      <td>7.830000</td>\n",
       "      <td>10.000000</td>\n",
       "      <td>10.000000</td>\n",
       "      <td>10.000000</td>\n",
       "      <td>7.670000</td>\n",
       "      <td>83.42000</td>\n",
       "      <td>0.000000</td>\n",
       "      <td>0.000000</td>\n",
       "      <td>0.000000</td>\n",
       "      <td>0.000000</td>\n",
       "      <td>1162.500000</td>\n",
       "      <td>1200.000000</td>\n",
       "      <td>1200.000000</td>\n",
       "    </tr>\n",
       "    <tr>\n",
       "      <th>50%</th>\n",
       "      <td>171.500000</td>\n",
       "      <td>165.500000</td>\n",
       "      <td>7.780000</td>\n",
       "      <td>7.830000</td>\n",
       "      <td>7.750000</td>\n",
       "      <td>7.830000</td>\n",
       "      <td>7.750000</td>\n",
       "      <td>7.920000</td>\n",
       "      <td>10.000000</td>\n",
       "      <td>10.000000</td>\n",
       "      <td>10.000000</td>\n",
       "      <td>7.830000</td>\n",
       "      <td>84.46000</td>\n",
       "      <td>0.100000</td>\n",
       "      <td>0.000000</td>\n",
       "      <td>0.000000</td>\n",
       "      <td>1.000000</td>\n",
       "      <td>1400.000000</td>\n",
       "      <td>1500.000000</td>\n",
       "      <td>1450.000000</td>\n",
       "    </tr>\n",
       "    <tr>\n",
       "      <th>75%</th>\n",
       "      <td>378.250000</td>\n",
       "      <td>275.000000</td>\n",
       "      <td>8.000000</td>\n",
       "      <td>8.000000</td>\n",
       "      <td>7.920000</td>\n",
       "      <td>8.000000</td>\n",
       "      <td>7.920000</td>\n",
       "      <td>8.080000</td>\n",
       "      <td>10.000000</td>\n",
       "      <td>10.000000</td>\n",
       "      <td>10.000000</td>\n",
       "      <td>8.080000</td>\n",
       "      <td>85.52000</td>\n",
       "      <td>0.110000</td>\n",
       "      <td>0.000000</td>\n",
       "      <td>0.000000</td>\n",
       "      <td>3.000000</td>\n",
       "      <td>1695.000000</td>\n",
       "      <td>1800.000000</td>\n",
       "      <td>1750.000000</td>\n",
       "    </tr>\n",
       "    <tr>\n",
       "      <th>max</th>\n",
       "      <td>1260.000000</td>\n",
       "      <td>360.000000</td>\n",
       "      <td>8.750000</td>\n",
       "      <td>8.830000</td>\n",
       "      <td>8.670000</td>\n",
       "      <td>8.750000</td>\n",
       "      <td>8.580000</td>\n",
       "      <td>8.750000</td>\n",
       "      <td>10.000000</td>\n",
       "      <td>10.000000</td>\n",
       "      <td>10.000000</td>\n",
       "      <td>9.250000</td>\n",
       "      <td>90.58000</td>\n",
       "      <td>0.210000</td>\n",
       "      <td>10.000000</td>\n",
       "      <td>6.000000</td>\n",
       "      <td>40.000000</td>\n",
       "      <td>2560.000000</td>\n",
       "      <td>2560.000000</td>\n",
       "      <td>2560.000000</td>\n",
       "    </tr>\n",
       "  </tbody>\n",
       "</table>\n",
       "</div>"
      ],
      "text/plain": [
       "        Unnamed: 0  Number.of.Bags       Aroma      Flavor  Aftertaste  \\\n",
       "count   252.000000      252.000000  252.000000  252.000000  252.000000   \n",
       "mean    273.535714      153.337302    7.808889    7.837659    7.734167   \n",
       "std     284.249040      126.498576    0.355319    0.318172    0.302481   \n",
       "min       1.000000        0.000000    5.080000    7.170000    6.920000   \n",
       "25%      65.750000       12.750000    7.647500    7.670000    7.500000   \n",
       "50%     171.500000      165.500000    7.780000    7.830000    7.750000   \n",
       "75%     378.250000      275.000000    8.000000    8.000000    7.920000   \n",
       "max    1260.000000      360.000000    8.750000    8.830000    8.670000   \n",
       "\n",
       "          Acidity        Body     Balance  Uniformity   Clean.Cup   Sweetness  \\\n",
       "count  252.000000  252.000000  252.000000  252.000000  252.000000  252.000000   \n",
       "mean     7.824881    7.780159    8.003095    9.885278    9.896667    9.885952   \n",
       "std      0.320253    0.317712    0.213056    0.363303    0.470514    0.380433   \n",
       "min      7.080000    5.250000    7.830000    6.670000    5.330000    6.670000   \n",
       "25%      7.670000    7.670000    7.830000   10.000000   10.000000   10.000000   \n",
       "50%      7.830000    7.750000    7.920000   10.000000   10.000000   10.000000   \n",
       "75%      8.000000    7.920000    8.080000   10.000000   10.000000   10.000000   \n",
       "max      8.750000    8.580000    8.750000   10.000000   10.000000   10.000000   \n",
       "\n",
       "       Cupper.Points  Total.Cup.Points    Moisture  Category.One.Defects  \\\n",
       "count     252.000000         252.00000  252.000000            252.000000   \n",
       "mean        7.865714          84.52504    0.072579              0.361111   \n",
       "std         0.383738           1.91563    0.051682              1.249923   \n",
       "min         5.170000          77.00000    0.000000              0.000000   \n",
       "25%         7.670000          83.42000    0.000000              0.000000   \n",
       "50%         7.830000          84.46000    0.100000              0.000000   \n",
       "75%         8.080000          85.52000    0.110000              0.000000   \n",
       "max         9.250000          90.58000    0.210000             10.000000   \n",
       "\n",
       "          Quakers  Category.Two.Defects  altitude_low_meters  \\\n",
       "count  252.000000            252.000000           190.000000   \n",
       "mean     0.150794              2.801587          1343.138168   \n",
       "std      0.692216              4.659771           480.927004   \n",
       "min      0.000000              0.000000             1.000000   \n",
       "25%      0.000000              0.000000          1162.500000   \n",
       "50%      0.000000              1.000000          1400.000000   \n",
       "75%      0.000000              3.000000          1695.000000   \n",
       "max      6.000000             40.000000          2560.000000   \n",
       "\n",
       "       altitude_high_meters  altitude_mean_meters  \n",
       "count            190.000000            190.000000  \n",
       "mean            1424.547053           1383.842611  \n",
       "std              503.063351            484.286247  \n",
       "min                1.000000              1.000000  \n",
       "25%             1200.000000           1200.000000  \n",
       "50%             1500.000000           1450.000000  \n",
       "75%             1800.000000           1750.000000  \n",
       "max             2560.000000           2560.000000  "
      ]
     },
     "execution_count": 27,
     "metadata": {},
     "output_type": "execute_result"
    }
   ],
   "source": [
    "top_balance.describe()"
   ]
  },
  {
   "cell_type": "markdown",
   "id": "f883d71b",
   "metadata": {},
   "source": [
    "We can also use the `isin` method to filter by comparing to an iterable type"
   ]
  },
  {
   "cell_type": "code",
   "execution_count": 28,
   "id": "cbc85c72",
   "metadata": {},
   "outputs": [],
   "source": [
    "total_per_country = coffee_df.groupby('Country.of.Origin')['Number.of.Bags'].sum()\n",
    "top_countries = total_per_country.sort_values(ascending=False)[:10].index\n",
    "top_coffee_df = coffee_df[coffee_df['Country.of.Origin'].isin(top_countries)]"
   ]
  },
  {
   "cell_type": "markdown",
   "id": "0233205d",
   "metadata": {},
   "source": [
    "## Questions after class\n",
    "\n",
    "\n",
    "\n",
    "\n",
    "### In the data we had about treatment a and treatment b.  Say there was another column that provided information about the age of the people.  Could we create another value variable to or would we put it in the value_vars list along with treatment a and treatmentb?\n",
    "We can have multiple variables as the `id_vars` so that the dataset would have 4 columns instead of 3.\n",
    "\n",
    "\n",
    "### Can we clean data within any row of the data as long as there is a column name for it?\n",
    "Yes\n",
    "\n",
    "### How to clean larger datasets\n",
    "\n",
    "Everything we will learn will work in any context that you can load the dataset into RAM on the computer you are working on; or process it in batches.  \n",
    "\n",
    "\n",
    "### with very large data sets, how can you tell id there are missing values or incorrect types present?\n",
    "\n",
    "We use ways of checking the values, like the `info` method to check the whole column.\n",
    "\n",
    "\n",
    "\n",
    "### Are there any prebuilt methods to identify and remove extreme outliers?\n",
    "\n",
    "There may be, that is a good thing to look in the documentation for.  However, typically the definition of an outlier is best made within context, so the filtering strategy that we just used would be the way to remove them, after doign some EDA.\n",
    "\n",
    "\n",
    "### Is there a specific metric to which a dataset must meet to consider it 'cleaned'?\n",
    "It's \"clean\" when it will work for the analysis you want to do. This means clean enough for one analysis may not be enough for another goal.  Domain expertise is alwasy important.\n",
    "\n",
    "### Are there any packages we may utilize that help us clean data more effectively?\n",
    "\n",
    "\n",
    "### Things we will do later this week:\n",
    "\n",
    "- adding more data to a DataFrame in jupyter notebook?\n",
    "- replace values\n",
    "- deal with NaN values in a dataset?\n",
    "\n",
    "### Next week\n",
    "\n",
    "- What is the difference between different types of merging data frames (inner, outer, left, right, etc)?"
   ]
  }
 ],
 "metadata": {
  "jupytext": {
   "text_representation": {
    "extension": ".md",
    "format_name": "myst",
    "format_version": 0.13,
    "jupytext_version": "1.14.1"
   }
  },
  "kernelspec": {
   "display_name": "Python 3",
   "language": "python",
   "name": "python3"
  },
  "language_info": {
   "codemirror_mode": {
    "name": "ipython",
    "version": 3
   },
   "file_extension": ".py",
   "mimetype": "text/x-python",
   "name": "python",
   "nbconvert_exporter": "python",
   "pygments_lexer": "ipython3",
   "version": "3.9.16"
  },
  "source_map": [
   12,
   30,
   35,
   41,
   47,
   51,
   55,
   59,
   63,
   67,
   70,
   79,
   81,
   83,
   85,
   90,
   92,
   95,
   97,
   102,
   107,
   109,
   120,
   122,
   125,
   129,
   133,
   137,
   140,
   150,
   154,
   159,
   164,
   169,
   172,
   177,
   182,
   184,
   188,
   191,
   193,
   195,
   200,
   204
  ]
 },
 "nbformat": 4,
 "nbformat_minor": 5
}