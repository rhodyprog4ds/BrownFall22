{
 "cells": [
  {
   "cell_type": "markdown",
   "id": "00b85769",
   "metadata": {},
   "source": [
    "# Interpretting Regression"
   ]
  },
  {
   "cell_type": "code",
   "execution_count": 1,
   "id": "0949939c",
   "metadata": {},
   "outputs": [],
   "source": [
    "import matplotlib.pyplot as plt\n",
    "import seaborn as sns\n",
    "import numpy as np\n",
    "import pandas as pd\n",
    "from sklearn import datasets, linear_model\n",
    "from sklearn.metrics import mean_squared_error, r2_score\n",
    "from sklearn.model_selection import cross_val_score\n",
    "from sklearn.model_selection import train_test_split\n",
    "from sklearn.preprocessing import PolynomialFeatures\n",
    "sns.set_theme(font_scale=2,palette='colorblind')"
   ]
  },
  {
   "cell_type": "markdown",
   "id": "58ce185a",
   "metadata": {},
   "source": [
    "## Multivariate Regression\n",
    "\n",
    "We can also load data from Scikit learn.\n",
    "\n",
    "This dataset includes 10 features measured on a given date and an measure of\n",
    "diabetes disease progression measured one year later. The predictor we can train\n",
    "with this data might be someting a doctor uses to calculate a patient's risk."
   ]
  },
  {
   "cell_type": "code",
   "execution_count": 2,
   "id": "24232317",
   "metadata": {},
   "outputs": [],
   "source": [
    "# Load the diabetes dataset\n",
    "diabetes_X, diabetes_y = datasets.load_diabetes(return_X_y=True)\n",
    "X_train,X_test, y_train,y_test = train_test_split(diabetes_X, diabetes_y ,\n",
    "                         test_size=20,random_state=0)"
   ]
  },
  {
   "cell_type": "code",
   "execution_count": 3,
   "id": "73c67b35",
   "metadata": {},
   "outputs": [
    {
     "data": {
      "text/plain": [
       "(422, 10)"
      ]
     },
     "execution_count": 3,
     "metadata": {},
     "output_type": "execute_result"
    }
   ],
   "source": [
    "X_train.shape"
   ]
  },
  {
   "cell_type": "code",
   "execution_count": 4,
   "id": "cd3b2bfd",
   "metadata": {},
   "outputs": [],
   "source": [
    "regr_db = linear_model.LinearRegression()"
   ]
  },
  {
   "cell_type": "code",
   "execution_count": 5,
   "id": "f5ea36c6",
   "metadata": {},
   "outputs": [
    {
     "data": {
      "text/plain": [
       "{'fit_intercept': True, 'copy_X': True, 'n_jobs': None, 'positive': False}"
      ]
     },
     "execution_count": 5,
     "metadata": {},
     "output_type": "execute_result"
    }
   ],
   "source": [
    "regr_db.__dict__"
   ]
  },
  {
   "cell_type": "markdown",
   "id": "3398c38c",
   "metadata": {},
   "source": [
    "We have an empty estimator object at this point and then we can fit it as usual."
   ]
  },
  {
   "cell_type": "code",
   "execution_count": 6,
   "id": "9d121391",
   "metadata": {},
   "outputs": [
    {
     "data": {
      "text/html": [
       "<style>#sk-container-id-1 {color: black;background-color: white;}#sk-container-id-1 pre{padding: 0;}#sk-container-id-1 div.sk-toggleable {background-color: white;}#sk-container-id-1 label.sk-toggleable__label {cursor: pointer;display: block;width: 100%;margin-bottom: 0;padding: 0.3em;box-sizing: border-box;text-align: center;}#sk-container-id-1 label.sk-toggleable__label-arrow:before {content: \"▸\";float: left;margin-right: 0.25em;color: #696969;}#sk-container-id-1 label.sk-toggleable__label-arrow:hover:before {color: black;}#sk-container-id-1 div.sk-estimator:hover label.sk-toggleable__label-arrow:before {color: black;}#sk-container-id-1 div.sk-toggleable__content {max-height: 0;max-width: 0;overflow: hidden;text-align: left;background-color: #f0f8ff;}#sk-container-id-1 div.sk-toggleable__content pre {margin: 0.2em;color: black;border-radius: 0.25em;background-color: #f0f8ff;}#sk-container-id-1 input.sk-toggleable__control:checked~div.sk-toggleable__content {max-height: 200px;max-width: 100%;overflow: auto;}#sk-container-id-1 input.sk-toggleable__control:checked~label.sk-toggleable__label-arrow:before {content: \"▾\";}#sk-container-id-1 div.sk-estimator input.sk-toggleable__control:checked~label.sk-toggleable__label {background-color: #d4ebff;}#sk-container-id-1 div.sk-label input.sk-toggleable__control:checked~label.sk-toggleable__label {background-color: #d4ebff;}#sk-container-id-1 input.sk-hidden--visually {border: 0;clip: rect(1px 1px 1px 1px);clip: rect(1px, 1px, 1px, 1px);height: 1px;margin: -1px;overflow: hidden;padding: 0;position: absolute;width: 1px;}#sk-container-id-1 div.sk-estimator {font-family: monospace;background-color: #f0f8ff;border: 1px dotted black;border-radius: 0.25em;box-sizing: border-box;margin-bottom: 0.5em;}#sk-container-id-1 div.sk-estimator:hover {background-color: #d4ebff;}#sk-container-id-1 div.sk-parallel-item::after {content: \"\";width: 100%;border-bottom: 1px solid gray;flex-grow: 1;}#sk-container-id-1 div.sk-label:hover label.sk-toggleable__label {background-color: #d4ebff;}#sk-container-id-1 div.sk-serial::before {content: \"\";position: absolute;border-left: 1px solid gray;box-sizing: border-box;top: 0;bottom: 0;left: 50%;z-index: 0;}#sk-container-id-1 div.sk-serial {display: flex;flex-direction: column;align-items: center;background-color: white;padding-right: 0.2em;padding-left: 0.2em;position: relative;}#sk-container-id-1 div.sk-item {position: relative;z-index: 1;}#sk-container-id-1 div.sk-parallel {display: flex;align-items: stretch;justify-content: center;background-color: white;position: relative;}#sk-container-id-1 div.sk-item::before, #sk-container-id-1 div.sk-parallel-item::before {content: \"\";position: absolute;border-left: 1px solid gray;box-sizing: border-box;top: 0;bottom: 0;left: 50%;z-index: -1;}#sk-container-id-1 div.sk-parallel-item {display: flex;flex-direction: column;z-index: 1;position: relative;background-color: white;}#sk-container-id-1 div.sk-parallel-item:first-child::after {align-self: flex-end;width: 50%;}#sk-container-id-1 div.sk-parallel-item:last-child::after {align-self: flex-start;width: 50%;}#sk-container-id-1 div.sk-parallel-item:only-child::after {width: 0;}#sk-container-id-1 div.sk-dashed-wrapped {border: 1px dashed gray;margin: 0 0.4em 0.5em 0.4em;box-sizing: border-box;padding-bottom: 0.4em;background-color: white;}#sk-container-id-1 div.sk-label label {font-family: monospace;font-weight: bold;display: inline-block;line-height: 1.2em;}#sk-container-id-1 div.sk-label-container {text-align: center;}#sk-container-id-1 div.sk-container {/* jupyter's `normalize.less` sets `[hidden] { display: none; }` but bootstrap.min.css set `[hidden] { display: none !important; }` so we also need the `!important` here to be able to override the default hidden behavior on the sphinx rendered scikit-learn.org. See: https://github.com/scikit-learn/scikit-learn/issues/21755 */display: inline-block !important;position: relative;}#sk-container-id-1 div.sk-text-repr-fallback {display: none;}</style><div id=\"sk-container-id-1\" class=\"sk-top-container\"><div class=\"sk-text-repr-fallback\"><pre>LinearRegression()</pre><b>In a Jupyter environment, please rerun this cell to show the HTML representation or trust the notebook. <br />On GitHub, the HTML representation is unable to render, please try loading this page with nbviewer.org.</b></div><div class=\"sk-container\" hidden><div class=\"sk-item\"><div class=\"sk-estimator sk-toggleable\"><input class=\"sk-toggleable__control sk-hidden--visually\" id=\"sk-estimator-id-1\" type=\"checkbox\" checked><label for=\"sk-estimator-id-1\" class=\"sk-toggleable__label sk-toggleable__label-arrow\">LinearRegression</label><div class=\"sk-toggleable__content\"><pre>LinearRegression()</pre></div></div></div></div></div>"
      ],
      "text/plain": [
       "LinearRegression()"
      ]
     },
     "execution_count": 6,
     "metadata": {},
     "output_type": "execute_result"
    }
   ],
   "source": [
    "regr_db.fit(X_train,y_train)"
   ]
  },
  {
   "cell_type": "markdown",
   "id": "02f4f3a4",
   "metadata": {},
   "source": [
    "This model predicts what lab measure a patient will have one year in the future\n",
    "based on lab measures in a given day.  Since we see that this is not a very high\n",
    "r2, we can say that this is not a perfect predictor, but a Doctor, who better\n",
    "understands the score would have to help interpret the core."
   ]
  },
  {
   "cell_type": "code",
   "execution_count": 7,
   "id": "67e6e123",
   "metadata": {},
   "outputs": [
    {
     "data": {
      "text/plain": [
       "{'fit_intercept': True,\n",
       " 'copy_X': True,\n",
       " 'n_jobs': None,\n",
       " 'positive': False,\n",
       " 'n_features_in_': 10,\n",
       " 'coef_': array([ -32.30360126, -257.44019182,  513.32582416,  338.46035389,\n",
       "        -766.84661714,  455.83564292,   92.5514199 ,  184.75080624,\n",
       "         734.91009007,   82.72479583]),\n",
       " 'rank_': 10,\n",
       " 'singular_': array([1.95678408, 1.19959858, 1.08212757, 0.95268243, 0.79449825,\n",
       "        0.76416914, 0.71267072, 0.64259342, 0.27343748, 0.0914504 ]),\n",
       " 'intercept_': 152.391853606725}"
      ]
     },
     "execution_count": 7,
     "metadata": {},
     "output_type": "execute_result"
    }
   ],
   "source": [
    "regr_db.__dict__"
   ]
  },
  {
   "cell_type": "markdown",
   "id": "7a45962e",
   "metadata": {},
   "source": [
    "We can look at the estimator again and see what it learned. It describes the model like a line:\n",
    "\n",
    "$$ \\hat{y} = mx+b$$\n",
    "\n",
    "except in this case it's multivariate, so we can write it like:\n",
    "\n",
    "$$ \\hat{y} = \\beta^Tx + \\beta_0 $$\n",
    "\n",
    "where $\\beta$ is the `regr_db.coef_` and $\\beta_0$ is `regr_db.intercept_` and that's a vector multiplication and $\\hat{y}$ is `y_pred` and $y$ is `y_test`.  \n",
    "\n",
    "In scalar form it can be written like\n",
    "\n",
    "$$ \\hat{y} = \\sum_{k=0}^d(x_k*\\beta_k) + \\beta_0$$\n",
    "\n",
    "where there are $d$ features, that is $d$= `len(X_test[k])` and $k$ indexed into it. For example in the below $k=0$"
   ]
  },
  {
   "cell_type": "code",
   "execution_count": 8,
   "id": "2001522b",
   "metadata": {},
   "outputs": [
    {
     "data": {
      "text/plain": [
       "array([ 0.01991321,  0.05068012,  0.10480869,  0.0700723 , -0.03596778,\n",
       "       -0.0266789 , -0.02499266, -0.00259226,  0.00370906,  0.04034337])"
      ]
     },
     "execution_count": 8,
     "metadata": {},
     "output_type": "execute_result"
    }
   ],
   "source": [
    "X_test[0]"
   ]
  },
  {
   "cell_type": "markdown",
   "id": "1b3ae1c1",
   "metadata": {},
   "source": [
    "We can compute the prediction manually:"
   ]
  },
  {
   "cell_type": "code",
   "execution_count": 9,
   "id": "940d0420",
   "metadata": {},
   "outputs": [
    {
     "data": {
      "text/plain": [
       "234.91095893227003"
      ]
     },
     "execution_count": 9,
     "metadata": {},
     "output_type": "execute_result"
    }
   ],
   "source": [
    "sum(regr_db.coef_*X_test[0])  + regr_db.intercept_"
   ]
  },
  {
   "cell_type": "markdown",
   "id": "f2fa1a35",
   "metadata": {},
   "source": [
    "and see that it matches"
   ]
  },
  {
   "cell_type": "code",
   "execution_count": 10,
   "id": "c9357ed8",
   "metadata": {},
   "outputs": [
    {
     "data": {
      "text/plain": [
       "array([234.91095893, 246.81176987])"
      ]
     },
     "execution_count": 10,
     "metadata": {},
     "output_type": "execute_result"
    }
   ],
   "source": [
    "regr_db.predict(X_test[:2])"
   ]
  },
  {
   "cell_type": "code",
   "execution_count": 11,
   "id": "5f1ae362",
   "metadata": {},
   "outputs": [
    {
     "data": {
      "text/plain": [
       "0.5195333332288746"
      ]
     },
     "execution_count": 11,
     "metadata": {},
     "output_type": "execute_result"
    }
   ],
   "source": [
    "regr_db.score(X_test,y_test)"
   ]
  },
  {
   "cell_type": "markdown",
   "id": "7b41d5ba",
   "metadata": {},
   "source": [
    "We can also look at the residuals and see that they are fairly randomly spread out."
   ]
  },
  {
   "cell_type": "code",
   "execution_count": 12,
   "id": "f9630026",
   "metadata": {},
   "outputs": [
    {
     "data": {
      "text/plain": [
       "[<matplotlib.lines.Line2D at 0x7fef25946160>]"
      ]
     },
     "execution_count": 12,
     "metadata": {},
     "output_type": "execute_result"
    },
    {
     "data": {
      "image/png": "[encoded data removed]",
      "text/plain": [
       "<Figure size 640x480 with 1 Axes>"
      ]
     },
     "metadata": {
      "filenames": {
       "image/png": "/home/runner/work/BrownFall22/BrownFall22/_build/jupyter_execute/notes/2022-10-26_19_1.png"
      }
     },
     "output_type": "display_data"
    }
   ],
   "source": [
    "y_pred = regr_db.predict(X_test)\n",
    "plt.scatter(y_test,y_pred)\n",
    "plt.plot(y_pred,y_pred)"
   ]
  },
  {
   "cell_type": "code",
   "execution_count": null,
   "id": "943d2b61",
   "metadata": {},
   "outputs": [],
   "source": []
  },
  {
   "cell_type": "code",
   "execution_count": null,
   "id": "6bfad788",
   "metadata": {},
   "outputs": [],
   "source": []
  },
  {
   "cell_type": "code",
   "execution_count": null,
   "id": "08eb36af",
   "metadata": {},
   "outputs": [],
   "source": []
  },
  {
   "cell_type": "code",
   "execution_count": null,
   "id": "9478ab98",
   "metadata": {},
   "outputs": [],
   "source": []
  },
  {
   "cell_type": "markdown",
   "id": "9be86003",
   "metadata": {},
   "source": [
    "## Questions After Class\n",
    "\n",
    "### Is there a way to calculate p value in addition to r^2?\n",
    "\n",
    "The $R^2$ is a measure of the quality of the regression fit, but a p-value is not.  A p-value implies a broader experimental framework, so it is not included in this object. `sklearn` does have tools that will calculate a p-value when appropriate, but it not built into this estimator object. The [`scipy.stats.linregress`](https://docs.scipy.org/doc/scipy/reference/generated/scipy.stats.linregress.html) estimator does compute a p-value, and allows you to specify under which statistical test you want that p-value computed (two-sized, one-sided greater, or one-sided lesser).  \n",
    "\n",
    "Broadly, p-values are very [frequently misinterpretted and misused](https://www.frontiersin.org/articles/10.3389/fphy.2016.00006/full).  Their use is not common in ML (because they're usually not the right thing) and being actively discouraged in other fields (eg psychology) in favor of more reliable and consistently well interpretted statistics."
   ]
  }
 ],
 "metadata": {
  "jupytext": {
   "text_representation": {
    "extension": ".md",
    "format_name": "myst",
    "format_version": 0.13,
    "jupytext_version": "1.14.1"
   }
  },
  "kernelspec": {
   "display_name": "Python 3",
   "language": "python",
   "name": "python3"
  },
  "language_info": {
   "codemirror_mode": {
    "name": "ipython",
    "version": 3
   },
   "file_extension": ".py",
   "mimetype": "text/x-python",
   "name": "python",
   "nbconvert_exporter": "python",
   "pygments_lexer": "ipython3",
   "version": "3.9.16"
  },
  "source_map": [
   12,
   16,
   27,
   39,
   46,
   50,
   54,
   56,
   61,
   63,
   71,
   73,
   90,
   92,
   95,
   97,
   101,
   105,
   107,
   111,
   118,
   122,
   126,
   130,
   132
  ]
 },
 "nbformat": 4,
 "nbformat_minor": 5
}