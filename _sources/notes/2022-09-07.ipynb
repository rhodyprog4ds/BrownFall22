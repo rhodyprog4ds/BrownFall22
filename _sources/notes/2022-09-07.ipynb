{
 "cells": [
  {
   "cell_type": "markdown",
   "id": "eb5b5c82",
   "metadata": {},
   "source": [
    "# Welcome to Programming to Data Science\n",
    "\n",
    "\n",
    "## Prismia Chat\n",
    "\n",
    "We will use these to monitor your participation in class and to gather information.\n",
    "Features:\n",
    "- instructor only\n",
    "- reply to you directly\n",
    "- share responses for all\n",
    "\n",
    "\n",
    "\n",
    "## How this class will work\n",
    "\n",
    "**Participatory Live Coding**\n",
    "\n",
    "\n",
    "What is a topic you want to use data to learn about?\n",
    "\n",
    "\n",
    "[Debugging is both technical and a soft skill](https://twitter.com/b0rk/status/1403405539971842052?s=19)\n",
    "\n",
    "\n",
    "## Programming for Data Science vs other Programming\n",
    "\n",
    "The audience is different, so the form is different.\n",
    "\n",
    "In Data Science our product is more often a report than a program.\n",
    "\n",
    "````{margin}\n",
    "```{warning}\n",
    "Sometimes there will be points in the notes that were not made in class due to time or in response questions that came at the end of class.\n",
    "```\n",
    "````\n",
    "\n",
    "```{note}\n",
    "Also, in data science we are *using code* to interact with data, instead of having a plan in advance\n",
    "```\n",
    "\n",
    "So programming for data science is more like *writing* it has a narrative flow and is made to be seen more than some other programming thaat you may have done.\n",
    "\n",
    "\n",
    "## Get Organized!\n",
    "\n",
    "In this class you will have many separate folders that your work is in.  The separate folders are *required* because we will use GitHub for submission.\n",
    "\n",
    "I recommend you make a folder for this class and make all of your other folders inside that.\n",
    "\n",
    "Create a separate notes folder in there too.  We will be writing code each class, that you should keep your own notes.\n",
    "\n",
    "\n",
    "```{important}\n",
    "If you made your notebook in a location other than where you want it to be, you can move it like any other file using Finder on mac or File Explorer on Windows.\n",
    "```\n",
    "\n",
    "\n",
    "\n",
    "## Jupyter Notebooks\n",
    "\n",
    "Launch a [`jupyter notebook` server](https://jupyter-notebook.readthedocs.io/en/stable/notebook.html):\n",
    "- on Windows, use anaconda terminal\n",
    "- on Mac/Linux, use terminal\n",
    "\n",
    "```\n",
    "cd path/to/where/you/save/notes\n",
    "jupyter notebook\n",
    "```\n",
    "\n",
    "\n",
    "### What just happened?\n",
    "- launched a local web server\n",
    "- opened a new browser tab pointed to it\n",
    "\n",
    "![a diagram depicting a terminal window launching a local web server that reports back to the terminal and serves jupyter in the browser](https://raw.githubusercontent.com/rhodyprog4ds/rhodyds/main/img/jupyter_notebook_running.svg)\n",
    "\n",
    "\n",
    "### Start a Notebook\n",
    "\n",
    "Go to the new menu in the top right and choose Python 3\n",
    "\n",
    "![a screenshot of opening a new notebook in a jupyter noteboook](https://raw.githubusercontent.com/rhodyprog4ds/rhodyds/main/img/new_notebook.png)\n",
    "\n",
    "\n",
    "Now, it starts a python kernel on the webserver\n",
    "![a diagram depicting a terminal window launching a local web server that reports back to the terminal and serves jupyter in the browser, with a python logo on the server](https://raw.githubusercontent.com/rhodyprog4ds/rhodyds/main/img/jupyter_notebook_running_python.svg)\n",
    "\n",
    "\n",
    "\n",
    "### A jupyter notebook tour\n",
    "\n",
    "A Jupyter notebook has two modes. When you first open, it is in command mode. The border is blue in command mode.\n",
    "\n",
    "![screenshot of a code cell in command mode](../img/command_mode.png)\n",
    "\n",
    "When you press a key in command mode it works like a shortcut. For example `p` shows the command search menu.\n",
    "\n",
    "![screenshot of the command menu](../img/command_menu.png)\n",
    "\n",
    "\n",
    "If you press `enter` (or `return`)  or click on the highlighted cell, which is the boxes we can type in,  it changes to edit mode. The border is green in edit mode\n",
    "\n",
    "![screenshot of a code cell in edit mode](../img/code_cell.png)\n",
    "\n",
    "There are two type of cells that we will used: code and markdown. You can change that in command mode with `y` for code and `m` for markdown or on the cell type menu at the top of the notebook.\n",
    "\n",
    "![screenshot of the cell type menu](../img/cell_type_menu.png)\n",
    "\n",
    "++\n",
    "\n",
    "This is a markdown cell\n",
    "- we can make\n",
    "- itemized lists of\n",
    "- bullet points\n",
    "\n",
    "1. and we can make nubmered\n",
    "1. lists, and not have to worry\n",
    "1. about renumbering them\n",
    "1. if we add a step in the middle later"
   ]
  },
  {
   "cell_type": "markdown",
   "id": "e13f2419",
   "metadata": {},
   "source": [
    "### Notebook Reminders\n",
    "\n",
    "Blue border is command mode, green border is edit mode\n",
    "\n",
    "use Escape to get to command mode\n",
    "\n",
    "\n",
    "Common command mode actions:\n",
    "- m: switch cell to markdown\n",
    "- y: switch cell to code\n",
    "- a: add a cell above\n",
    "- b: add a cell below\n",
    "- c: copy cell\n",
    "- v: paste the cell\n",
    "- 0 + 0: restart kernel\n",
    "- p: command menu\n",
    "\n",
    "use enter/return to get to edit mode"
   ]
  },
  {
   "cell_type": "markdown",
   "id": "1885cf4a",
   "metadata": {},
   "source": [
    "In code cells, we can use a python interpreter, for example as a calculator."
   ]
  },
  {
   "cell_type": "code",
   "execution_count": 1,
   "id": "92a93913",
   "metadata": {},
   "outputs": [
    {
     "data": {
      "text/plain": [
       "10"
      ]
     },
     "execution_count": 1,
     "metadata": {},
     "output_type": "execute_result"
    }
   ],
   "source": [
    "4+6"
   ]
  },
  {
   "cell_type": "markdown",
   "id": "09a85ee5",
   "metadata": {},
   "source": [
    "It prints out the last line of code that it ran, even though it executes all of them"
   ]
  },
  {
   "cell_type": "code",
   "execution_count": 2,
   "id": "8d363bcd",
   "metadata": {},
   "outputs": [
    {
     "data": {
      "text/plain": [
       "'sarahsarahsarah'"
      ]
     },
     "execution_count": 2,
     "metadata": {},
     "output_type": "execute_result"
    }
   ],
   "source": [
    "name = 'sarah'\n",
    "4+5\n",
    "name *3"
   ]
  },
  {
   "cell_type": "markdown",
   "id": "203bca15",
   "metadata": {},
   "source": [
    "## Getting Help in Jupyter\n",
    "\n",
    "When your cursor is inside the `()` of a function if you hodl the shift key and press tab it will open a popup with information.\n",
    "\n",
    "Python has a `print` function and we can use the help in jupyter to learn about\n",
    "how to use it in different ways."
   ]
  },
  {
   "cell_type": "code",
   "execution_count": 3,
   "id": "c0f06eee",
   "metadata": {},
   "outputs": [
    {
     "name": "stdout",
     "output_type": "stream",
     "text": [
      "Help on built-in function print in module builtins:\n",
      "\n",
      "print(...)\n",
      "    print(value, ..., sep=' ', end='\\n', file=sys.stdout, flush=False)\n",
      "    \n",
      "    Prints the values to a stream, or to sys.stdout by default.\n",
      "    Optional keyword arguments:\n",
      "    file:  a file-like object (stream); defaults to the current sys.stdout.\n",
      "    sep:   string inserted between values, default a space.\n",
      "    end:   string appended after the last value, default a newline.\n",
      "    flush: whether to forcibly flush the stream.\n",
      "\n"
     ]
    }
   ],
   "source": [
    "help(print)"
   ]
  },
  {
   "cell_type": "markdown",
   "id": "1d13392a",
   "metadata": {},
   "source": [
    "![venn diagram of CS, Stats, & domain expertise with DS at the center](https://raw.githubusercontent.com/rhodyprog4ds/rhodyds/main/img/ds_venn.png)"
   ]
  },
  {
   "cell_type": "code",
   "execution_count": null,
   "id": "1da13375",
   "metadata": {},
   "outputs": [],
   "source": []
  },
  {
   "cell_type": "markdown",
   "id": "19da593f",
   "metadata": {},
   "source": [
    "## Course Administration\n",
    "\n",
    "We will use GitHub for all course administration.\n",
    "\n",
    "- [join to discuss](https://classroom.github.com/a/bac_rR9C)\n",
    "\n",
    "- go to [discussions](https://github.com/rhodyprog4ds/fall-22-discuss-share-community/discussions) and [introduce yourself](https://github.com/rhodyprog4ds/fall-22-discuss-share-community/discussions/1)\n",
    "- [course website](https://rhodyprog4ds.github.io/BrownFall22/)\n",
    "- [Main page with links](https://github.com/rhodyprog4ds)\n",
    "\n",
    "\n",
    "## Prepare for the next class\n",
    "\n",
    "\n",
    "- Read carefully the syllabus section of the [course website](https://rhodyprog4ds.github.io/BrownFall22/)\n",
    "- skim the rest of the [course website](https://rhodyprog4ds.github.io/BrownFall22/)\n",
    "- Bring questions about how the class will work to class on Friday.\n",
    "- Review [Git & GitHub Fundamentals](https://classroom.github.com/a/axURjdPb)\n",
    "- Bring git/github questions on Friday.\n",
    "- Begin reading [chapter 1 of think like a data scientist](https://www.manning.com/books/think-like-a-data-scientist#toc) (finish in time for it to help you with the assignment due Sunday night)\n",
    "\n",
    "On Friday we will start with a review of the syllabus.\n",
    "You will answer an ungraded quiz to confirm that you understand and I'll answer\n",
    "all of your questions.\n",
    "Then we will do a little bit with Git/GitHub and start your first assignment in class.\n",
    "\n",
    "\n",
    "Think like a data scientist is written for practitioners; not as a text book for a class. It does not have a lot of prerequisite background, but the sections of it that I assign will help you build a better mental picture of what doing Data Science about.\n",
    "In chapter 1, focus most on sections 1.1, 1.3, and 1.7.\n",
    "\n",
    "Only the first assignment will be due this fast, it's a short review and setup assignment.  It's due quickly so that we know that you have everything set up and the prerequisite material before we start new material next week.\n",
    "\n",
    "## Questions after class\n",
    "\n",
    "### Grading\n",
    "\n",
    "#### How do the portfolios work? what are the 1/2/3 achievement levels? How is gradint structured?\n",
    "\n",
    "Read the syllabus carefully and we will discuss on Friday\n",
    "\n",
    "#### Will there be any group work?\n",
    "\n",
    "Not in the regular sense of collaborative and shared grade. There will be optional collaboration opportunities and in class discussion/troubleshooting together.\n",
    "\n",
    "### Uses for what we cover\n",
    "\n",
    "#### How in depth does Data Science go, and what can it be used for in the industry?\n",
    "\n",
    "The basic ideas here can be used for any tabular data in industry exactly as we will cover them. At the end of the semester, we will see in less detail how to work with text and images, with a focus on translating what you learned on tabular data (because its low dimensional and easier to see/faster to process) to more complex data.\n",
    "\n",
    "We'll talk more about this on Friday and every time we use a new dataset in class.  \n",
    "\n",
    "#### What is the difference between data analytics and data science? Are analysts and scientists jobs different?\n",
    "\n",
    "This is a hard question. It varies company to company. It is, however, a topic a lot of Data Science Bloggers write about.  If you find some you like, share them on the discussion board or submit a PR.\n",
    "\n",
    "### Logistics\n",
    "\n",
    "#### What is the main site\n",
    "\n",
    "[this is it](https://rhodyprog4ds.github.io/BrownFall22/)\n",
    "\n",
    "#### do these prismia chats stay up after class or go away?\n",
    "\n",
    "They persist. You can scroll back or get a transcript by clicking the `>` in the top left, then the 3 bar menu icon and then \"Get Transcript From Class\"\n",
    "\n",
    "### Tools\n",
    "\n",
    "#### Can we open jupyter notebook server without the terminal?\n",
    "\n",
    "Yes, you can, but I do not use it that way and they change how that works from time to time, so I can only troubleshoot with you via the terminal.\n",
    "\n",
    "#### Which IDE to use? Can we use VSCode?\n",
    "\n",
    "Your will be required to submit jupyter notebooks that are compatible with some other jupyter related tools I use to process them for grading.\n",
    "\n",
    "#### Will we all have a single server to have various notebooks for assignments, or will we be required to make different servers for other assignments?\n",
    "\n",
    "The jupyter notebook web server is something that you will start and stop many times, each working session you'll stop it.  You can run multiple in parallel or use one and open multiple notebooks.\n",
    "\n",
    "#### Will we do any web scraping in this class?\n",
    "\n",
    "Yes\n",
    "\n",
    "#### Will we be able to choose our own data sets when doing assignments?\n",
    "\n",
    "Yes, with some requirements, on most assignments."
   ]
  }
 ],
 "metadata": {
  "jupytext": {
   "text_representation": {
    "extension": ".md",
    "format_name": "myst",
    "format_version": 0.13,
    "jupytext_version": "1.14.1"
   }
  },
  "kernelspec": {
   "display_name": "Python 3",
   "language": "python",
   "name": "python3"
  },
  "language_info": {
   "codemirror_mode": {
    "name": "ipython",
    "version": 3
   },
   "file_extension": ".py",
   "mimetype": "text/x-python",
   "name": "python",
   "nbconvert_exporter": "python",
   "pygments_lexer": "ipython3",
   "version": "3.9.16"
  },
  "source_map": [
   12,
   133,
   152,
   156,
   158,
   161,
   165,
   176,
   178,
   182,
   184
  ]
 },
 "nbformat": 4,
 "nbformat_minor": 5
}